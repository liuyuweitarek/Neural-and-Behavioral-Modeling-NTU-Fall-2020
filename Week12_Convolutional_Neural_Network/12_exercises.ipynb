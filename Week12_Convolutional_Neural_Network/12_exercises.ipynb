{
 "cells": [
  {
   "cell_type": "markdown",
   "metadata": {},
   "source": [
    "# Neural & Behavioral Modeling - Week 12 (Exercises)\n",
    "by 劉昱維 (r08227111@ntu.edu.tw)"
   ]
  },
  {
   "cell_type": "code",
   "execution_count": 137,
   "metadata": {},
   "outputs": [],
   "source": [
    "%config IPCompleter.greedy=True \n",
    "%matplotlib inline\n",
    "from matplotlib.pyplot import *\n",
    "from IPython.display import *\n",
    "import numpy as np\n",
    "from pandas import DataFrame\n",
    "import random\n"
   ]
  },
  {
   "cell_type": "code",
   "execution_count": 138,
   "metadata": {},
   "outputs": [
    {
     "name": "stdout",
     "output_type": "stream",
     "text": [
      "PyTorch version: 0.4.0\n",
      "Device  0 : GeForce GTX 1080 Ti\n",
      "Device  1 : GeForce GTX 1080 Ti\n",
      "Device  2 : GeForce GTX 1080 Ti\n",
      "Device  3 : GeForce GTX 1080 Ti\n",
      "Current: Device  0\n"
     ]
    }
   ],
   "source": [
    "# Check GPU status:\n",
    "import torch as t\n",
    "print('PyTorch version:',t.__version__)\n",
    "use_cuda=t.cuda.is_available()\n",
    "if(use_cuda):\n",
    "    for i in range(t.cuda.device_count()):\n",
    "        print('Device ',i,':',t.cuda.get_device_name(i))\n",
    "    print('Current: Device ',t.cuda.current_device())\n",
    "    t.backends.cudnn.benchmark = True \n",
    "    device = t.device(\"cuda:0\")\n",
    "else:\n",
    "    device = t.device(\"cpu\")\n",
    "    print('No GPU')"
   ]
  },
  {
   "cell_type": "markdown",
   "metadata": {},
   "source": [
    "## 1 Fair Performance Evaluation (5 points)\n",
    "We often compare and assess performances of different model architectures/parameters/hyperparameters. Note that the results are differnt even if you re-run exactly the same code block. This is primarily due to a non-fixed random number seed. Please:\n",
    "\n",
    "(1) run the section 1.2 TEN times and report (a) min, (b) max, (c) mean, & (d) standard deviation of the TESTING accuracies. (3 points)\n",
    "\n",
    "(2) try to fix the random number seeds in numpy & pytorch to see if you can obtain the same results every time in the section 1.2. (2 points)"
   ]
  },
  {
   "cell_type": "markdown",
   "metadata": {},
   "source": [
    "### 1.0 CIFAR-10 dataset"
   ]
  },
  {
   "cell_type": "code",
   "execution_count": 139,
   "metadata": {},
   "outputs": [
    {
     "name": "stdout",
     "output_type": "stream",
     "text": [
      "Files already downloaded and verified\n",
      "Files already downloaded and verified\n"
     ]
    }
   ],
   "source": [
    "# Load the dataset:\n",
    "import torchvision.transforms as transforms\n",
    "from torchvision.datasets import CIFAR10\n",
    "train_set = CIFAR10(root='.', train=True,download=True, transform=transforms.ToTensor())\n",
    "train_data = t.utils.data.DataLoader(train_set, batch_size=32, shuffle=True)\n",
    "test_set = CIFAR10(root='.', train=False,download=True, transform=transforms.ToTensor())\n",
    "test_data = t.utils.data.DataLoader(train_set, batch_size=1000, shuffle=True)\n",
    "classes = ('plane', 'car', 'bird', 'cat', 'deer', 'dog', 'frog', 'horse', 'ship', 'truck')"
   ]
  },
  {
   "cell_type": "markdown",
   "metadata": {},
   "source": [
    "### 1.1 The model"
   ]
  },
  {
   "cell_type": "code",
   "execution_count": 140,
   "metadata": {},
   "outputs": [],
   "source": [
    "# Make the model:\n",
    "import torch.nn as nn\n",
    "import torch.nn.functional as F\n",
    "class Net(nn.Module):\n",
    "    def __init__(self):\n",
    "        super(Net, self).__init__() # = nn.Module.__init__(self)\n",
    "        self.conv1 = nn.Conv2d(3, 6, 5) # in, out, kernel\n",
    "        self.conv2 = nn.Conv2d(6, 16, 5) \n",
    "        self.fc1   = nn.Linear(16*5*5, 120) \n",
    "        self.fc2   = nn.Linear(120, 84)\n",
    "        self.fc3   = nn.Linear(84, 10)\n",
    "    def forward(self, x): # functional expressions\n",
    "        x = F.max_pool2d(F.relu(self.conv1(x)), (2, 2))\n",
    "        x = F.max_pool2d(F.relu(self.conv2(x)), 2) \n",
    "        x = x.view(x.size()[0], -1) \n",
    "        x = F.relu(self.fc1(x))\n",
    "        x = F.relu(self.fc2(x))\n",
    "        x = self.fc3(x)        \n",
    "        return x\n",
    "lenet = Net()\n",
    "lenet = lenet.to(device)\n",
    "loss_fn = t.nn.CrossEntropyLoss()\n",
    "optimizer = t.optim.Adam(lenet.parameters())"
   ]
  },
  {
   "cell_type": "markdown",
   "metadata": {},
   "source": [
    "### 1.2 Training & Testing"
   ]
  },
  {
   "cell_type": "code",
   "execution_count": 5,
   "metadata": {},
   "outputs": [
    {
     "data": {
      "text/html": [
       "<table border=\"1\" class=\"dataframe\">\n",
       "  <thead>\n",
       "    <tr style=\"text-align: right;\">\n",
       "      <th></th>\n",
       "      <th>Epoch_0</th>\n",
       "      <th>Epoch_1</th>\n",
       "      <th>Test_Accuracy</th>\n",
       "    </tr>\n",
       "  </thead>\n",
       "  <tbody>\n",
       "    <tr>\n",
       "      <th>0</th>\n",
       "      <td>0.4375</td>\n",
       "      <td>0.6250</td>\n",
       "      <td>0.508</td>\n",
       "    </tr>\n",
       "    <tr>\n",
       "      <th>1</th>\n",
       "      <td>0.3750</td>\n",
       "      <td>0.8125</td>\n",
       "      <td>0.601</td>\n",
       "    </tr>\n",
       "    <tr>\n",
       "      <th>2</th>\n",
       "      <td>0.6875</td>\n",
       "      <td>0.8125</td>\n",
       "      <td>0.599</td>\n",
       "    </tr>\n",
       "    <tr>\n",
       "      <th>3</th>\n",
       "      <td>0.5625</td>\n",
       "      <td>0.8125</td>\n",
       "      <td>0.637</td>\n",
       "    </tr>\n",
       "    <tr>\n",
       "      <th>4</th>\n",
       "      <td>0.7500</td>\n",
       "      <td>0.5625</td>\n",
       "      <td>0.622</td>\n",
       "    </tr>\n",
       "    <tr>\n",
       "      <th>5</th>\n",
       "      <td>0.6250</td>\n",
       "      <td>0.6875</td>\n",
       "      <td>0.653</td>\n",
       "    </tr>\n",
       "    <tr>\n",
       "      <th>6</th>\n",
       "      <td>0.6250</td>\n",
       "      <td>0.8125</td>\n",
       "      <td>0.675</td>\n",
       "    </tr>\n",
       "    <tr>\n",
       "      <th>7</th>\n",
       "      <td>0.5000</td>\n",
       "      <td>0.5625</td>\n",
       "      <td>0.704</td>\n",
       "    </tr>\n",
       "    <tr>\n",
       "      <th>8</th>\n",
       "      <td>0.7500</td>\n",
       "      <td>0.7500</td>\n",
       "      <td>0.731</td>\n",
       "    </tr>\n",
       "    <tr>\n",
       "      <th>9</th>\n",
       "      <td>0.8750</td>\n",
       "      <td>0.7500</td>\n",
       "      <td>0.704</td>\n",
       "    </tr>\n",
       "  </tbody>\n",
       "</table>"
      ],
      "text/plain": [
       "<IPython.core.display.HTML object>"
      ]
     },
     "metadata": {},
     "output_type": "display_data"
    },
    {
     "data": {
      "text/html": [
       "<table border=\"1\" class=\"dataframe\">\n",
       "  <thead>\n",
       "    <tr style=\"text-align: right;\">\n",
       "      <th></th>\n",
       "      <th>Min</th>\n",
       "      <th>Max</th>\n",
       "      <th>Mean</th>\n",
       "      <th>Standard Deviation</th>\n",
       "    </tr>\n",
       "  </thead>\n",
       "  <tbody>\n",
       "    <tr>\n",
       "      <th>0</th>\n",
       "      <td>0.508</td>\n",
       "      <td>0.731</td>\n",
       "      <td>0.6434</td>\n",
       "      <td>0.065583</td>\n",
       "    </tr>\n",
       "  </tbody>\n",
       "</table>"
      ],
      "text/plain": [
       "<IPython.core.display.HTML object>"
      ]
     },
     "metadata": {},
     "output_type": "display_data"
    }
   ],
   "source": [
    "# Test 10 times\n",
    "epochResult = []\n",
    "for _t in range(10):\n",
    "    _eR = []\n",
    "    # Training:\n",
    "    for e in range(2):\n",
    "        for i, (X_train, Y_train) in enumerate(train_data, 0):\n",
    "            X_train,Y_train=X_train.to(device),Y_train.to(device)\n",
    "            Y_pred = lenet(X_train)\n",
    "            loss = loss_fn(Y_pred, Y_train)\n",
    "            lenet.zero_grad()\n",
    "            loss.backward()\n",
    "            optimizer.step()   \n",
    "            Y_pred = lenet(X_train)\n",
    "            Y_pred = t.max(Y_pred,1)[1]\n",
    "#         print('epoch ',e,':',(Y_pred==Y_train).sum().item()/Y_train.shape[0])\n",
    "        _eR.append((Y_pred==Y_train).sum().item()/Y_train.shape[0])\n",
    "\n",
    "    # Testing on a batch:\n",
    "    dataiter = iter(test_data)\n",
    "    X_test, Y_test = dataiter.next() # returning a batch\n",
    "    X_test,Y_test=X_test.to(device),Y_test.to(device)\n",
    "    with t.no_grad():\n",
    "        Y_pred = lenet(X_test)\n",
    "        Y_pred = t.max(Y_pred,1)[1]\n",
    "#         print('test :',(Y_pred==Y_test).sum().item()/Y_test.shape[0])\n",
    "        _eR.append((Y_pred==Y_test).sum().item()/Y_test.shape[0])\n",
    "    epochResult.append(_eR)\n",
    "\n",
    "# Epoch Result\n",
    "epochdf = DataFrame(epochResult,columns=['Epoch_0','Epoch_1','Test_Accuracy'])\n",
    "display(HTML(epochdf.to_html()))\n",
    "\n",
    "# Static Result\n",
    "staticResult = [[epochdf.loc[:,\"Test_Accuracy\"].min(),\n",
    "                 epochdf.loc[:,\"Test_Accuracy\"].max(),\n",
    "                 epochdf.loc[:,\"Test_Accuracy\"].mean(),\n",
    "                 epochdf.loc[:,\"Test_Accuracy\"].std()\n",
    "                ]]\n",
    "staticdf = DataFrame(staticResult,columns=['Min','Max','Mean','Standard Deviation'])\n",
    "display(HTML(staticdf.to_html()))"
   ]
  },
  {
   "cell_type": "markdown",
   "metadata": {},
   "source": [
    "### 1.3 Your answers\n",
    "想法是模型一開始建立，神經網路層被建立起來，都會random的取出一組數成為initial weight，我們要做的就是將他們固定下來。\n",
    "<br>為的是其他人可以從一樣起始的地方開始訓練，也方便自己在訓練模型時debug。</br>\n",
    "<br>下面固定四件事情：</br>\n",
    "1. fix numpy seed\n",
    "2. fix random seed\n",
    "3. fix pytorch manual_seed\n",
    "4. fix GPU randomize"
   ]
  },
  {
   "cell_type": "code",
   "execution_count": 46,
   "metadata": {},
   "outputs": [
    {
     "data": {
      "text/html": [
       "<table border=\"1\" class=\"dataframe\">\n",
       "  <thead>\n",
       "    <tr style=\"text-align: right;\">\n",
       "      <th></th>\n",
       "      <th>Epoch_0</th>\n",
       "      <th>Epoch_1</th>\n",
       "      <th>Test_Accuracy</th>\n",
       "    </tr>\n",
       "  </thead>\n",
       "  <tbody>\n",
       "    <tr>\n",
       "      <th>0</th>\n",
       "      <td>0.375</td>\n",
       "      <td>0.75</td>\n",
       "      <td>0.514</td>\n",
       "    </tr>\n",
       "    <tr>\n",
       "      <th>1</th>\n",
       "      <td>0.375</td>\n",
       "      <td>0.75</td>\n",
       "      <td>0.514</td>\n",
       "    </tr>\n",
       "    <tr>\n",
       "      <th>2</th>\n",
       "      <td>0.375</td>\n",
       "      <td>0.75</td>\n",
       "      <td>0.514</td>\n",
       "    </tr>\n",
       "    <tr>\n",
       "      <th>3</th>\n",
       "      <td>0.375</td>\n",
       "      <td>0.75</td>\n",
       "      <td>0.514</td>\n",
       "    </tr>\n",
       "    <tr>\n",
       "      <th>4</th>\n",
       "      <td>0.375</td>\n",
       "      <td>0.75</td>\n",
       "      <td>0.514</td>\n",
       "    </tr>\n",
       "    <tr>\n",
       "      <th>5</th>\n",
       "      <td>0.375</td>\n",
       "      <td>0.75</td>\n",
       "      <td>0.514</td>\n",
       "    </tr>\n",
       "    <tr>\n",
       "      <th>6</th>\n",
       "      <td>0.375</td>\n",
       "      <td>0.75</td>\n",
       "      <td>0.514</td>\n",
       "    </tr>\n",
       "    <tr>\n",
       "      <th>7</th>\n",
       "      <td>0.375</td>\n",
       "      <td>0.75</td>\n",
       "      <td>0.514</td>\n",
       "    </tr>\n",
       "    <tr>\n",
       "      <th>8</th>\n",
       "      <td>0.375</td>\n",
       "      <td>0.75</td>\n",
       "      <td>0.514</td>\n",
       "    </tr>\n",
       "    <tr>\n",
       "      <th>9</th>\n",
       "      <td>0.375</td>\n",
       "      <td>0.75</td>\n",
       "      <td>0.514</td>\n",
       "    </tr>\n",
       "  </tbody>\n",
       "</table>"
      ],
      "text/plain": [
       "<IPython.core.display.HTML object>"
      ]
     },
     "metadata": {},
     "output_type": "display_data"
    },
    {
     "data": {
      "text/html": [
       "<table border=\"1\" class=\"dataframe\">\n",
       "  <thead>\n",
       "    <tr style=\"text-align: right;\">\n",
       "      <th></th>\n",
       "      <th>Min</th>\n",
       "      <th>Max</th>\n",
       "      <th>Mean</th>\n",
       "      <th>Standard Deviation</th>\n",
       "    </tr>\n",
       "  </thead>\n",
       "  <tbody>\n",
       "    <tr>\n",
       "      <th>0</th>\n",
       "      <td>0.514</td>\n",
       "      <td>0.514</td>\n",
       "      <td>0.514</td>\n",
       "      <td>1.170278e-16</td>\n",
       "    </tr>\n",
       "  </tbody>\n",
       "</table>"
      ],
      "text/plain": [
       "<IPython.core.display.HTML object>"
      ]
     },
     "metadata": {},
     "output_type": "display_data"
    },
    {
     "name": "stdout",
     "output_type": "stream",
     "text": [
      "#########################  Proof Done!  #########################\n"
     ]
    }
   ],
   "source": [
    "# Test 10 times\n",
    "epochResult = []\n",
    "for _t in range(10):\n",
    "    _eR = []\n",
    "    \n",
    "    # Fix random seed.\n",
    "    seed=1\n",
    "    t.manual_seed(seed)\n",
    "    t.cuda.manual_seed(seed)\n",
    "    t.cuda.manual_seed_all(seed)  # if you are using multi-GPU.\n",
    "    np.random.seed(seed)  # Numpy module.\n",
    "    random.seed(seed)  # Python random module.\n",
    "    t.backends.cudnn.benchmark = True\n",
    "    t.backends.cudnn.deterministic = True\n",
    "    \n",
    "    # Rebuild network\n",
    "    lenet = Net()\n",
    "    lenet = lenet.to(device)\n",
    "    loss_fn = t.nn.CrossEntropyLoss()\n",
    "    optimizer = t.optim.Adam(lenet.parameters())\n",
    "    \n",
    "    # Training:\n",
    "    for e in range(2):\n",
    "        for i, (X_train, Y_train) in enumerate(train_data, 0):\n",
    "            X_train,Y_train=X_train.to(device),Y_train.to(device)\n",
    "            Y_pred = lenet(X_train)\n",
    "            loss = loss_fn(Y_pred, Y_train)\n",
    "            lenet.zero_grad()\n",
    "            loss.backward()\n",
    "            optimizer.step()   \n",
    "            Y_pred = lenet(X_train)\n",
    "            Y_pred = t.max(Y_pred,1)[1]\n",
    "#         print('epoch ',e,':',(Y_pred==Y_train).sum().item()/Y_train.shape[0])\n",
    "        _eR.append((Y_pred==Y_train).sum().item()/Y_train.shape[0])\n",
    "\n",
    "    # Testing on a batch:\n",
    "    dataiter = iter(test_data)\n",
    "    X_test, Y_test = dataiter.next() # returning a batch\n",
    "    X_test,Y_test=X_test.to(device),Y_test.to(device)\n",
    "    with t.no_grad():\n",
    "        Y_pred = lenet(X_test)\n",
    "        Y_pred = t.max(Y_pred,1)[1]\n",
    "#         print('test :',(Y_pred==Y_test).sum().item()/Y_test.shape[0])\n",
    "        _eR.append((Y_pred==Y_test).sum().item()/Y_test.shape[0])\n",
    "    epochResult.append(_eR)\n",
    "\n",
    "# Epoch Result\n",
    "epochdf = DataFrame(epochResult,columns=['Epoch_0','Epoch_1','Test_Accuracy'])\n",
    "display(HTML(epochdf.to_html()))\n",
    "\n",
    "# Static Result\n",
    "staticResult = [[epochdf.loc[:,\"Test_Accuracy\"].min(),\n",
    "                 epochdf.loc[:,\"Test_Accuracy\"].max(),\n",
    "                 epochdf.loc[:,\"Test_Accuracy\"].mean(),\n",
    "                 epochdf.loc[:,\"Test_Accuracy\"].std()\n",
    "                ]]\n",
    "staticdf = DataFrame(staticResult,columns=['Min','Max','Mean','Standard Deviation'])\n",
    "display(HTML(staticdf.to_html()))\n",
    "\n",
    "\n",
    "print(\"#\"*25 + \"  Proof Done!  \" + \"#\"*25)"
   ]
  },
  {
   "cell_type": "markdown",
   "metadata": {},
   "source": [
    "## 2 Universal Approximation Theorem (5 points)\n",
    "\n",
    "Please FAIRLY evaluate whether a deep network learns XOR more efficiently than a shallow network with the same number of model parameters. Please discuss why in either case."
   ]
  },
  {
   "cell_type": "markdown",
   "metadata": {},
   "source": [
    "### 2.0 XOR data"
   ]
  },
  {
   "cell_type": "code",
   "execution_count": 141,
   "metadata": {},
   "outputs": [
    {
     "data": {
      "image/png": "[encoded data removed]",
      "text/plain": [
       "<Figure size 432x288 with 1 Axes>"
      ]
     },
     "metadata": {
      "needs_background": "light"
     },
     "output_type": "display_data"
    }
   ],
   "source": [
    "N=1000 # samples per cluster\n",
    "XY=t.tensor([[5,5],[5,10],[10,5],[10,10]],dtype=t.float32) # 4 cluster centers\n",
    "Z=t.tensor([0,1,1,0]) # category labels\n",
    "t.cat([t.randn(2,1)+XY[0,0],t.randn(2,1)+XY[0,1]],1)\n",
    "xy,z=t.zeros(4*N,2),t.zeros(4*N,dtype=t.int64)\n",
    "for i in range(4):\n",
    "    xy[i*N:(i+1)*N,]=t.rand(N,2)+XY[i,]\n",
    "    z[i*N:(i+1)*N]=Z[i]\n",
    "xy_np=xy.numpy()\n",
    "z_np=z.numpy().astype(int)\n",
    "cmap=np.array([[1,0,0],[0,1,0]])\n",
    "scatter(xy_np[:,0],xy_np[:,1],color=cmap[z_np]);"
   ]
  },
  {
   "cell_type": "markdown",
   "metadata": {},
   "source": [
    "#### 2.1 A shallow net with one hidden layer"
   ]
  },
  {
   "cell_type": "code",
   "execution_count": 142,
   "metadata": {},
   "outputs": [],
   "source": [
    "# Number of free parameters: 2*H+H*2=48\n",
    "shallow = []\n",
    "# Fix seed 讓彼此的Linear layer來自同一組initial weight\n",
    "seed=5\n",
    "t.manual_seed(seed)\n",
    "t.cuda.manual_seed(seed)\n",
    "t.cuda.manual_seed_all(seed)  # if you are using multi-GPU.\n",
    "np.random.seed(seed)  # Numpy module.\n",
    "random.seed(seed)  # Python random module.\n",
    "t.backends.cudnn.benchmark = True\n",
    "t.backends.cudnn.deterministic = True\n",
    "\n",
    "H=12 # number of hidden units\n",
    "\n",
    "model = t.nn.Sequential(\n",
    "    t.nn.Linear(2, H, bias=False),\n",
    "    t.nn.BatchNorm1d(H),\n",
    "    t.nn.ReLU(),\n",
    "    t.nn.Linear(H, 2, bias=False),\n",
    "    t.nn.Softmax(dim=1)\n",
    ")\n",
    "loss_fn = t.nn.CrossEntropyLoss()\n",
    "optimizer = t.optim.Adam(model.parameters())\n",
    "\n",
    "for i in range(500):\n",
    "    z_pred = model(xy)\n",
    "    loss = loss_fn(z_pred,z)\n",
    "    model.zero_grad()\n",
    "    loss.backward()\n",
    "    optimizer.step()\n",
    "    z_pred = model(xy) \n",
    "    z_pred = t.max(z_pred,1)[1]\n",
    "#     print('epoch ',i,':',(z_pred==z).sum().item()/xy.shape[0])\n",
    "    shallow.append((z_pred==z).sum().item()/xy.shape[0])\n"
   ]
  },
  {
   "cell_type": "markdown",
   "metadata": {},
   "source": [
    "#### 2.2 A \"deep\" net with three hidden layers"
   ]
  },
  {
   "cell_type": "code",
   "execution_count": 143,
   "metadata": {},
   "outputs": [],
   "source": [
    "# Number of free parameters: 2*H+H*H+H*H+H*2=48\n",
    "deep_thr = []\n",
    "# Fix seed 讓彼此的Linear layer來自同一組initial weight\n",
    "seed=5\n",
    "t.manual_seed(seed)\n",
    "t.cuda.manual_seed(seed)\n",
    "t.cuda.manual_seed_all(seed)  # if you are using multi-GPU.\n",
    "np.random.seed(seed)  # Numpy module.\n",
    "random.seed(seed)  # Python random module.\n",
    "t.backends.cudnn.benchmark = True\n",
    "t.backends.cudnn.deterministic = True\n",
    "\n",
    "H=4 # number of hidden units\n",
    "model = t.nn.Sequential(\n",
    "    t.nn.Linear(2, H, bias=False),\n",
    "    t.nn.BatchNorm1d(H),\n",
    "    t.nn.ReLU(),\n",
    "    t.nn.Linear(H, H,bias=False),\n",
    "    t.nn.BatchNorm1d(H),\n",
    "    t.nn.ReLU(),\n",
    "    t.nn.Linear(H, H, bias=False),\n",
    "    t.nn.BatchNorm1d(H),\n",
    "    t.nn.ReLU(),\n",
    "    t.nn.Linear(H, 2, bias=False),\n",
    "    t.nn.Softmax(dim=1)\n",
    ")\n",
    "loss_fn = t.nn.CrossEntropyLoss()\n",
    "optimizer = t.optim.Adam(model.parameters())\n",
    "\n",
    "for i in range(500):\n",
    "    z_pred = model(xy)\n",
    "    loss = loss_fn(z_pred,z)\n",
    "    model.zero_grad()\n",
    "    loss.backward()\n",
    "    optimizer.step()\n",
    "    z_pred = model(xy) \n",
    "    z_pred = t.max(z_pred,1)[1]\n",
    "#     print('epoch ',i,':',(z_pred==z).sum().item()/xy.shape[0])\n",
    "    deep_thr.append((z_pred==z).sum().item()/xy.shape[0])"
   ]
  },
  {
   "cell_type": "markdown",
   "metadata": {},
   "source": [
    "#### 2.3 A \"deep\" net with four hidden layers"
   ]
  },
  {
   "cell_type": "code",
   "execution_count": 144,
   "metadata": {},
   "outputs": [],
   "source": [
    "# Number of free parameters: 2*H + H*H + H*H + H*H + H*H + H*2=48\n",
    "deep_four = []\n",
    "# Fix seed 讓彼此的Linear layer來自同一組initial weight\n",
    "seed=5\n",
    "t.manual_seed(seed)\n",
    "t.cuda.manual_seed(seed)\n",
    "t.cuda.manual_seed_all(seed)  # if you are using multi-GPU.\n",
    "np.random.seed(seed)  # Numpy module.\n",
    "random.seed(seed)  # Python random module.\n",
    "t.backends.cudnn.benchmark = True\n",
    "t.backends.cudnn.deterministic = True\n",
    "\n",
    "H=3 # number of hidden units\n",
    "model = t.nn.Sequential(\n",
    "    t.nn.Linear(2, H, bias=False),\n",
    "    t.nn.BatchNorm1d(H),\n",
    "    t.nn.ReLU(),\n",
    "    t.nn.Linear(H, H,bias=False),\n",
    "    t.nn.BatchNorm1d(H),\n",
    "    t.nn.ReLU(),\n",
    "    t.nn.Linear(H, H, bias=False),\n",
    "    t.nn.BatchNorm1d(H),\n",
    "    t.nn.ReLU(),\n",
    "    t.nn.Linear(H, H, bias=False),\n",
    "    t.nn.BatchNorm1d(H),\n",
    "    t.nn.ReLU(),\n",
    "    t.nn.Linear(H, 2, bias=False),\n",
    "    t.nn.Softmax(dim=1)\n",
    ")\n",
    "loss_fn = t.nn.CrossEntropyLoss()\n",
    "optimizer = t.optim.Adam(model.parameters())\n",
    "\n",
    "for i in range(500):\n",
    "    z_pred = model(xy)\n",
    "    loss = loss_fn(z_pred,z)\n",
    "    model.zero_grad()\n",
    "    loss.backward()\n",
    "    optimizer.step()\n",
    "    z_pred = model(xy) \n",
    "    z_pred = t.max(z_pred,1)[1]\n",
    "#     print('epoch ',i,':',(z_pred==z).sum().item()/xy.shape[0])\n",
    "    deep_four.append((z_pred==z).sum().item()/xy.shape[0])"
   ]
  },
  {
   "cell_type": "markdown",
   "metadata": {},
   "source": [
    "#### 2.4 A \"deep\" net with seven hidden layers"
   ]
  },
  {
   "cell_type": "code",
   "execution_count": 145,
   "metadata": {},
   "outputs": [],
   "source": [
    "# Number of free parameters: 2*H + H*H + H*H + H*H + H*H + H*H + H*H + H*H + H*2=48\n",
    "deep_seven = []\n",
    "# Fix seed 讓彼此的Linear layer來自同一組initial weight\n",
    "seed=5\n",
    "t.manual_seed(seed)\n",
    "t.cuda.manual_seed(seed)\n",
    "t.cuda.manual_seed_all(seed)  # if you are using multi-GPU.\n",
    "np.random.seed(seed)  # Numpy module.\n",
    "random.seed(seed)  # Python random module.\n",
    "t.backends.cudnn.benchmark = True\n",
    "t.backends.cudnn.deterministic = True\n",
    "\n",
    "H=2 # number of hidden units\n",
    "model = t.nn.Sequential(\n",
    "    t.nn.Linear(2, H, bias=False),\n",
    "    t.nn.BatchNorm1d(H),\n",
    "    t.nn.ReLU(),\n",
    "    t.nn.Linear(H, H,bias=False),\n",
    "    t.nn.BatchNorm1d(H),\n",
    "    t.nn.ReLU(),\n",
    "    t.nn.Linear(H, H, bias=False),\n",
    "    t.nn.BatchNorm1d(H),\n",
    "    t.nn.ReLU(),\n",
    "    t.nn.Linear(H, H, bias=False),\n",
    "    t.nn.BatchNorm1d(H),\n",
    "    t.nn.ReLU(),\n",
    "    t.nn.Linear(H, H, bias=False),\n",
    "    t.nn.BatchNorm1d(H),\n",
    "    t.nn.ReLU(),\n",
    "    t.nn.Linear(H, H, bias=False),\n",
    "    t.nn.BatchNorm1d(H),\n",
    "    t.nn.ReLU(),\n",
    "    t.nn.Linear(H, H, bias=False),\n",
    "    t.nn.BatchNorm1d(H),\n",
    "    t.nn.ReLU(),\n",
    "    t.nn.Linear(H, 2, bias=False),\n",
    "    t.nn.Softmax(dim=1)\n",
    ")\n",
    "loss_fn = t.nn.CrossEntropyLoss()\n",
    "optimizer = t.optim.Adam(model.parameters())\n",
    "\n",
    "for i in range(500):\n",
    "    z_pred = model(xy)\n",
    "    loss = loss_fn(z_pred,z)\n",
    "    model.zero_grad()\n",
    "    loss.backward()\n",
    "    optimizer.step()\n",
    "    z_pred = model(xy) \n",
    "    z_pred = t.max(z_pred,1)[1]\n",
    "#     print('epoch ',i,':',(z_pred==z).sum().item()/xy.shape[0])\n",
    "    deep_seven.append((z_pred==z).sum().item()/xy.shape[0])"
   ]
  },
  {
   "cell_type": "markdown",
   "metadata": {},
   "source": [
    "### 2.5 Your answers"
   ]
  },
  {
   "cell_type": "markdown",
   "metadata": {},
   "source": [
    "**Shallow Network:** 僅具有**單層**的hidden layer (i.e Input -> hidden layer -> Output)<br>\n",
    "**Deep Network:** 具有**兩層或以上**的hidden layer (i.e Input -> hidden layers -> ...-> Output)<br>\n",
    "問題：在學習XOR問題時，在相同的參數數目底下，使用淺層神經網路，還是深層網路何者比較好，為什麼？<br>\n",
    "作法：<br>\n",
    "1. 固定seed，並做**統計t檢定**看兩者(Shallow VS Deep)的Accuracy有無差異，且誰的平均準確率較高。\n",
    "2. **加深深度**看彼此差異\n",
    "3. 繪圖\n"
   ]
  },
  {
   "cell_type": "code",
   "execution_count": 148,
   "metadata": {},
   "outputs": [],
   "source": [
    "# Parameters\n",
    "# Shallow Network ,H = 12, 2*H+H*2=48, Hidden Layer Num = 1\n",
    "# Deep Network_3, H = 4, 2*H + H*H + H*H + H*2=48, Hidden Layer Num = 3\n",
    "# Deep Network_4, H = 3, 2*H + H*H + H*H + H*H + H*H + H*2=48,Hidden Layer Num = 4\n",
    "# Deep Network_7, H = 2, 2*H + H*H + H*H + H*H + H*H + H*H + H*H + H*H + H*2=48,Hidden Layer Num = 7\n",
    "shallow = np.array(shallow)\n",
    "deep_thr = np.array(deep_thr)\n",
    "deep_four = np.array(deep_four)\n",
    "deep_seven = np.array(deep_seven)\n",
    "\n",
    "def ttest_result(alist, blist, aname, bname):\n",
    "    from scipy.stats import ttest_ind as ttest\n",
    "    df = DataFrame({\"t-test\":[ttest(alist,blist)[0]],\n",
    "                    \"p-value\":[ttest(alist,blist)[1]]})\n",
    "    \n",
    "    if ttest(alist,blist)[1] >= 0.05:\n",
    "            report = '''\n",
    "                    <h1 align='left'><統計檢定報告></h1>\n",
    "                    <h4 align='left'>虛無假設H0: u({0}) = u({1})</h4>\n",
    "                    <h4 align='left'>對立假設H1: u({0}) != u({1})</h4>\n",
    "                    <h4 align='left'>結論:<I>p</I>-value:{2} > 0.05, 接受虛無假設。</h4>\n",
    "                    <h4 align='left'>表示{0}和{1}之間無差異</h4>\n",
    "                    '''.format(aname, bname,round(ttest(shallow,deep_thr)[1],5))\n",
    "    else:\n",
    "            report = '''\n",
    "                    <h1 align='left'><統計檢定報告></h1>\n",
    "                    <h4 align='left'>虛無假設H0: u({0}) = u({1})</h4>\n",
    "                    <h4 align='left'>對立假設H1: u({0}) != u({1})</h4>\n",
    "                    <h4 align='left'>結論:<I>p</I>-value:{2} < 0.05, 拒絕虛無假設。</h4>\n",
    "                    <h4 align='left'>表示{0}和{1}有差異</h4>\n",
    "                    '''.format(aname, bname,round(ttest(shallow,deep_thr)[1],5))\n",
    "            if alist.mean() > blist.mean():\n",
    "                contrast = '''<h4 align='left'>且 {0} 比 {1} 表現好!</h4>\n",
    "                '''.format(aname, bname)\n",
    "            else:\n",
    "                contrast = '''<h4 align='left'>且 {1} 比 {0} 表現好!</h4>\n",
    "                '''.format(aname, bname)\n",
    "    display(HTML(report))\n",
    "    display(HTML(contrast))\n",
    "    display(HTML(df.to_html()))"
   ]
  },
  {
   "cell_type": "markdown",
   "metadata": {},
   "source": [
    "### 2.5.1 Shallow Network V.S Deep Network(3 Hidden Layer) "
   ]
  },
  {
   "cell_type": "code",
   "execution_count": 149,
   "metadata": {},
   "outputs": [
    {
     "data": {
      "text/html": [
       "\n",
       "                    <h1 align='left'><統計檢定報告></h1>\n",
       "                    <h4 align='left'>虛無假設H0: u(Shallow Network) = u(Deep Network(3))</h4>\n",
       "                    <h4 align='left'>對立假設H1: u(Shallow Network) != u(Deep Network(3))</h4>\n",
       "                    <h4 align='left'>結論:<I>p</I>-value:0.0 < 0.05, 拒絕虛無假設。</h4>\n",
       "                    <h4 align='left'>表示Shallow Network和Deep Network(3)有差異</h4>\n",
       "                    "
      ],
      "text/plain": [
       "<IPython.core.display.HTML object>"
      ]
     },
     "metadata": {},
     "output_type": "display_data"
    },
    {
     "data": {
      "text/html": [
       "<h4 align='left'>且 Shallow Network 比 Deep Network(3) 表現好!</h4>\n",
       "                "
      ],
      "text/plain": [
       "<IPython.core.display.HTML object>"
      ]
     },
     "metadata": {},
     "output_type": "display_data"
    },
    {
     "data": {
      "text/html": [
       "<table border=\"1\" class=\"dataframe\">\n",
       "  <thead>\n",
       "    <tr style=\"text-align: right;\">\n",
       "      <th></th>\n",
       "      <th>t-test</th>\n",
       "      <th>p-value</th>\n",
       "    </tr>\n",
       "  </thead>\n",
       "  <tbody>\n",
       "    <tr>\n",
       "      <th>0</th>\n",
       "      <td>34.370047</td>\n",
       "      <td>1.909044e-171</td>\n",
       "    </tr>\n",
       "  </tbody>\n",
       "</table>"
      ],
      "text/plain": [
       "<IPython.core.display.HTML object>"
      ]
     },
     "metadata": {},
     "output_type": "display_data"
    },
    {
     "data": {
      "text/plain": [
       "Text(0, 0.5, 'Accuracy')"
      ]
     },
     "execution_count": 149,
     "metadata": {},
     "output_type": "execute_result"
    },
    {
     "data": {
      "image/png": "[encoded data removed]",
      "text/plain": [
       "<Figure size 864x432 with 1 Axes>"
      ]
     },
     "metadata": {
      "needs_background": "light"
     },
     "output_type": "display_data"
    }
   ],
   "source": [
    "# Statics Result\n",
    "ttest_result(shallow, deep_thr, 'Shallow Network', 'Deep Network(3)')\n",
    "\n",
    "# Plot\n",
    "x = np.arange(500)\n",
    "fig, ax = subplots(nrows=1, ncols=1, figsize=(12,6), sharey=True)\n",
    "ax.plot(x, shallow, 'g')\n",
    "ax.plot(x, deep_thr, 'r', markerfacecolor='None')\n",
    "legend(['Shallow Network', 'Deep Network(3)']);\n",
    "ax.set_title('Shallow Network V.S Deep Network(3 Hidden Layer) ', fontsize=24)\n",
    "ax.tick_params(labelsize=16)\n",
    "ax.set_xlabel('Epoch', fontsize=18)\n",
    "ax.set_ylabel('Accuracy', fontsize=18)"
   ]
  },
  {
   "cell_type": "markdown",
   "metadata": {},
   "source": [
    "### 2.5.2 加深深度"
   ]
  },
  {
   "cell_type": "code",
   "execution_count": 132,
   "metadata": {},
   "outputs": [
    {
     "data": {
      "text/plain": [
       "Text(0, 0.5, 'Accuracy')"
      ]
     },
     "execution_count": 132,
     "metadata": {},
     "output_type": "execute_result"
    },
    {
     "data": {
      "image/png": "[encoded data removed]",
      "text/plain": [
       "<Figure size 864x432 with 1 Axes>"
      ]
     },
     "metadata": {
      "needs_background": "light"
     },
     "output_type": "display_data"
    }
   ],
   "source": [
    "# Plot\n",
    "x = np.arange(500)\n",
    "fig, ax = subplots(nrows=1, ncols=1, figsize=(12,6), sharey=True)\n",
    "ax.plot(x, shallow, 'g')\n",
    "ax.plot(x, deep_thr, 'r', markerfacecolor='None')\n",
    "ax.plot(x, deep_four, 'cornflowerblue', markerfacecolor='None')\n",
    "ax.plot(x, deep_seven, 'black', markerfacecolor='None')\n",
    "legend(['Shallow Network', 'Deep Network(3)','Deep Network(4)','Deep Network(7)']);\n",
    "ax.set_title('Shallow Network V.S Deep Network(3 Hidden Layer) ', fontsize=24)\n",
    "ax.tick_params(labelsize=16)\n",
    "ax.set_xlabel('Epoch', fontsize=18)\n",
    "ax.set_ylabel('Accuracy', fontsize=18)"
   ]
  },
  {
   "cell_type": "markdown",
   "metadata": {},
   "source": [
    "### 結論\n",
    "#### 現象描述:\n",
    "1. Shallow Network在XOR Problem上表現比Deep Network好,使用較少的訓練次數可以達到更好的效果。\n",
    "2. 隨著網路加深以及較多的訓練次數 Deep Network可以慢慢達到較好的學習率。\n",
    "\n",
    "#### 推測:\n",
    "1. 每一層網路會學習到不同的特徵，隨著網路加深，越深的網路學習到越複雜的特徵，也許因為XOR是相對簡單的問題，因此Deep Network較不太能體現能習得複雜特徵的優勢。\n"
   ]
  },
  {
   "cell_type": "code",
   "execution_count": null,
   "metadata": {},
   "outputs": [],
   "source": []
  }
 ],
 "metadata": {
  "kernelspec": {
   "display_name": "Python 3",
   "language": "python",
   "name": "python3"
  },
  "language_info": {
   "codemirror_mode": {
    "name": "ipython",
    "version": 3
   },
   "file_extension": ".py",
   "mimetype": "text/x-python",
   "name": "python",
   "nbconvert_exporter": "python",
   "pygments_lexer": "ipython3",
   "version": "3.7.1"
  },
  "toc": {
   "base_numbering": 1,
   "nav_menu": {},
   "number_sections": true,
   "sideBar": true,
   "skip_h1_title": false,
   "title_cell": "Table of Contents",
   "title_sidebar": "Contents",
   "toc_cell": false,
   "toc_position": {},
   "toc_section_display": true,
   "toc_window_display": false
  }
 },
 "nbformat": 4,
 "nbformat_minor": 2
}
