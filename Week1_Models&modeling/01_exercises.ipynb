{
 "cells": [
  {
   "cell_type": "markdown",
   "metadata": {},
   "source": [
    "# Neural & Behavioral Modeling - Week 1 (Exercises)\n",
    "by 劉昱維(r08227111@ntu.edu.tw)"
   ]
  },
  {
   "cell_type": "code",
   "execution_count": 1,
   "metadata": {},
   "outputs": [],
   "source": [
    "%config IPCompleter.greedy=True \n",
    "%matplotlib inline\n",
    "from numpy import *\n",
    "from matplotlib.pyplot import *\n",
    "from IPython.display import *\n",
    "import sympy as sym "
   ]
  },
  {
   "cell_type": "markdown",
   "metadata": {},
   "source": [
    "## 1 Party Simulation (5 points)\n",
    "This is a model of a cocktail party. The men and women at the party form groups. A party-goer becomes uncomfortable and switches groups if their current group has too many members of the opposite sex."
   ]
  },
  {
   "cell_type": "markdown",
   "metadata": {},
   "source": [
    "### 1.1 Insert your codes to complete the simulation (2 points)"
   ]
  },
  {
   "cell_type": "code",
   "execution_count": 2,
   "metadata": {},
   "outputs": [
    {
     "data": {
      "image/png": "[encoded data removed]",
      "text/plain": [
       "<Figure size 432x288 with 1 Axes>"
      ]
     },
     "metadata": {
      "needs_background": "light"
     },
     "output_type": "display_data"
    }
   ],
   "source": [
    "# Model parameters:\n",
    "Ngroups=10\n",
    "Npeople=100 \n",
    "Tolerance=.5 # tolerable propotion of the opposite sex\n",
    "\n",
    "# Supporting functions:\n",
    "class Person:\n",
    "    def __init__(self, Ngroups):\n",
    "        self.sex = random.randint(2) # 0=woman; 1=man\n",
    "        self.Ngroups=Ngroups\n",
    "        self.group = random.randint(Ngroups) # staying in which group?\n",
    "        \n",
    "    def leave(self):\n",
    "        options=delete(arange(self.Ngroups),self.group) # except the current group\n",
    "        self.group = int(random.choice(options,1)) # choosing a new group\n",
    "    \n",
    "def party_stats(people): # calculate the number of men & women in each group\n",
    "    Npeople=len(people)    \n",
    "    sexes=[people[i].sex for i in range(Npeople)]\n",
    "    groups=[people[i].group for i in range(Npeople)]\n",
    "    #counts=zeros((max(groups)+1,max(sexes)+1))\n",
    "    counts=zeros((Ngroups,2))\n",
    "    proportions=counts.copy()\n",
    "    for p in range(Npeople):\n",
    "        counts[groups[p],sexes[p]]+=1\n",
    "    men_plus_women=sum(counts,1) # number of men and women in each group\n",
    "    men_plus_women[men_plus_women==0]=inf # to avoid \"dividing by zeros later\n",
    "    proportions[:,0]=counts[:,0]/men_plus_women # proportion of women in each group\n",
    "    proportions[:,1]=counts[:,1]/men_plus_women # proportion of men in each group\n",
    "    return counts, proportions # size=group*sex\n",
    "\n",
    "def plot_party(counts):\n",
    "    x=arange(len(counts))+1 # number of groups\n",
    "    clf() # clear previous figure\n",
    "    bar(x, counts[:,0], color = 'r') # women\n",
    "    bar(x, counts[:,1], color = 'b', bottom = counts[:,0]) # men on top of women in the plot\n",
    "    display(gcf()); clear_output(wait=True) # to allow dynamic plots\n",
    "    \n",
    "# Initialization:\n",
    "people = [Person(Ngroups) for i in range(Npeople)] # assign each person to a group\n",
    "Nhappy=0 # Number of happy people\n",
    "counts, proportions=party_stats(people)\n",
    "# Simulation:\n",
    "while(Nhappy<Npeople): # Simulation stops when everyone is happy\n",
    "    Nhappy=0 # recounting after a new move\n",
    "    \n",
    "    # Insert your codes here to make everyone happy:\n",
    "    for _p in people:\n",
    "        if (1 - proportions[_p.group, _p.sex]) > Tolerance: # 若是異性的比例 >容忍度，離開房間\n",
    "            _p.leave()\n",
    "        else:                                               # 若否，則留在房間。快樂人+1\n",
    "            Nhappy += 1\n",
    "    # Plot new results:\n",
    "    counts, proportions=party_stats(people) # size=group*sex\n",
    "    plot_party(counts)"
   ]
  },
  {
   "cell_type": "markdown",
   "metadata": {},
   "source": [
    "### [補] 1.1 Program BUG\n",
    "Line 21: counts = zeros((max(groups)+1,max(sexes)+1))\n",
    "<br>Line 21': counts = zeros((Ngroups,2))</br>\n",
    "<br>主要用來產生 [房間數\\*性別]的矩陣，若是上方亂數產生的性別全為女生(sexes=0),counts將會變成[房間數\\*1]的矩陣，房間數同理，所以應修改成有幾間房，有多少種性別，就填多少。</br>\n"
   ]
  },
  {
   "cell_type": "markdown",
   "metadata": {
    "collapsed": true
   },
   "source": [
    "### 1.2 Modify the three model parameters & discuss how each affects your simulations (2 points)"
   ]
  },
  {
   "cell_type": "markdown",
   "metadata": {},
   "source": [
    "\n",
    "#### [結論] Ngroup越大，Npeople越小，Tolerance越大越容易收斂。\n",
    "1.Tolerance是較為關鍵的收斂要素，當Tolerance小於0.5時，代表當性別比不是1:1時就會有人不滿意而離開房間，因此不易達到收斂；當放寬Tolerance時，則越快達到收斂。\n",
    "<br>2.Ngroup 和 Npeoplee共同影響性別比，若是性別比變化大，則能越快可能達到收斂。</br>\n"
   ]
  },
  {
   "cell_type": "markdown",
   "metadata": {},
   "source": [
    "### 1.3 Discuss why the simulaiton leads to group polarization (1 point)"
   ]
  },
  {
   "cell_type": "markdown",
   "metadata": {},
   "source": [
    "若Tolerance < 0.5表示哪怕房間內男女人數相當，也必定有一方不滿意，便會往單一房間僅有單一性別的方向發展。"
   ]
  },
  {
   "cell_type": "markdown",
   "metadata": {},
   "source": [
    "## 2 Understand Shunting Equation (5 points)\n",
    "\n",
    "$\\frac{dy}{dt}=-Ay+(B-y)*E-(y-C)*I$"
   ]
  },
  {
   "cell_type": "markdown",
   "metadata": {},
   "source": [
    "### 2.1 Find its equilibrium by analytically solving $dy/dt=0$ (1 point)"
   ]
  },
  {
   "cell_type": "markdown",
   "metadata": {},
   "source": [
    "$$ \n",
    "\\begin{align*}  \n",
    " 0 = \\frac{dy}{dt} &= -Ay+(B-y) \\times E-(y-C) \\times I \\\\\n",
    "\\Rightarrow \\quad & y= \\frac{E \\times B + I \\times C}{A+E+I} \n",
    "\\end{align*} \n",
    "$$"
   ]
  },
  {
   "cell_type": "markdown",
   "metadata": {},
   "source": [
    "### 2.2 Use Euler integration to verify your answer in 2.1 with your own (A, B, C, E, I) constants (2 points)\n"
   ]
  },
  {
   "cell_type": "code",
   "execution_count": 3,
   "metadata": {},
   "outputs": [
    {
     "data": {
      "text/plain": [
       "Eq(y(t), (B*E + C*I + exp((C1 - t)*(A + E + I)))/(A + E + I))"
      ]
     },
     "execution_count": 3,
     "metadata": {},
     "output_type": "execute_result"
    }
   ],
   "source": [
    "# Write your simulation codes here\n",
    "\n",
    "# Symbolic Approach\n",
    "t,A,B,C,E,I = sym.symbols('t,A,B,C,E,I')\n",
    "y = sym.Function('y')(t)\n",
    "sym.dsolve(y.diff()+A*y-(B-y)*E+(y-C)*I) # solving dy/dt = 0\n"
   ]
  },
  {
   "cell_type": "markdown",
   "metadata": {},
   "source": [
    "$$\n",
    "\\begin{equation}\n",
    "y(t)=\\frac{B \\times E+  C\\times I+  e^{(C1-t)(A+E+I)}}{A+E+I} \n",
    "\\end{equation} \n",
    "$$\n",
    "Notice:\n",
    "\n",
    "$$ \n",
    "\\begin{equation}\n",
    "(A+E+I)\\ne 0  \\tag{1}\n",
    "\\end{equation} \n",
    "$$\n",
    "\n",
    "$$\n",
    "\\begin{cases}\n",
    "t > C1-\\frac{1}{A+E+I} &,if(A+E+I)>0\\\\\n",
    "t < C1-\\frac{1}{A+E+I} &,if(A+E+I)<0 \\tag{2}\n",
    "\\end{cases}\n",
    "$$"
   ]
  },
  {
   "cell_type": "code",
   "execution_count": 4,
   "metadata": {},
   "outputs": [
    {
     "data": {
      "text/plain": [
       "Text(0.5, 1.0, 'Large Scale')"
      ]
     },
     "execution_count": 4,
     "metadata": {},
     "output_type": "execute_result"
    },
    {
     "data": {
      "image/png": "[encoded data removed]",
      "text/plain": [
       "<Figure size 864x432 with 3 Axes>"
      ]
     },
     "metadata": {
      "needs_background": "light"
     },
     "output_type": "display_data"
    }
   ],
   "source": [
    "#Numerical Approach\n",
    "(A,B,C,E,I,dt,init_y) = (25,0.5,2,15,2,0.01,1)  # Parameters                       \n",
    "C1 = log((init_y*(A+E+I)-B*E-C*I)/(A+E+I))+init_y\n",
    "\n",
    "y = [init_y]                                   # approximation Y List\n",
    "_y = [init_y]                                  # True Y List\n",
    "\n",
    "tmp_dt_0 = 10\n",
    "y_dt_0 = 0                                      # approximate Y position, where dy/dt=0\n",
    "_y_dt_0 = (E*B+I*C)/(A+E+I)                      # Symbolic Y position, where dy/dt=0\n",
    "\n",
    "t = arange(0,10,dt)                            # t=[0,10)\n",
    "for _t in t:\n",
    "    y1 = y[-1]                                 # the last element\n",
    "    y2 = y1 + dt*(-A*y1+(B-y1)*E-(y1-C)*I)     # Euler integretion\n",
    "    \n",
    "    if abs((y2 -y1))/dt < tmp_dt_0:               # find the place where dy/dt is most close to 0\n",
    "        tmp_dt_0 = abs((y2 -y1))/dt\n",
    "        y_dt_0 = y2\n",
    "    _y.append((B*E+C*I+exp((C1-_t)*(A+E+I)))/(A+E+I))\n",
    "    y.append(y2)\n",
    "\n",
    "#Plot\n",
    "fig, axes = subplots(nrows=3, ncols=1, figsize=(12,6), sharey=True)\n",
    "axes[0].set_xlim([0, 10])\n",
    "axes[0].plot(t, _y[0:-1], 'b*')                        # true y\n",
    "axes[0].plot(t, y[0:-1], 'ro', markerfacecolor='None')\n",
    "axes[0].legend(['symbolic', 'numerical'])\n",
    "axes[0].set_title('Small Scale', fontsize=14)\n",
    "\n",
    "axes[1].set_xlim([0, 1])\n",
    "axes[1].set_ylim([0, 10])\n",
    "axes[1].plot(t, _y[0:-1], 'b*')                        # true y\n",
    "axes[1].plot(t, y[0:-1], 'ro', markerfacecolor='None')\n",
    "axes[1].legend(['symbolic', 'numerical'])\n",
    "axes[1].set_title('Medium Scale', fontsize=14)\n",
    "\n",
    "axes[2].set_xlim([0.4, 0.8])\n",
    "axes[2].plot(t, _y[0:-1], 'b*')                        # true y\n",
    "axes[2].plot(t, y[0:-1], 'ro', markerfacecolor='None')\n",
    "axes[2].legend(['symbolic', 'numerical'])\n",
    "axes[2].set_title('Large Scale', fontsize=14)"
   ]
  },
  {
   "cell_type": "code",
   "execution_count": 5,
   "metadata": {},
   "outputs": [
    {
     "name": "stdout",
     "output_type": "stream",
     "text": [
      "Equilibrium_Y:0.27380952380952384\n",
      "Euler_Y:0.27380952380952384\n"
     ]
    },
    {
     "data": {
      "text/plain": [
       "Text(0.5, 1.0, 'Extreme Large Scale')"
      ]
     },
     "execution_count": 5,
     "metadata": {},
     "output_type": "execute_result"
    },
    {
     "data": {
      "image/png": "[encoded data removed]",
      "text/plain": [
       "<Figure size 864x432 with 1 Axes>"
      ]
     },
     "metadata": {
      "needs_background": "light"
     },
     "output_type": "display_data"
    }
   ],
   "source": [
    "print(\"Equilibrium_Y:{0}\".format(_y_dt_0))\n",
    "print(\"Euler_Y:{0}\".format(y_dt_0))\n",
    "fig, ax = subplots(nrows=1, ncols=1, figsize=(12,6), sharey=True)\n",
    "ax.set_xlim([0.62, 0.7])\n",
    "ax.set_ylim([0, 1])\n",
    "ax.axhline(_y_dt_0,color='orange',ls='-')\n",
    "ax.axhline(y_dt_0,color='green',ls='--')\n",
    "ax.plot(t, _y[0:-1], 'b*')                        # true y\n",
    "ax.plot(t, y[0:-1], 'ro', markerfacecolor='None')\n",
    "ax.legend(['equilibrium_Y', 'Euler_Y', 'symbolic', 'numerical'])\n",
    "ax.set_title('Extreme Large Scale', fontsize=14)"
   ]
  },
  {
   "cell_type": "markdown",
   "metadata": {},
   "source": [
    "### 2.3 Combining math & if-then controls in numerical integrations (2 points)\n",
    "\n",
    "Use Euler integration to plot $dy/dt=-y(t)+E$ where\n",
    "$E=\\begin{cases}\n",
    "    1  &  \\text{if } t<5\\\\\n",
    "    0  &  \\text{if } t>5\n",
    "   \\end{cases}$\n",
    "for t=[0,10] & y(t=0)=0.\n",
    "\n",
    "This is an example of time-varying rather than constant excitation."
   ]
  },
  {
   "cell_type": "code",
   "execution_count": 6,
   "metadata": {},
   "outputs": [
    {
     "name": "stdout",
     "output_type": "stream",
     "text": [
      "Solving dy/dt = 0, when t > 5, yg(t)={0} Eq(y(t), C1*exp(-t))\n",
      "Solving dy/dt = 0, when t < 5, yl(t)={0} Eq(y(t), C1*exp(-t) + 1)\n"
     ]
    }
   ],
   "source": [
    "# Write your simulation codes here\n",
    "\n",
    "# Symbolic Approach\n",
    "t = sym.symbols('t')\n",
    "y = sym.Function('y')(t)\n",
    "y_gt_5 = sym.dsolve(y.diff()+y)   #solving dy/dt = 0, when t > 5\n",
    "y_lt_5 = sym.dsolve(y.diff()+y-1) #solving dy/dt = 0, when t < 5\n",
    "print(\"Solving dy/dt = 0, when t > 5, yg(t)={0}\",y_gt_5)\n",
    "print(\"Solving dy/dt = 0, when t < 5, yl(t)={0}\",y_lt_5)\n"
   ]
  },
  {
   "cell_type": "markdown",
   "metadata": {},
   "source": [
    "### 1. 又y(t=0) = 0，所以 y_l(t=0) = 0 :\n",
    "$$\n",
    "\\begin{equation*} \n",
    "\\begin{split}\n",
    "&\\quad \\quad y_l( t=0 ) = 0  \\\\\n",
    "&\\Rightarrow \\quad C1 \\times e^{-t}+1 = 0   \\\\\n",
    "&\\Rightarrow \\quad C1 = -1   \\\\\n",
    "\\end{split}\n",
    "\\end{equation*}\n",
    "$$\n",
    "### 2. 由 C1 = -1:\n",
    "$$\n",
    "\\begin{cases}\n",
    "  y_{g}(t)= -e^{-t}  &\\text{ if } t> 5    \\\\   \n",
    "  y_{l}(t)= -e^{-t}+1  &\\text{ if } t<5  &\\tag{1}\n",
    "\\end{cases}\n",
    "$$\n",
    "### 3. 題目沒有定義 t = 5 的情況，若拔掉t = 5 做Euler Integration，畢竟沒有5的這個點，所以在定義上後面的預測也就都顯得很奇怪。所以將兩種情況都畫出來 。\n",
    "\n",
    "$$\n",
    "\\begin{cases}\n",
    "  y_{g}= -e^{-t}  &\\text{ if } t \\ge 5 \\\\   \n",
    "  y_{l}= -e^{-t}+1  &\\text{ if } t < 5  &\\tag{1-1} \n",
    "\\end{cases} \n",
    "$$\n",
    "\n",
    "$$\n",
    "\\begin{cases}\n",
    "  y_{g}= -e^{-t}  &\\text{ if } t> 5      \\\\ \n",
    "  y_{l}= -e^{-t}+1  &\\text{ if } t \\le 5  &\\tag{1-2} \n",
    "\\end{cases} \n",
    "$$\n"
   ]
  },
  {
   "cell_type": "code",
   "execution_count": 7,
   "metadata": {},
   "outputs": [
    {
     "data": {
      "image/png": "[encoded data removed]",
      "text/plain": [
       "<Figure size 1296x432 with 2 Axes>"
      ]
     },
     "metadata": {
      "needs_background": "light"
     },
     "output_type": "display_data"
    }
   ],
   "source": [
    "# Numerical Approach 1-1\n",
    "dt = .25               # Step Range\n",
    "y = [0]                # approximation Y\n",
    "_y = [0]               # True Y\n",
    "t = arange(0,10,dt)    # t=[0,10]\n",
    "for _t in t:\n",
    "    y1 = y[-1]         # the last element\n",
    "    if _t >= 5:\n",
    "        E = 0\n",
    "        _y.append(-exp(-_t))\n",
    "    else:\n",
    "        E = 1\n",
    "        _y.append(-exp(-_t)+1)\n",
    "    y2 = y1 + dt*(-y1 + E)\n",
    "    y.append(y2)\n",
    "    \n",
    "# Plot\n",
    "fig, axes = subplots(nrows=1, ncols=2, figsize=(18, 6), sharey=True)\n",
    "xlim(0,10)\n",
    "axes[0].plot(t, _y[0:-1], 'b*')                        # true y\n",
    "axes[0].plot(t, y[0:-1], 'ro', markerfacecolor='None') # approximation\n",
    "axes[0].axvline(5,c='g')\n",
    "axes[0].legend(['symbolic', 'numerical', 'x={}'.format(5)]);\n",
    "axes[0].set_title('[1-1] if t=5 ,y(t)=−exp^(-t)', fontsize=20)\n",
    "axes[0].tick_params(labelsize=16)\n",
    "# Numerical Approach 1-2\n",
    "dt = .25               # Step Range\n",
    "y = [0]                # approximation Y\n",
    "_y = [0]               # True Y\n",
    "t = arange(0,10,dt)    # t=[0,10]\n",
    "for _t in t:\n",
    "    y1 = y[-1]         # the last element\n",
    "    if _t > 5:\n",
    "        E = 0\n",
    "        _y.append(-exp(-_t))\n",
    "    else:\n",
    "        E = 1\n",
    "        _y.append(-exp(-_t)+1)\n",
    "    y2 = y1 + dt*(-y1 + E)\n",
    "    y.append(y2)\n",
    "\n",
    "xlim(0,10)\n",
    "axes[1].plot(t, _y[0:-1], 'b*')                        # true y\n",
    "axes[1].plot(t, y[0:-1], 'ro', markerfacecolor='None') # approximation\n",
    "axes[1].axvline(5,c='g')\n",
    "axes[1].legend(['symbolic', 'numerical', 'x={}'.format(5)]);\n",
    "axes[1].set_title('[1-2] if t=5 ,y(t)=−exp^(-t)+1', fontsize=20)\n",
    "axes[1].tick_params(labelsize=16)"
   ]
  },
  {
   "cell_type": "markdown",
   "metadata": {},
   "source": [
    "### 4. 若y_g(t=5) == y_l(t=5):\n",
    "$$\n",
    "\\begin{equation} \n",
    "\\begin{split}\n",
    "&\\quad \\quad y_l( t=5 ) = y_g( t=5 ) \\\\\n",
    "&\\Rightarrow \\quad -e^{-5} + 1= C^{'}e^{-5}   \\\\\n",
    "&\\Rightarrow \\quad C^{'} = e^{5}-1   \\\\  \n",
    "\\end{split}\n",
    "\\end{equation} \n",
    "$$\n",
    "\n",
    "$$\n",
    "\\begin{cases}\n",
    "  y_{g}(t)= (e^{5}-1)e^{-t}  &\\text{ if } t \\ge 5    \\\\   \n",
    "  y_{l}(t)= -e^{-t}+1  &\\text{ if } t<5   \\tag{1-3}\n",
    "\\end{cases}\n",
    "$$"
   ]
  },
  {
   "cell_type": "code",
   "execution_count": 8,
   "metadata": {},
   "outputs": [
    {
     "data": {
      "text/plain": [
       "(array([-0.2,  0. ,  0.2,  0.4,  0.6,  0.8,  1. ,  1.2]),\n",
       " <a list of 8 Text yticklabel objects>)"
      ]
     },
     "execution_count": 8,
     "metadata": {},
     "output_type": "execute_result"
    },
    {
     "data": {
      "image/png": "[encoded data removed]",
      "text/plain": [
       "<Figure size 432x288 with 1 Axes>"
      ]
     },
     "metadata": {
      "needs_background": "light"
     },
     "output_type": "display_data"
    }
   ],
   "source": [
    "# Numerical Approach 1-3\n",
    "dt = .10               # Step Range\n",
    "y = [0]                # approximation Y\n",
    "_y = [0]               # True Y\n",
    "t = arange(0,10,dt)    # t=[0,10]\n",
    "for _t in t:\n",
    "    y1 = y[-1]         # the last element\n",
    "    if _t >= 5:\n",
    "        E = 0\n",
    "        _y.append((exp(5)-1)*exp(-_t))\n",
    "    else:\n",
    "        E = 1\n",
    "        _y.append(-exp(-_t)+1)\n",
    "    y2 = y1 + dt*(-y1 + E)\n",
    "    y.append(y2)\n",
    "\n",
    "xlim(0,10)\n",
    "plot(t, _y[0:-1], 'b*')                        # true y\n",
    "plot(t, y[0:-1], 'ro', markerfacecolor='None') # approximation\n",
    "axvline(5,c='g')\n",
    "legend(['symbolic', 'numerical', 'x={}'.format(5)]);\n",
    "title('[1-3] if y_g(t=5) == y_l(t=5)', fontsize=20)\n",
    "xticks(fontsize=14)\n",
    "yticks(fontsize=14)"
   ]
  },
  {
   "cell_type": "code",
   "execution_count": null,
   "metadata": {},
   "outputs": [],
   "source": []
  }
 ],
 "metadata": {
  "kernelspec": {
   "display_name": "Python 3",
   "language": "python",
   "name": "python3"
  },
  "language_info": {
   "codemirror_mode": {
    "name": "ipython",
    "version": 3
   },
   "file_extension": ".py",
   "mimetype": "text/x-python",
   "name": "python",
   "nbconvert_exporter": "python",
   "pygments_lexer": "ipython3",
   "version": "3.7.1"
  }
 },
 "nbformat": 4,
 "nbformat_minor": 2
}
