{
 "cells": [
  {
   "cell_type": "markdown",
   "metadata": {},
   "source": [
    "# Neural & Behavioral Modeling - Week 1 (Exercises)\n",
    "by 劉昱維(r08227111@ntu.edu.tw)"
   ]
  },
  {
   "cell_type": "code",
   "execution_count": 17,
   "metadata": {},
   "outputs": [],
   "source": [
    "%config IPCompleter.greedy=True \n",
    "%matplotlib inline\n",
    "from numpy import *\n",
    "from matplotlib.pyplot import *\n",
    "from IPython.display import *\n",
    "import sympy as sym"
   ]
  },
  {
   "cell_type": "markdown",
   "metadata": {},
   "source": [
    "## 1 Party Simulation (5 points)\n",
    "This is a model of a cocktail party. The men and women at the party form groups. A party-goer becomes uncomfortable and switches groups if their current group has too many members of the opposite sex."
   ]
  },
  {
   "cell_type": "markdown",
   "metadata": {},
   "source": [
    "### 1.1 Insert your codes to complete the simulation (2 points)"
   ]
  },
  {
   "cell_type": "code",
   "execution_count": 18,
   "metadata": {},
   "outputs": [
    {
     "data": {
      "image/png": "[encoded data removed]",
      "text/plain": [
       "<Figure size 432x288 with 1 Axes>"
      ]
     },
     "metadata": {
      "needs_background": "light"
     },
     "output_type": "display_data"
    }
   ],
   "source": [
    "# Model parameters:\n",
    "Ngroups=10\n",
    "Npeople=100 \n",
    "Tolerance=.5 # tolerable propotion of the opposite sex\n",
    "\n",
    "# Supporting functions:\n",
    "class Person:\n",
    "    def __init__(self, Ngroups):\n",
    "        self.sex = random.randint(2) # 0=woman; 1=man\n",
    "        self.Ngroups=Ngroups\n",
    "        self.group = random.randint(Ngroups) # staying in which group?\n",
    "        \n",
    "    def leave(self):\n",
    "        options=delete(arange(self.Ngroups),self.group) # except the current group\n",
    "        self.group = int(random.choice(options,1)) # choosing a new group\n",
    "    \n",
    "def party_stats(people): # calculate the number of men & women in each group\n",
    "    Npeople=len(people)    \n",
    "    sexes=[people[i].sex for i in range(Npeople)]\n",
    "    groups=[people[i].group for i in range(Npeople)]\n",
    "    #counts=zeros((max(groups)+1,max(sexes)+1))\n",
    "    counts=zeros((Ngroups,2))\n",
    "    proportions=counts.copy()\n",
    "    for p in range(Npeople):\n",
    "        counts[groups[p],sexes[p]]+=1\n",
    "    men_plus_women=sum(counts,1) # number of men and women in each group\n",
    "    men_plus_women[men_plus_women==0]=inf # to avoid \"dividing by zeros later\n",
    "    proportions[:,0]=counts[:,0]/men_plus_women # proportion of women in each group\n",
    "    proportions[:,1]=counts[:,1]/men_plus_women # proportion of men in each group\n",
    "    return counts, proportions # size=group*sex\n",
    "\n",
    "def plot_party(counts):\n",
    "    x=arange(len(counts))+1 # number of groups\n",
    "    clf() # clear previous figure\n",
    "    bar(x, counts[:,0], color = 'r') # women\n",
    "    bar(x, counts[:,1], color = 'b', bottom = counts[:,0]) # men on top of women in the plot\n",
    "    display(gcf()); clear_output(wait=True) # to allow dynamic plots\n",
    "    \n",
    "# Initialization:\n",
    "people = [Person(Ngroups) for i in range(Npeople)] # assign each person to a group\n",
    "Nhappy=0 # Number of happy people\n",
    "counts, proportions=party_stats(people)\n",
    "# Simulation:\n",
    "while(Nhappy<Npeople): # Simulation stops when everyone is happy\n",
    "    Nhappy=0 # recounting after a new move\n",
    "    \n",
    "    # Insert your codes here to make everyone happy:\n",
    "    for _p in people:\n",
    "        if (1 - proportions[_p.group, _p.sex]) > Tolerance: # 若是異性的比例 >容忍度，離開房間\n",
    "            _p.leave()\n",
    "        else:                                               # 若否，則留在房間。快樂人+1\n",
    "            Nhappy += 1\n",
    "    # Plot new results:\n",
    "    counts, proportions=party_stats(people) # size=group*sex\n",
    "    plot_party(counts)"
   ]
  },
  {
   "cell_type": "markdown",
   "metadata": {},
   "source": [
    "### [補] 1.1 Program BUG\n",
    "Line 21: counts = zeros((max(groups)+1,max(sexes)+1))\n",
    "<br>Line 21': counts = zeros((Ngroups,2))</br>\n",
    "<br>主要用來產生 [房間數\\*性別]的矩陣，若是上方亂數產生的性別全為女生(sexes=0),counts將會變成[房間數\\*1]的矩陣，房間數同理，所以應修改成有幾間房，有多少種性別，就填多少。</br>\n"
   ]
  },
  {
   "cell_type": "markdown",
   "metadata": {
    "collapsed": true
   },
   "source": [
    "### 1.2 Modify the three model parameters & discuss how each affects your simulations (2 points)"
   ]
  },
  {
   "cell_type": "markdown",
   "metadata": {},
   "source": [
    "[結論] Ngroup越大，Npeople越小，Tolerance越大越容易收斂。\n",
    "1. Tolerance是較為關鍵的收斂要素，當Tolerance小於0.5時，代表當性別比不是1:1時就會有人不滿意而離開房間，因此不易達到收斂；當放寬Tolerance時，則越快達到收斂。\n",
    "2. Ngroup 和 Npeoplee共同影響性別比，若是性別比變化大，則能越快可能達到收斂。\n"
   ]
  },
  {
   "cell_type": "markdown",
   "metadata": {},
   "source": [
    "### 1.3 Discuss why the simulaiton leads to group polarization (1 point)"
   ]
  },
  {
   "cell_type": "markdown",
   "metadata": {},
   "source": [
    "若Tolerance < 0.5表示哪怕房間內男女人數相當，也必定有一方不滿意，便會往單一房間僅有單一性別的方向發展。"
   ]
  },
  {
   "cell_type": "markdown",
   "metadata": {},
   "source": [
    "## 2 Understand Shunting Equation (5 points)\n",
    "\n",
    "$\\frac{dy}{dt}=-Ay+(B-y)*E-(y-C)*I$"
   ]
  },
  {
   "cell_type": "markdown",
   "metadata": {},
   "source": [
    "### 2.1 Find its equilibrium by analytically solving $dy/dt=0$ (1 point)"
   ]
  },
  {
   "cell_type": "markdown",
   "metadata": {},
   "source": [
    "$$ \n",
    "\\begin{align*}  \n",
    "& 0 = \\frac{dy}{dt} = -Ay+(B-y) \\times E-(y-C) \\times I \\\\\n",
    "\\Rightarrow \\quad & y= \\frac{E \\times B + I \\times C}{A+E+I} \n",
    "\\end{align*} \n",
    "$$"
   ]
  },
  {
   "cell_type": "markdown",
   "metadata": {},
   "source": [
    "### 2.2 Use Euler integration to verify your answer in 2.1 with your own (A, B, C, E, I) constants (2 points)\n"
   ]
  },
  {
   "cell_type": "code",
   "execution_count": 19,
   "metadata": {},
   "outputs": [
    {
     "name": "stdout",
     "output_type": "stream",
     "text": [
      "Verified: Eq(y(t), (B*E + C*I + exp((C1 - t)*(A + E + I)))/(A + E + I))\n"
     ]
    }
   ],
   "source": [
    "# Write your simulation codes here\n",
    "\n",
    "t,A,B,C,E,I = sym.symbols('t,A,B,C,E,I')\n",
    "y = sym.Function('y')(t)\n",
    "sol = sym.dsolve(y.diff()+A*y-(B-y)*E+(y-C)*I) # solving dy/dt = 0\n",
    "\n",
    "print(\"Verified: {0}\".format(sol))\n"
   ]
  },
  {
   "cell_type": "markdown",
   "metadata": {},
   "source": [
    "### 2.3 Combining math & if-then controls in numerical integrations (2 points)\n",
    "\n",
    "Use Euler integration to plot $dy/dt=-y(t)+E$ where\n",
    "$E=\\begin{cases}\n",
    "    1  &  \\text{if } t<5\\\\\n",
    "    0  &  \\text{if } t>5\n",
    "   \\end{cases}$\n",
    "for t=[0,10] & y(t=0)=0.\n",
    "\n",
    "This is an example of time-varying rather than constant excitation."
   ]
  },
  {
   "cell_type": "code",
   "execution_count": 21,
   "metadata": {},
   "outputs": [
    {
     "name": "stdout",
     "output_type": "stream",
     "text": [
      "Eq(y(t), C1*exp(-t))\n",
      "Eq(y(t), C1*exp(-t) + 1)\n"
     ]
    },
    {
     "data": {
      "image/png": "[encoded data removed]",
      "text/plain": [
       "<Figure size 432x288 with 1 Axes>"
      ]
     },
     "metadata": {
      "needs_background": "light"
     },
     "output_type": "display_data"
    }
   ],
   "source": [
    "# Write your simulation codes here\n",
    "\n",
    "# Solving Equation\n",
    "t = sym.symbols('t')\n",
    "y = sym.Function('y')(t)\n",
    "gt_y = sym.dsolve(y.diff()+y)   #solving dy/dt = 0, when t > 5\n",
    "ls_y = sym.dsolve(y.diff()+y-1) #solving dy/dt = 0, when t < 5\n",
    "print(gt_y)\n",
    "print(ls_y)\n",
    "\n",
    "# Simulation\n",
    "dt = .25               # Step Range\n",
    "y = [0]                # approximation Y\n",
    "_y = [0]               # True Y\n",
    "t = arange(0,10,dt)    # t=[0,10]\n",
    "for _t in t:\n",
    "    y1 = y[-1]         # the last element\n",
    "    if _t > 5:\n",
    "        E = 0\n",
    "        _y.append(exp(-_t))\n",
    "    else:\n",
    "        E = 1\n",
    "        _y.append(exp(-_t)+1)\n",
    "    y2 = y1 + dt*(-y1 + E)\n",
    "    y.append(y2)\n",
    "\n",
    "# Plot\n",
    "xlim(0,10)\n",
    "plot(t, _y[0:-1], 'b*')                        # true y\n",
    "plot(t, y[0:-1], 'ro', markerfacecolor='None') # approximation\n",
    "axvline(5,c='g')\n",
    "legend(['symbolic', 'numerical', 'x={}'.format(5)]);\n",
    "show()"
   ]
  },
  {
   "cell_type": "code",
   "execution_count": null,
   "metadata": {},
   "outputs": [],
   "source": []
  }
 ],
 "metadata": {
  "kernelspec": {
   "display_name": "Python 3",
   "language": "python",
   "name": "python3"
  },
  "language_info": {
   "codemirror_mode": {
    "name": "ipython",
    "version": 3
   },
   "file_extension": ".py",
   "mimetype": "text/x-python",
   "name": "python",
   "nbconvert_exporter": "python",
   "pygments_lexer": "ipython3",
   "version": "3.7.1"
  }
 },
 "nbformat": 4,
 "nbformat_minor": 2
}
