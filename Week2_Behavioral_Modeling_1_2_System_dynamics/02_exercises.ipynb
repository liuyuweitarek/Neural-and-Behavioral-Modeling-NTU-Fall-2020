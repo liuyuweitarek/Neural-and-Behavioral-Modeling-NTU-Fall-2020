{
 "cells": [
  {
   "cell_type": "markdown",
   "metadata": {},
   "source": [
    "# Neural & Behavioral Modeling - Week 2 (Exercises)\n",
    "by Your Name (Your Email)"
   ]
  },
  {
   "cell_type": "code",
   "execution_count": 1,
   "metadata": {},
   "outputs": [],
   "source": [
    "%config IPCompleter.greedy=True \n",
    "%matplotlib inline\n",
    "from numpy import *\n",
    "from matplotlib.pyplot import *\n",
    "from IPython.display import *"
   ]
  },
  {
   "cell_type": "markdown",
   "metadata": {},
   "source": [
    "## 1 Nonlinear love triangle (5 points)\n",
    "\n",
    "Please use Euler integration with a small step size (say dt=0.01) and the suggested parameters (a,b,c,d,e,f)=(-3,4,-7,2,2,-1) to simulate Eq.(5) in the following paper:\n",
    "\n",
    "Sprott, J. C. (2004). Dynamical models of love. Nonlinear dynamics, psychology, and life sciences, 8(3), 303-314."
   ]
  },
  {
   "cell_type": "markdown",
   "metadata": {},
   "source": [
    "### 1.1  Coding the simulation (3 points)\n",
    "\n",
    "Please use differnt colors/shapes to put Rj(t), J, Rg(t), & G(t) curves in the same plot."
   ]
  },
  {
   "cell_type": "code",
   "execution_count": 1,
   "metadata": {},
   "outputs": [],
   "source": [
    "# Write your codes here"
   ]
  },
  {
   "cell_type": "markdown",
   "metadata": {},
   "source": [
    "### 1.2 Studying chaos (2 points)\n",
    "\n",
    "Please provide two sets of initial values of (Rj, J, Rg, & G) that can produce distinct model behaviors."
   ]
  },
  {
   "cell_type": "code",
   "execution_count": null,
   "metadata": {},
   "outputs": [],
   "source": [
    "# Run your simulation with the 1st set of initial values here"
   ]
  },
  {
   "cell_type": "code",
   "execution_count": null,
   "metadata": {},
   "outputs": [],
   "source": [
    "# Run your simulation with the 2nd set of initial values here"
   ]
  },
  {
   "cell_type": "markdown",
   "metadata": {},
   "source": [
    "## 2 Fix the simulation of \"Growth and underinvestment\" (5 points)\n",
    "\n",
    "Although the simulation and explanation of \"underinvested growth\" seem reasonable, the simulation doesn't appear to describe \"sufficiently invested growth\" where the performance varialbe should be able to increase over time. Please do whatever you can to have a model that can simulate both phenomena. "
   ]
  },
  {
   "cell_type": "code",
   "execution_count": 5,
   "metadata": {},
   "outputs": [
    {
     "data": {
      "image/png": "[encoded data removed]",
      "text/plain": [
       "<Figure size 432x288 with 1 Axes>"
      ]
     },
     "metadata": {
      "needs_background": "light"
     },
     "output_type": "display_data"
    }
   ],
   "source": [
    "performance_standard=100 # Model parameter\n",
    "Capacity,Demand=[80],[1] # Initial values\n",
    "dt=.1 # step size for numerical integration\n",
    "t=arange(0,13,dt) # integration period\n",
    "perf,inves=[],[]\n",
    "for i in t:\n",
    "    Capacity1,Demand1=Capacity[-1],Demand[-1] # the last element\n",
    "    growing_action=0.01*Demand1\n",
    "    performance=Capacity1-Demand1\n",
    "    change_rate=0.75*growing_action*performance\n",
    "    perf.append(performance)\n",
    "    growth_and_underinverstment=performance_standard-performance\n",
    "    investment=0.01*growth_and_underinverstment # !!!!!!!! Change 0.01 to 10 doesn't help !!!!!!!!\n",
    "    inves.append(investment)\n",
    "    Capacity2=Capacity1+dt*investment # Euler integration\n",
    "    Demand2=Demand1+dt*change_rate # Euler integration\n",
    "    Capacity.append(Capacity2)\n",
    "    Demand.append(Demand2)\n",
    "plot(t,Capacity[0:-1],'bv')\n",
    "plot(t,inves,'ro')\n",
    "plot(t,perf,'g.')\n",
    "legend(['Capacity','Investment','Performance']);"
   ]
  },
  {
   "cell_type": "code",
   "execution_count": null,
   "metadata": {},
   "outputs": [],
   "source": [
    "# Write your working simulation here"
   ]
  }
 ],
 "metadata": {
  "kernelspec": {
   "display_name": "Python 3",
   "language": "python",
   "name": "python3"
  },
  "language_info": {
   "codemirror_mode": {
    "name": "ipython",
    "version": 3
   },
   "file_extension": ".py",
   "mimetype": "text/x-python",
   "name": "python",
   "nbconvert_exporter": "python",
   "pygments_lexer": "ipython3",
   "version": "3.7.6"
  }
 },
 "nbformat": 4,
 "nbformat_minor": 2
}
