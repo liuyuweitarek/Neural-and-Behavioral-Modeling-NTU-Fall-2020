{
 "cells": [
  {
   "cell_type": "markdown",
   "metadata": {},
   "source": [
    "# Neural & Behavioral Modeling - Week 11 (Examples)\n",
    "by Tsung-Ren (Tren) Huang (tren.huang@gmail.com)"
   ]
  },
  {
   "cell_type": "code",
   "execution_count": null,
   "metadata": {},
   "outputs": [],
   "source": [
    "# Upgrade PyTorch if necessary:\n",
    "! conda install pytorch torchvision -c pytorch"
   ]
  },
  {
   "cell_type": "code",
   "execution_count": 1,
   "metadata": {},
   "outputs": [],
   "source": [
    "%config IPCompleter.greedy=True \n",
    "%matplotlib inline\n",
    "import random\n",
    "from matplotlib.pyplot import *\n",
    "from IPython.display import *\n",
    "import numpy as np"
   ]
  },
  {
   "cell_type": "code",
   "execution_count": 2,
   "metadata": {},
   "outputs": [
    {
     "name": "stdout",
     "output_type": "stream",
     "text": [
      "PyTorch version: 0.4.0\n",
      "Device  0 : GeForce GTX 1080 Ti\n",
      "Device  1 : GeForce GTX 1080 Ti\n",
      "Device  2 : GeForce GTX 1080 Ti\n",
      "Device  3 : GeForce GTX 1080 Ti\n",
      "Current: Device  0\n"
     ]
    }
   ],
   "source": [
    "# Check GPU status:\n",
    "import torch as t\n",
    "print('PyTorch version:',t.__version__)\n",
    "if(t.cuda.is_available()):\n",
    "    for i in range(t.cuda.device_count()):\n",
    "        print('Device ',i,':',t.cuda.get_device_name(i))\n",
    "    print('Current: Device ',t.cuda.current_device())\n",
    "    t.backends.cudnn.benchmark = True \n",
    "else:\n",
    "    print('No GPU')"
   ]
  },
  {
   "cell_type": "markdown",
   "metadata": {},
   "source": [
    "## 1 NumPy vs. PyTorch\n",
    "Here are examples modified from <a href=\"https://pytorch.org/tutorials/beginner/pytorch_with_examples.html\">Learning PyTorch with Examples</a>.\n",
    "\n",
    "<table>\n",
    "   <th><img src=\"https://cdn2.iconfinder.com/data/icons/freecns-cumulus/32/519791-101_Warning-32.png\" ></th>\n",
    "   <th>PyTorch evolves quickly. Some codes may not work because of version incompatibility</a>.    </th>\n",
    "</table>\n",
    "\n",
    "Please check out https://pytorch.org/docs/versions.html for more API info. "
   ]
  },
  {
   "cell_type": "markdown",
   "metadata": {},
   "source": [
    "### 1.0 Quick Refresher on Backpropagation\n",
    "Error of a neural network is \n",
    "<img src=\"https://wikimedia.org/api/rest_v1/media/math/render/svg/cb31622945129aee9708108af22230f7ca1362f7\">\n",
    "\n",
    "We can use <a href=\"https://medium.com/@ken90242/machine-learning%E5%AD%B8%E7%BF%92%E6%97%A5%E8%A8%98-coursera%E7%AF%87-week-1-3-parameter-9273f86c5613\">gradient descent</a> to minimize this error:\n",
    "\n",
    "$$W_{ij}=W_{ij}+\\Delta W_{ij}=W_{ij}-\\eta \\frac{\\partial E}{\\partial W_{ij}}=W_{ij}-\\eta \\delta_j o_i$$\n",
    "\n",
    "where the delta rule consists of an upstream activity term $o_i$ and a downstream error term $\\delta_j$:\n",
    "\n",
    "$$\\delta_j=\\begin{cases}\n",
    "    (o_j-t_j)\\frac{\\partial\\phi(o_j)}{\\partial o_j}  &  \\text{if j is an output neuron}\\\\\n",
    "    (\\sum_k{W_{jk}\\delta_k})\\frac{\\partial\\phi(o_j)}{\\partial o_j}  &  \\text{if j is an inner neuron}\n",
    "   \\end{cases}$$\n",
    "      \n",
    "When the activation function $\\phi(x)=1/(1+exp(-x))$ (i.e., sigmoid), then:\n",
    "\n",
    "$$\\delta_j=\\begin{cases}\n",
    "    (o_j-t_j)o_j(1-o_j)  &  \\text{if j is an output neuron}\\\\\n",
    "    (\\sum_k{W_{jk}\\delta_k})o_j(1-o_j)  &  \\text{if j is an inner neuron}\n",
    "   \\end{cases}$$\n",
    "   \n",
    "   \n",
    "When the activation function $\\phi(x)=x$ (i.e., linear), then: \n",
    "\n",
    "$$\\delta_j=\\begin{cases}\n",
    "    (o_j-t_j)  &  \\text{if j is an output neuron}\\\\\n",
    "    \\sum_k{W_{jk}\\delta_k}  &  \\text{if j is an inner neuron}\n",
    "   \\end{cases}$$\n",
    "\n",
    "When the activation function $\\phi(x)=max(0,x)$ (i.e., ReLU), then:\n",
    " \n",
    " $$\\delta_j=\\begin{cases}\n",
    "    (o_j-t_j)  &  \\text{if } o_j>0 \\text{ & j is an output neuron}\\\\\n",
    "    \\sum_k{W_{jk}\\delta_k}  & \\text{if } o_j>0 \\text{ & j is an inner neuron}\\\\\n",
    "    0 & \\text{if } o_j\\leq 0\n",
    "   \\end{cases}$$\n",
    "   \n",
    "    \n"
   ]
  },
  {
   "cell_type": "markdown",
   "metadata": {},
   "source": [
    "### 1.1 NumPy"
   ]
  },
  {
   "cell_type": "code",
   "execution_count": 3,
   "metadata": {},
   "outputs": [
    {
     "data": {
      "image/png": "[encoded data removed]",
      "text/plain": [
       "<Figure size 432x288 with 1 Axes>"
      ]
     },
     "metadata": {
      "needs_background": "light"
     },
     "output_type": "display_data"
    }
   ],
   "source": [
    "# N is batch size; D_in is input dimension;\n",
    "# H is hidden dimension; D_out is output dimension.\n",
    "N, D_in, H, D_out = 64, 1000, 100, 10\n",
    "\n",
    "# Create random input and output data\n",
    "x = np.random.randn(N, D_in)\n",
    "y = np.random.randn(N, D_out)\n",
    "\n",
    "# Randomly initialize weights\n",
    "w1 = np.random.randn(D_in, H)\n",
    "w2 = np.random.randn(H, D_out)\n",
    "\n",
    "learning_rate = 1e-6\n",
    "loss_history=[]\n",
    "\n",
    "for i in range(500):\n",
    "    # Forward pass: compute predicted y\n",
    "    h = x.dot(w1)\n",
    "    h_relu = np.maximum(h, 0)\n",
    "    y_pred = h_relu.dot(w2)\n",
    "\n",
    "    # Compute and print loss\n",
    "    loss = np.square(y_pred - y).sum()\n",
    "    loss_history.append(loss)\n",
    "\n",
    "    # Backprop to compute gradients of w1 and w2 with respect to loss\n",
    "    grad_y_pred = y_pred - y\n",
    "    grad_w2 = h_relu.T.dot(grad_y_pred) # h_relu=activation of layer 2; dReLU(h)/dh=1 for h>0\n",
    "    grad_h_relu = grad_y_pred.dot(w2.T) # computing delta on layer 2 for the learning of w1\n",
    "    grad_h = grad_h_relu.copy()\n",
    "    grad_h[h < 0] = 0 # dReLU/dt=0 for h<0\n",
    "    grad_w1 = x.T.dot(grad_h)\n",
    "\n",
    "    # Update weights\n",
    "    w1 -= learning_rate * grad_w1\n",
    "    w2 -= learning_rate * grad_w2\n",
    "\n",
    "plot(loss_history);"
   ]
  },
  {
   "cell_type": "markdown",
   "metadata": {},
   "source": [
    "### 1.2 PyTorch w/ Manual Differentiation"
   ]
  },
  {
   "cell_type": "code",
   "execution_count": 4,
   "metadata": {},
   "outputs": [
    {
     "data": {
      "image/png": "[encoded data removed]",
      "text/plain": [
       "<Figure size 432x288 with 1 Axes>"
      ]
     },
     "metadata": {
      "needs_background": "light"
     },
     "output_type": "display_data"
    }
   ],
   "source": [
    "dtype = t.float # https://pytorch.org/docs/stable/tensors.html\n",
    "device = t.device(\"cpu\") #torch.device(\"cuda:0\") \n",
    "\n",
    "# N is batch size; D_in is input dimension;\n",
    "# H is hidden dimension; D_out is output dimension.\n",
    "N, D_in, H, D_out = 64, 1000, 100, 10\n",
    "\n",
    "# Create random input and output data\n",
    "x = t.randn(N, D_in, device=device, dtype=dtype)\n",
    "y = t.randn(N, D_out, device=device, dtype=dtype)\n",
    "\n",
    "# Randomly initialize weights\n",
    "w1 = t.randn(D_in, H, device=device, dtype=dtype)\n",
    "w2 = t.randn(H, D_out, device=device, dtype=dtype)\n",
    "\n",
    "learning_rate = 1e-6\n",
    "loss_history=[]\n",
    "\n",
    "for i in range(500):\n",
    "    # Forward pass: compute predicted y\n",
    "    h = x.mm(w1)\n",
    "    h_relu = h.clamp(min=0)\n",
    "    y_pred = h_relu.mm(w2)\n",
    "\n",
    "    # Compute and print loss\n",
    "    loss = (y_pred - y).pow(2).sum().item()\n",
    "    loss_history.append(loss)\n",
    "\n",
    "    # Backprop to compute gradients of w1 and w2 with respect to loss\n",
    "    grad_y_pred = y_pred - y\n",
    "    grad_w2 = h_relu.t().mm(grad_y_pred)\n",
    "    grad_h_relu = grad_y_pred.mm(w2.t())\n",
    "    grad_h = grad_h_relu.clone()\n",
    "    grad_h[h < 0] = 0\n",
    "    grad_w1 = x.t().mm(grad_h)\n",
    "\n",
    "    # Update weights using gradient descent\n",
    "    w1 -= learning_rate * grad_w1\n",
    "    w2 -= learning_rate * grad_w2\n",
    "    \n",
    "plot(loss_history);"
   ]
  },
  {
   "cell_type": "markdown",
   "metadata": {},
   "source": [
    "### 1.3 PyTorch w/ Automatic Differentiation (autograd)"
   ]
  },
  {
   "cell_type": "code",
   "execution_count": 5,
   "metadata": {},
   "outputs": [
    {
     "data": {
      "image/png": "[encoded data removed]",
      "text/plain": [
       "<Figure size 432x288 with 1 Axes>"
      ]
     },
     "metadata": {
      "needs_background": "light"
     },
     "output_type": "display_data"
    }
   ],
   "source": [
    "dtype = t.float\n",
    "device = t.device(\"cpu\")# t.device(\"cuda:0\")\n",
    "\n",
    "# N is batch size; D_in is input dimension;\n",
    "# H is hidden dimension; D_out is output dimension.\n",
    "N, D_in, H, D_out = 64, 1000, 100, 10\n",
    "\n",
    "# Create random Tensors to hold input and outputs.\n",
    "# Setting requires_grad=False indicates that we do not need to compute gradients\n",
    "# with respect to these Tensors during the backward pass.\n",
    "x = t.randn(N, D_in, device=device, dtype=dtype)\n",
    "y = t.randn(N, D_out, device=device, dtype=dtype)\n",
    "\n",
    "# Create random Tensors for weights.\n",
    "# Setting requires_grad=True indicates that we want to compute gradients with\n",
    "# respect to these Tensors during the backward pass.\n",
    "w1 = t.randn(D_in, H, device=device, dtype=dtype, requires_grad=True)\n",
    "w2 = t.randn(H, D_out, device=device, dtype=dtype, requires_grad=True)\n",
    "\n",
    "learning_rate = 1e-6\n",
    "loss_history=[]\n",
    "\n",
    "for i in range(500):\n",
    "    # Forward pass: compute predicted y using operations on Tensors; these\n",
    "    # are exactly the same operations we used to compute the forward pass using\n",
    "    # Tensors, but we do not need to keep references to intermediate values since\n",
    "    # we are not implementing the backward pass by hand.\n",
    "    y_pred = x.mm(w1).clamp(min=0).mm(w2)\n",
    "\n",
    "    # Compute and print loss using operations on Tensors.\n",
    "    # Now loss is a Tensor of shape (1,)\n",
    "    # loss.item() gets the a scalar value held in the loss.\n",
    "    loss = (y_pred - y).pow(2).sum()\n",
    "    loss_history.append(loss)\n",
    "\n",
    "    # Use autograd to compute the backward pass. This call will compute the\n",
    "    # gradient of loss with respect to all Tensors with requires_grad=True.\n",
    "    # After this call w1.grad and w2.grad will be Tensors holding the gradient\n",
    "    # of the loss with respect to w1 and w2 respectively.\n",
    "    loss.backward()\n",
    "\n",
    "    # torch.no_grad() is a context-manager that disabled gradient calculation.\n",
    "    # Disabling gradient calculation is useful for inference, when you are sure\n",
    "    # that you will not call Tensor.backward(). It will reduce memory\n",
    "    # consumption for computations that would otherwise have requires_grad=True.\n",
    "    # In this mode, the result of every computation will have\n",
    "    # requires_grad=False, even when the inputs have requires_grad=True.\n",
    "    with t.no_grad():\n",
    "        w1 -= learning_rate * w1.grad\n",
    "        w2 -= learning_rate * w2.grad\n",
    "\n",
    "        # Manually zero the gradients after updating weights, otherwise they keep accumulating\n",
    "        w1.grad.zero_()\n",
    "        w2.grad.zero_()\n",
    "\n",
    "plot(loss_history);"
   ]
  },
  {
   "cell_type": "markdown",
   "metadata": {},
   "source": [
    "## 2 Computing Gradients"
   ]
  },
  {
   "cell_type": "markdown",
   "metadata": {},
   "source": [
    "### 2.1 Numerical Differentiation in NumPy"
   ]
  },
  {
   "cell_type": "code",
   "execution_count": 6,
   "metadata": {},
   "outputs": [
    {
     "name": "stdout",
     "output_type": "stream",
     "text": [
      "5\n",
      "[2. 1. 1.]\n"
     ]
    }
   ],
   "source": [
    "# Supporting functions: -----------------------\n",
    "def numerical_gradient(f, X):\n",
    "    h = 1e-4 # 0.0001\n",
    "    grad = np.zeros_like(X)\n",
    "    for idx in range(X.size):\n",
    "        tmp_val = X[idx]\n",
    "        X[idx] = float(tmp_val) + h\n",
    "        fxh1 = f(X) # f(x+h)\n",
    "        X[idx] = tmp_val - h\n",
    "        fxh2 = f(X) # f(x-h)\n",
    "        grad[idx] = (fxh1 - fxh2) / (2*h)\n",
    "        X[idx] = tmp_val \n",
    "    return grad\n",
    "\n",
    "def y(X):\n",
    "    return X[0]*X[1]+X[2] #w*x+b\n",
    "#----------------------------------------------\n",
    "\n",
    "print(y(np.array([1,2,3]))) # y=wx+b=1*x+3\n",
    "print(numerical_gradient(y,np.array([1.,2.,3.]))) #(dy/dw|w=1, dy/dx|x=2, dy/db|b=3)"
   ]
  },
  {
   "cell_type": "markdown",
   "metadata": {},
   "source": [
    "### 2.2 Automatic Differentiation in PyTorch (autograd)"
   ]
  },
  {
   "cell_type": "markdown",
   "metadata": {},
   "source": [
    "#### 2.2.1 Built-in functions/operations"
   ]
  },
  {
   "cell_type": "code",
   "execution_count": 7,
   "metadata": {},
   "outputs": [
    {
     "name": "stdout",
     "output_type": "stream",
     "text": [
      "tensor(5.)\n",
      "x: True True None\n",
      "y: True False <AddBackward1 object at 0x2afaaff01978> ((<MulBackward1 object at 0x2afb5a951fd0>, 0), (<AccumulateGrad object at 0x2afb5a951b70>, 0))\n",
      "dy/dw|w=1: tensor(2.)\n",
      "dy/dx|x=2: tensor(1.)\n",
      "dy/db|b=3: tensor(1.)\n"
     ]
    }
   ],
   "source": [
    "# Create tensors:\n",
    "w=t.tensor(1.,requires_grad=True)\n",
    "x=t.tensor(2.,requires_grad=True)\n",
    "b=t.tensor(3.,requires_grad=True)\n",
    "\n",
    "\n",
    "# Build a two-node computational graph (* followed by +):\n",
    "y=w*x+b # y=1*x+3\n",
    "print(y)\n",
    "\n",
    "# Examine the computational graph:\n",
    "print('x:',x.requires_grad,x.is_leaf,x.grad_fn)\n",
    "print('y:',y.requires_grad,y.is_leaf,y.grad_fn,y.grad_fn.next_functions)\n",
    "\n",
    "# Compute gradients:\n",
    "y.backward()\n",
    "print('dy/dw|w=1:',w.grad)\n",
    "print('dy/dx|x=2:',x.grad)\n",
    "print('dy/db|b=3:',b.grad)"
   ]
  },
  {
   "cell_type": "markdown",
   "metadata": {},
   "source": [
    "## 3 Better Modularization"
   ]
  },
  {
   "cell_type": "markdown",
   "metadata": {},
   "source": [
    "### 3.1 NumPy\n",
    "These are programs modified from <a href=\"http://www.books.com.tw/products/0010761759\">the textbook</a>."
   ]
  },
  {
   "cell_type": "code",
   "execution_count": 8,
   "metadata": {},
   "outputs": [],
   "source": [
    "# Activation & error functions:\n",
    "\n",
    "def sigmoid(x):\n",
    "    return 1 / (1 + np.exp(-x))    \n",
    "    \n",
    "def relu(x):\n",
    "    return np.maximum(0, x)\n",
    "\n",
    "def softmax(x):\n",
    "    if x.ndim == 2:\n",
    "        x = x.T\n",
    "        x = x - np.max(x, axis=0)\n",
    "        y = np.exp(x) / np.sum(np.exp(x), axis=0)\n",
    "        return y.T \n",
    "\n",
    "    x = x - np.max(x) \n",
    "    return np.exp(x) / np.sum(np.exp(x))\n",
    "\n",
    "def mean_squared_error(y, t):\n",
    "    return 0.5 * np.sum((y-t)**2)\n",
    "\n",
    "def cross_entropy_error(y, t):\n",
    "    if y.ndim == 1:\n",
    "        t = t.reshape(1, t.size)\n",
    "        y = y.reshape(1, y.size)\n",
    "        \n",
    "    if t.size == y.size:\n",
    "        t = t.argmax(axis=1) # one-hot coding\n",
    "             \n",
    "    batch_size = y.shape[0]\n",
    "    return -np.sum(np.log(y[np.arange(batch_size), t] + 1e-7)) / batch_size"
   ]
  },
  {
   "cell_type": "code",
   "execution_count": 15,
   "metadata": {},
   "outputs": [],
   "source": [
    "# Layers:\n",
    "\n",
    "class Identity: #x\n",
    "    def forward(self,x):\n",
    "        return x\n",
    "    \n",
    "    def backward(self,dout):\n",
    "        return dout\n",
    "    \n",
    "class Relu: # max(0,x)\n",
    "    def __init__(self):\n",
    "        self.mask = None\n",
    "\n",
    "    def forward(self, x):\n",
    "        self.mask = (x <= 0)\n",
    "        out = x.copy()\n",
    "        out[self.mask] = 0\n",
    "\n",
    "        return out\n",
    "\n",
    "    def backward(self, dout):\n",
    "        dout[self.mask] = 0\n",
    "        dx = dout\n",
    "\n",
    "        return dx\n",
    "\n",
    "\n",
    "class Sigmoid: # 1/(1+exp(-x))\n",
    "    def __init__(self):\n",
    "        self.out = None\n",
    "\n",
    "    def forward(self, x):\n",
    "        out = sigmoid(x)\n",
    "        self.out = out\n",
    "        return out\n",
    "\n",
    "    def backward(self, dout):\n",
    "        dx = dout * (1.0 - self.out) * self.out\n",
    "\n",
    "        return dx\n",
    "\n",
    "\n",
    "class Affine: # Wx+b\n",
    "    def __init__(self, W, b):\n",
    "        self.W =W\n",
    "        self.b = b\n",
    "        \n",
    "        self.x = None\n",
    "        self.original_x_shape = None\n",
    "        \n",
    "        self.dW = None\n",
    "        self.db = None\n",
    "\n",
    "    def forward(self, x):\n",
    "        self.original_x_shape = x.shape\n",
    "        x = x.reshape(x.shape[0], -1)\n",
    "        self.x = x\n",
    "\n",
    "        out = np.dot(self.x, self.W) + self.b\n",
    "\n",
    "        return out\n",
    "\n",
    "    def backward(self, dout):\n",
    "        dx = np.dot(dout, self.W.T)\n",
    "        self.dW = np.dot(self.x.T, dout)\n",
    "        self.db = np.sum(dout, axis=0)\n",
    "        \n",
    "        dx = dx.reshape(*self.original_x_shape)  \n",
    "        return dx\n",
    "    \n",
    "class SoftmaxWithLoss:\n",
    "    def __init__(self):\n",
    "        self.loss = None\n",
    "        self.y = None \n",
    "        self.t = None\n",
    "\n",
    "    def forward(self, x, t):\n",
    "        self.t = t\n",
    "        self.y = softmax(x)\n",
    "        self.loss = cross_entropy_error(self.y, self.t)\n",
    "        \n",
    "        return self.loss\n",
    "\n",
    "    def backward(self, dout=1):\n",
    "        batch_size = self.t.shape[0]\n",
    "        if self.t.size == self.y.size: # one-hot vector\n",
    "            dx = (self.y - self.t) / batch_size\n",
    "        else:\n",
    "            dx = self.y.copy()\n",
    "            dx[np.arange(batch_size), self.t] -= 1\n",
    "            dx = dx / batch_size\n",
    "        \n",
    "        return dx\n",
    "\n",
    "\n",
    "class Dropout:\n",
    "    \"\"\"\n",
    "    http://arxiv.org/abs/1207.0580\n",
    "    \"\"\"\n",
    "    def __init__(self, dropout_ratio=0.5):\n",
    "        self.dropout_ratio = dropout_ratio\n",
    "        self.mask = None\n",
    "\n",
    "    def forward(self, x, train_flg=True):\n",
    "        if train_flg:\n",
    "            self.mask = np.random.rand(*x.shape) > self.dropout_ratio\n",
    "            return x * self.mask\n",
    "        else:\n",
    "            return x * (1.0 - self.dropout_ratio)\n",
    "\n",
    "    def backward(self, dout):\n",
    "        return dout * self.mask\n",
    "\n",
    "\n",
    "class BatchNormalization:\n",
    "    \"\"\"\n",
    "    http://arxiv.org/abs/1502.03167\n",
    "    \"\"\"\n",
    "    def __init__(self, gamma, beta, momentum=0.9, running_mean=None, running_var=None):\n",
    "        self.gamma = gamma\n",
    "        self.beta = beta\n",
    "        self.momentum = momentum\n",
    "        self.input_shape = None  \n",
    "\n",
    "        self.running_mean = running_mean\n",
    "        self.running_var = running_var  \n",
    "        \n",
    "        self.batch_size = None\n",
    "        self.xc = None\n",
    "        self.std = None\n",
    "        self.dgamma = None\n",
    "        self.dbeta = None\n",
    "\n",
    "    def forward(self, x, train_flg=True):\n",
    "        self.input_shape = x.shape\n",
    "        if x.ndim != 2:\n",
    "            N, C, H, W = x.shape\n",
    "            x = x.reshape(N, -1)\n",
    "\n",
    "        out = self.__forward(x, train_flg)\n",
    "        \n",
    "        return out.reshape(*self.input_shape)\n",
    "            \n",
    "    def __forward(self, x, train_flg):\n",
    "        if self.running_mean is None:\n",
    "            N, D = x.shape\n",
    "            self.running_mean = np.zeros(D)\n",
    "            self.running_var = np.zeros(D)\n",
    "                        \n",
    "        if train_flg:\n",
    "            mu = x.mean(axis=0)\n",
    "            xc = x - mu\n",
    "            var = np.mean(xc**2, axis=0)\n",
    "            std = np.sqrt(var + 10e-7)\n",
    "            xn = xc / std\n",
    "            \n",
    "            self.batch_size = x.shape[0]\n",
    "            self.xc = xc\n",
    "            self.xn = xn\n",
    "            self.std = std\n",
    "            self.running_mean = self.momentum * self.running_mean + (1-self.momentum) * mu\n",
    "            self.running_var = self.momentum * self.running_var + (1-self.momentum) * var            \n",
    "        else:\n",
    "            xc = x - self.running_mean\n",
    "            xn = xc / ((np.sqrt(self.running_var + 10e-7)))\n",
    "            \n",
    "        out = self.gamma * xn + self.beta \n",
    "        return out\n",
    "\n",
    "    def backward(self, dout):\n",
    "        if dout.ndim != 2:\n",
    "            N, C, H, W = dout.shape\n",
    "            dout = dout.reshape(N, -1)\n",
    "\n",
    "        dx = self.__backward(dout)\n",
    "\n",
    "        dx = dx.reshape(*self.input_shape)\n",
    "        return dx\n",
    "\n",
    "    def __backward(self, dout):\n",
    "        dbeta = dout.sum(axis=0)\n",
    "        dgamma = np.sum(self.xn * dout, axis=0)\n",
    "        dxn = self.gamma * dout\n",
    "        dxc = dxn / self.std\n",
    "        dstd = -np.sum((dxn * self.xc) / (self.std * self.std), axis=0)\n",
    "        dvar = 0.5 * dstd / self.std\n",
    "        dxc += (2.0 / self.batch_size) * self.xc * dvar\n",
    "        dmu = np.sum(dxc, axis=0)\n",
    "        dx = dxc - dmu / self.batch_size\n",
    "        \n",
    "        self.dgamma = dgamma\n",
    "        self.dbeta = dbeta\n",
    "        \n",
    "        return dx"
   ]
  },
  {
   "cell_type": "code",
   "execution_count": 13,
   "metadata": {},
   "outputs": [],
   "source": [
    "# Optimizers:\n",
    "\n",
    "class SGD:\n",
    "\n",
    "    \"\"\"（Stochastic Gradient Descent）\"\"\"\n",
    "\n",
    "    def __init__(self, lr=0.01):\n",
    "        self.lr = lr\n",
    "        \n",
    "    def update(self, params, grads):\n",
    "        for key in params.keys():\n",
    "            params[key] -= self.lr * grads[key] \n",
    "\n",
    "\n",
    "class Momentum:\n",
    "\n",
    "    \"\"\"Momentum SGD\"\"\"\n",
    "\n",
    "    def __init__(self, lr=0.01, momentum=0.9):\n",
    "        self.lr = lr\n",
    "        self.momentum = momentum\n",
    "        self.v = None\n",
    "        \n",
    "    def update(self, params, grads):\n",
    "        if self.v is None:\n",
    "            self.v = {}\n",
    "            for key, val in params.items():                                \n",
    "                self.v[key] = np.zeros_like(val)\n",
    "                \n",
    "        for key in params.keys():\n",
    "            self.v[key] = self.momentum*self.v[key] - self.lr*grads[key] \n",
    "            params[key] += self.v[key]\n",
    "            \n",
    "class Adam:\n",
    "\n",
    "    \"\"\"Adam (http://arxiv.org/abs/1412.6980v8)\"\"\"\n",
    "\n",
    "    def __init__(self, lr=0.001, beta1=0.9, beta2=0.999):\n",
    "        self.lr = lr\n",
    "        self.beta1 = beta1\n",
    "        self.beta2 = beta2\n",
    "        self.iter = 0\n",
    "        self.m = None\n",
    "        self.v = None\n",
    "        \n",
    "    def update(self, params, grads):\n",
    "        if self.m is None:\n",
    "            self.m, self.v = {}, {}\n",
    "            for key, val in params.items():\n",
    "                self.m[key] = np.zeros_like(val)\n",
    "                self.v[key] = np.zeros_like(val)\n",
    "        \n",
    "        self.iter += 1\n",
    "        lr_t  = self.lr * np.sqrt(1.0 - self.beta2**self.iter) / (1.0 - self.beta1**self.iter)         \n",
    "        \n",
    "        for key in params.keys():\n",
    "            self.m[key] += (1 - self.beta1) * (grads[key] - self.m[key])\n",
    "            self.v[key] += (1 - self.beta2) * (grads[key]**2 - self.v[key])\n",
    "            \n",
    "            params[key] -= lr_t * self.m[key] / (np.sqrt(self.v[key]) + 1e-7)"
   ]
  },
  {
   "cell_type": "code",
   "execution_count": 16,
   "metadata": {},
   "outputs": [],
   "source": [
    "# Networks:\n",
    "from collections import OrderedDict\n",
    "\n",
    "class TwoLayerNet:\n",
    "\n",
    "    def __init__(self, input_size, hidden_size, output_size, weight_init_std = 1):\n",
    "        self.params = {}\n",
    "        self.params['W1'] = weight_init_std * np.random.randn(input_size, hidden_size)\n",
    "        self.params['b1'] = np.zeros(hidden_size)\n",
    "        self.params['W2'] = weight_init_std * np.random.randn(hidden_size, output_size) \n",
    "        self.params['b2'] = np.zeros(output_size)\n",
    "\n",
    "        self.layers = OrderedDict()\n",
    "        self.layers['Affine1'] = Affine(self.params['W1'], self.params['b1'])\n",
    "        self.layers['Relu1'] = Relu()\n",
    "        self.layers['Affine2'] = Affine(self.params['W2'], self.params['b2'])\n",
    "        self.lastLayer = Identity() # for regression\n",
    "        #self.lastLayer = SoftmaxWithLoss() # for classification\n",
    "\n",
    "        \n",
    "    def predict(self, x):\n",
    "        for layer in self.layers.values(): # up to the second last layer\n",
    "            x = layer.forward(x)\n",
    "        y=self.lastLayer.forward(x) # pass to the final layer\n",
    "        return y\n",
    "        \n",
    "    def loss(self, x, t):\n",
    "        y = self.predict(x) \n",
    "        return mean_squared_error(y, t)\n",
    "    \n",
    "    def accuracy(self, x, t):\n",
    "        y = self.predict(x)\n",
    "        y = np.argmax(y, axis=1)\n",
    "        if t.ndim != 1 : t = np.argmax(t, axis=1)\n",
    "        \n",
    "        accuracy = np.sum(y == t) / float(x.shape[0])\n",
    "        return accuracy\n",
    "                \n",
    "    def gradient(self, x, t):\n",
    "        # forward\n",
    "        y = self.predict(x)\n",
    "\n",
    "        # backward\n",
    "        dout = y-t\n",
    "        dout = self.lastLayer.backward(dout)\n",
    "        \n",
    "        layers = list(self.layers.values())\n",
    "        layers.reverse()\n",
    "        for layer in layers:\n",
    "            dout = layer.backward(dout)\n",
    "            \n",
    "        grads = {}\n",
    "        grads['W1'], grads['b1'] = self.layers['Affine1'].dW, self.layers['Affine1'].db\n",
    "        grads['W2'], grads['b2'] = self.layers['Affine2'].dW, self.layers['Affine2'].db\n",
    "\n",
    "        return grads"
   ]
  },
  {
   "cell_type": "code",
   "execution_count": 17,
   "metadata": {},
   "outputs": [
    {
     "data": {
      "image/png": "[encoded data removed]",
      "text/plain": [
       "<Figure size 432x288 with 1 Axes>"
      ]
     },
     "metadata": {
      "needs_background": "light"
     },
     "output_type": "display_data"
    }
   ],
   "source": [
    "# Putting everything together:\n",
    "\n",
    "# ====================================================\n",
    "# N is batch size; D_in is input dimension;\n",
    "# H is hidden dimension; D_out is output dimension.\n",
    "N, D_in, H, D_out = 64, 1000, 100, 10\n",
    "\n",
    "# Create random input and output data\n",
    "x = np.random.randn(N, D_in)\n",
    "y = np.random.randn(N, D_out)\n",
    "\n",
    "learning_rate = 1e-6\n",
    "optimizer = SGD(lr=learning_rate)\n",
    "#optimizer = Momentum(lr=learning_rate)\n",
    "loss_history=[]\n",
    "# ====================================================\n",
    "\n",
    "model=TwoLayerNet(input_size=D_in, hidden_size=H, output_size=D_out)\n",
    "\n",
    "for i in range(500):\n",
    "    grads=model.gradient(x,y)\n",
    "    optimizer.update(model.params,grads)\n",
    "    loss_history.append(model.loss(x,y))\n",
    "    \n",
    "plot(loss_history);"
   ]
  },
  {
   "cell_type": "markdown",
   "metadata": {},
   "source": [
    "### 3.2  PyTorch (nn module)"
   ]
  },
  {
   "cell_type": "markdown",
   "metadata": {},
   "source": [
    " #### 3.2.1 Automatic weight-updating (optim module)"
   ]
  },
  {
   "cell_type": "code",
   "execution_count": 18,
   "metadata": {},
   "outputs": [
    {
     "data": {
      "image/png": "[encoded data removed]",
      "text/plain": [
       "<Figure size 432x288 with 1 Axes>"
      ]
     },
     "metadata": {
      "needs_background": "light"
     },
     "output_type": "display_data"
    }
   ],
   "source": [
    "# N is batch size; D_in is input dimension;\n",
    "# H is hidden dimension; D_out is output dimension.\n",
    "N, D_in, H, D_out = 64, 1000, 100, 10\n",
    "\n",
    "# Create random Tensors to hold inputs and outputs\n",
    "x = t.randn(N, D_in)\n",
    "y = t.randn(N, D_out)\n",
    "\n",
    "# Use the nn package to define our model and loss function.\n",
    "model = t.nn.Sequential(\n",
    "    t.nn.Linear(D_in, H),\n",
    "    t.nn.ReLU(),\n",
    "    t.nn.Linear(H, D_out),\n",
    ")\n",
    "\n",
    "loss_fn = t.nn.MSELoss(size_average=False)\n",
    "\n",
    "# Use the optim package to define an Optimizer that will update the weights of\n",
    "# the model for us. Here we will use Adam; the optim package contains many other\n",
    "# optimization algoriths. The first argument to the Adam constructor tells the\n",
    "# optimizer which Tensors it should update.\n",
    "learning_rate = 1e-4\n",
    "optimizer = t.optim.Adam(model.parameters(), lr=learning_rate)\n",
    "loss_history=[]\n",
    "\n",
    "for i in range(500):\n",
    "    # Forward pass: compute predicted y by passing x to the model.\n",
    "    y_pred = model(x)\n",
    "\n",
    "    # Compute and print loss.\n",
    "    loss = loss_fn(y_pred, y)\n",
    "    loss_history.append(loss.item())\n",
    "\n",
    "    # Before the backward pass, use the optimizer object to zero all of the\n",
    "    # gradients for the variables it will update (which are the learnable\n",
    "    # weights of the model). This is because by default, gradients are\n",
    "    # accumulated in buffers( i.e, not overwritten) whenever .backward()\n",
    "    # is called. Checkout docs of torch.autograd.backward for more details.\n",
    "    optimizer.zero_grad()\n",
    "\n",
    "    # Backward pass: compute gradient of the loss with respect to model\n",
    "    # parameters\n",
    "    loss.backward()\n",
    "\n",
    "    # Calling the step function on an Optimizer makes an update to its\n",
    "    # parameters\n",
    "    optimizer.step()\n",
    "    \n",
    "\n",
    "plot(loss_history);"
   ]
  },
  {
   "cell_type": "markdown",
   "metadata": {},
   "source": [
    "## 4 Real-world Applications"
   ]
  },
  {
   "cell_type": "markdown",
   "metadata": {},
   "source": [
    "### 4.0 MNIST dataset\n",
    "<img src=\"https://cdn-images-1.medium.com/max/880/1*xKvP4fvSIR069GDXqy8uZg.png\" width=50%>"
   ]
  },
  {
   "cell_type": "code",
   "execution_count": 21,
   "metadata": {},
   "outputs": [
    {
     "data": {
      "text/plain": [
       "('mnist.pkl.gz', <http.client.HTTPMessage at 0x2afb8b82e7b8>)"
      ]
     },
     "execution_count": 21,
     "metadata": {},
     "output_type": "execute_result"
    }
   ],
   "source": [
    "# Download the dataset:\n",
    "import urllib.request\n",
    "urllib.request.urlretrieve('https://github.com/mnielsen/neural-networks-and-deep-learning/raw/master/data/mnist.pkl.gz','mnist.pkl.gz')"
   ]
  },
  {
   "cell_type": "code",
   "execution_count": 22,
   "metadata": {},
   "outputs": [
    {
     "name": "stderr",
     "output_type": "stream",
     "text": [
      "/raid/opt/hpc/anaconda/python3/lib/python3.6/site-packages/ipykernel_launcher.py:4: DeprecationWarning: invalid escape sequence '\\>'\n",
      "  after removing the cwd from sys.path.\n",
      "/raid/opt/hpc/anaconda/python3/lib/python3.6/site-packages/ipykernel_launcher.py:4: DeprecationWarning: invalid escape sequence '\\?'\n",
      "  after removing the cwd from sys.path.\n"
     ]
    }
   ],
   "source": [
    "# Load the dataset:\n",
    "import pickle, gzip\n",
    "f = gzip.open('mnist.pkl.gz','rb')\n",
    "train_set, valid_set, test_set = pickle.load(f,encoding='unicode-escape')\n",
    "f.close()\n",
    "x_train,y_train=train_set[0],train_set[1]\n",
    "x_valid,y_valid=valid_set[0],valid_set[1]\n",
    "x_test,y_test=test_set[0],test_set[1]"
   ]
  },
  {
   "cell_type": "code",
   "execution_count": 23,
   "metadata": {},
   "outputs": [
    {
     "name": "stdout",
     "output_type": "stream",
     "text": [
      "(50000, 784) (50000,) (10000, 784) (10000,)\n",
      "0.0 0.99609375 0 9\n"
     ]
    },
    {
     "data": {
      "image/png": "[encoded data removed]",
      "text/plain": [
       "<Figure size 432x288 with 50 Axes>"
      ]
     },
     "metadata": {
      "needs_background": "light"
     },
     "output_type": "display_data"
    }
   ],
   "source": [
    "# Examine the dataset:\n",
    "print(x_train.shape,y_train.shape,x_test.shape,y_test.shape)\n",
    "print(np.min(x_train),np.max(x_train),np.min(y_train),np.max(y_train))\n",
    "for i in range(50):\n",
    "    subplot(5,10,i+1)\n",
    "    imshow(x_test[i].reshape([28,28]),cmap='gray');\n",
    "    title(str(y_test[i]));\n",
    "    axis('off')"
   ]
  },
  {
   "cell_type": "markdown",
   "metadata": {},
   "source": [
    "### 4.1 Classfiy MNIST in NumpPy"
   ]
  },
  {
   "cell_type": "code",
   "execution_count": 24,
   "metadata": {},
   "outputs": [],
   "source": [
    "# Network:\n",
    "class MultiLayerNetExtend:    \n",
    "    \"Weiht Decay + Dropout + Batch Normalization\"\n",
    "    \n",
    "    def __init__(self, input_size, hidden_size_list, output_size,\n",
    "                 activation='relu', weight_init_std='relu', weight_decay_lambda=0, \n",
    "                 use_dropout = False, dropout_ratio = 0.5, use_batchnorm=False):\n",
    "        self.input_size = input_size\n",
    "        self.output_size = output_size\n",
    "        self.hidden_size_list = hidden_size_list\n",
    "        self.hidden_layer_num = len(hidden_size_list)\n",
    "        self.use_dropout = use_dropout\n",
    "        self.weight_decay_lambda = weight_decay_lambda\n",
    "        self.use_batchnorm = use_batchnorm\n",
    "        self.params = {}\n",
    "\n",
    "        self.__init_weight(weight_init_std)\n",
    "\n",
    "        activation_layer = {'sigmoid': Sigmoid, 'relu': Relu}\n",
    "        self.layers = OrderedDict()\n",
    "        for idx in range(1, self.hidden_layer_num+1):\n",
    "            self.layers['Affine' + str(idx)] = Affine(self.params['W' + str(idx)],\n",
    "                                                      self.params['b' + str(idx)])\n",
    "            if self.use_batchnorm:\n",
    "                self.params['gamma' + str(idx)] = np.ones(hidden_size_list[idx-1])\n",
    "                self.params['beta' + str(idx)] = np.zeros(hidden_size_list[idx-1])\n",
    "                self.layers['BatchNorm' + str(idx)] = BatchNormalization(self.params['gamma' + str(idx)], self.params['beta' + str(idx)])\n",
    "                \n",
    "            self.layers['Activation_function' + str(idx)] = activation_layer[activation]()\n",
    "            \n",
    "            if self.use_dropout:\n",
    "                self.layers['Dropout' + str(idx)] = Dropout(dropout_ratio)\n",
    "\n",
    "        idx = self.hidden_layer_num + 1\n",
    "        self.layers['Affine' + str(idx)] = Affine(self.params['W' + str(idx)], self.params['b' + str(idx)])\n",
    "\n",
    "        self.last_layer = SoftmaxWithLoss()\n",
    "\n",
    "    def __init_weight(self, weight_init_std):\n",
    "\n",
    "        all_size_list = [self.input_size] + self.hidden_size_list + [self.output_size]\n",
    "        for idx in range(1, len(all_size_list)):\n",
    "            scale = weight_init_std\n",
    "            if str(weight_init_std).lower() in ('relu', 'he'):\n",
    "                scale = np.sqrt(2.0 / all_size_list[idx - 1])  # for ReLu\n",
    "            elif str(weight_init_std).lower() in ('sigmoid', 'xavier'):\n",
    "                scale = np.sqrt(1.0 / all_size_list[idx - 1])  # for Sigmoid\n",
    "            self.params['W' + str(idx)] = scale * np.random.randn(all_size_list[idx-1], all_size_list[idx])\n",
    "            self.params['b' + str(idx)] = np.zeros(all_size_list[idx])\n",
    "\n",
    "    def predict(self, x, train_flg=False):\n",
    "        for key, layer in self.layers.items():\n",
    "            if \"Dropout\" in key or \"BatchNorm\" in key:\n",
    "                x = layer.forward(x, train_flg)\n",
    "            else:\n",
    "                x = layer.forward(x)\n",
    "\n",
    "        return x\n",
    "\n",
    "    def loss(self, x, t, train_flg=False):\n",
    "        y = self.predict(x, train_flg)\n",
    "\n",
    "        weight_decay = 0\n",
    "        for idx in range(1, self.hidden_layer_num + 2):\n",
    "            W = self.params['W' + str(idx)]\n",
    "            weight_decay += 0.5 * self.weight_decay_lambda * np.sum(W**2)\n",
    "\n",
    "        return self.last_layer.forward(y, t) + weight_decay\n",
    "\n",
    "    def accuracy(self, X, T):\n",
    "        Y = self.predict(X, train_flg=False)\n",
    "        Y = np.argmax(Y, axis=1)\n",
    "        if T.ndim != 1 : T = np.argmax(T, axis=1)\n",
    "\n",
    "        accuracy = np.sum(Y == T) / float(X.shape[0])\n",
    "        return accuracy\n",
    "\n",
    "    def gradient(self, x, t):\n",
    "        # forward\n",
    "        self.loss(x, t, train_flg=True)\n",
    "\n",
    "        # backward\n",
    "        dout = 1\n",
    "        dout = self.last_layer.backward(dout)\n",
    "\n",
    "        layers = list(self.layers.values())\n",
    "        layers.reverse()\n",
    "        for layer in layers:\n",
    "            dout = layer.backward(dout)\n",
    "\n",
    "        grads = {}\n",
    "        for idx in range(1, self.hidden_layer_num+2):\n",
    "            grads['W' + str(idx)] = self.layers['Affine' + str(idx)].dW + self.weight_decay_lambda * self.params['W' + str(idx)]\n",
    "            grads['b' + str(idx)] = self.layers['Affine' + str(idx)].db\n",
    "\n",
    "            if self.use_batchnorm and idx != self.hidden_layer_num+1:\n",
    "                grads['gamma' + str(idx)] = self.layers['BatchNorm' + str(idx)].dgamma\n",
    "                grads['beta' + str(idx)] = self.layers['BatchNorm' + str(idx)].dbeta\n",
    "\n",
    "        return grads"
   ]
  },
  {
   "cell_type": "code",
   "execution_count": 25,
   "metadata": {},
   "outputs": [
    {
     "name": "stdout",
     "output_type": "stream",
     "text": [
      "epoch:0 | 0.09604\n",
      "epoch:1 | 0.83048\n",
      "epoch:2 | 0.91018\n",
      "epoch:3 | 0.92486\n",
      "epoch:4 | 0.93364\n",
      "epoch:5 | 0.94022\n",
      "epoch:6 | 0.94516\n",
      "epoch:7 | 0.94898\n",
      "epoch:8 | 0.95178\n",
      "epoch:9 | 0.9542\n",
      "epoch:10 | 0.95556\n",
      "epoch:11 | 0.959\n",
      "epoch:12 | 0.95936\n",
      "epoch:13 | 0.96116\n",
      "epoch:14 | 0.96264\n",
      "epoch:15 | 0.9642\n",
      "epoch:16 | 0.96496\n",
      "epoch:17 | 0.96488\n",
      "epoch:18 | 0.96636\n",
      "epoch:19 | 0.9683\n"
     ]
    }
   ],
   "source": [
    "# Training the network:\n",
    "max_epochs = 20\n",
    "train_size = x_train.shape[0]\n",
    "batch_size = 100\n",
    "learning_rate = 0.01\n",
    "weight_init_std = 0.01\n",
    "\n",
    "model=MultiLayerNetExtend(input_size=784, hidden_size_list=[100, 100], output_size=10,\n",
    "                        weight_init_std=weight_init_std, use_batchnorm=True, use_dropout=True)\n",
    "\n",
    "optimizer = SGD(lr=learning_rate)\n",
    "train_acc_list = []\n",
    "    \n",
    "iter_per_epoch = max(train_size / batch_size, 1)\n",
    "epoch_cnt = 0\n",
    "    \n",
    "for i in range(100000000):\n",
    "    batch_mask = np.random.choice(train_size, batch_size)\n",
    "    x_batch = x_train[batch_mask]\n",
    "    y_batch = y_train[batch_mask]\n",
    "    grads = model.gradient(x_batch, y_batch)\n",
    "    optimizer.update(model.params, grads)\n",
    "    if i % iter_per_epoch == 0:\n",
    "        train_acc = model.accuracy(x_train, y_train)\n",
    "        train_acc_list.append(train_acc)\n",
    "        print(\"epoch:\" + str(epoch_cnt) + \" | \" + str(train_acc))\n",
    "        epoch_cnt += 1\n",
    "        if epoch_cnt >= max_epochs:\n",
    "            break    "
   ]
  },
  {
   "cell_type": "markdown",
   "metadata": {},
   "source": [
    "### 4.2 Classfiy MNIST in PyTorch"
   ]
  },
  {
   "cell_type": "code",
   "execution_count": 26,
   "metadata": {},
   "outputs": [],
   "source": [
    "# Transform NumPy arrays to PyTorch tensors:\n",
    "use_cuda=t.cuda.is_available()\n",
    "\n",
    "X_train=t.from_numpy(x_train)\n",
    "Y_train=t.from_numpy(y_train)\n",
    "X_test=t.from_numpy(x_test)\n",
    "Y_test=t.from_numpy(y_test)\n",
    "\n",
    "if(use_cuda):\n",
    "    X_train=X_train.cuda()\n",
    "    Y_train=Y_train.cuda()\n",
    "    X_test=X_test.cuda()\n",
    "    Y_test=Y_test.cuda()"
   ]
  },
  {
   "cell_type": "code",
   "execution_count": 27,
   "metadata": {},
   "outputs": [
    {
     "name": "stderr",
     "output_type": "stream",
     "text": [
      "/raid/opt/hpc/anaconda/python3/lib/python3.6/site-packages/torch/nn/modules/container.py:91: UserWarning: Implicit dimension choice for softmax has been deprecated. Change the call to include dim=X as an argument.\n",
      "  input = module(input)\n"
     ]
    },
    {
     "name": "stdout",
     "output_type": "stream",
     "text": [
      "epoch  0 : 0.111\n",
      "epoch  50 : 0.3931\n",
      "epoch  100 : 0.46124\n",
      "epoch  150 : 0.62836\n",
      "epoch  200 : 0.7172\n",
      "epoch  250 : 0.7695\n",
      "epoch  300 : 0.78896\n",
      "epoch  350 : 0.8023\n",
      "epoch  400 : 0.81102\n",
      "epoch  450 : 0.81752\n",
      "epoch  500 : 0.822\n",
      "epoch  550 : 0.82652\n",
      "epoch  600 : 0.82922\n",
      "epoch  650 : 0.83204\n",
      "epoch  700 : 0.83466\n",
      "epoch  750 : 0.83654\n",
      "epoch  800 : 0.83832\n",
      "epoch  850 : 0.84016\n",
      "epoch  900 : 0.8415\n",
      "epoch  950 : 0.84278\n"
     ]
    }
   ],
   "source": [
    "D_in,H,D_out=784,100,10\n",
    "\n",
    "# Training the network:\n",
    "model = t.nn.Sequential(\n",
    "    t.nn.Linear(D_in, H),\n",
    "    #t.nn.BatchNorm1d(H),\n",
    "    t.nn.ReLU(),\n",
    "    #t.nn.Dropout(p=0.5),\n",
    "    #t.nn.Linear(H, H),\n",
    "    #t.nn.BatchNorm1d(H),\n",
    "    #ct.nn.ReLU(),\n",
    "    #t.nn.Dropout(p=0.5),\n",
    "    t.nn.Linear(H, D_out),\n",
    "    t.nn.Softmax()\n",
    ")\n",
    "\n",
    "loss_fn = t.nn.CrossEntropyLoss()\n",
    "learning_rate = 1e-4\n",
    "optimizer = t.optim.Adam(model.parameters(), lr=learning_rate) #https://pytorch.org/docs/stable/optim.html\n",
    "\n",
    "if(use_cuda):\n",
    "    model=model.cuda()\n",
    "    loss_fn=loss_fn.cuda()\n",
    "    \n",
    "for i in range(1000):\n",
    "    # Forward pass:\n",
    "    Y_pred = model(X_train)\n",
    "\n",
    "    loss = loss_fn(Y_pred, Y_train)\n",
    "    \n",
    "    # Zero the gradients before running the backward pass.\n",
    "    model.zero_grad()\n",
    "\n",
    "    # Backward pass:\n",
    "    loss.backward()\n",
    "\n",
    "    # Update the weights using gradient descent:\n",
    "    optimizer.step()\n",
    "    \n",
    "    # Check training accuracy:\n",
    "    if i % 50 == 0:\n",
    "        Y_pred = model(X_train) # Y_pred.shape=[50000,10]\n",
    "        Y_pred = t.max(Y_pred,1)[1] # Y_pred.shape=[50000]\n",
    "        print('epoch ',i,':',(Y_pred==Y_train).sum().item()/Y_train.shape[0])"
   ]
  },
  {
   "cell_type": "code",
   "execution_count": 28,
   "metadata": {},
   "outputs": [
    {
     "name": "stderr",
     "output_type": "stream",
     "text": [
      "/raid/opt/hpc/anaconda/python3/lib/python3.6/site-packages/torch/nn/modules/container.py:91: UserWarning: Implicit dimension choice for softmax has been deprecated. Change the call to include dim=X as an argument.\n",
      "  input = module(input)\n"
     ]
    },
    {
     "name": "stdout",
     "output_type": "stream",
     "text": [
      "Accuracy on all testing samples: 0.8474\n",
      "Accuracy on the first 50 testing samples: 0.86\n",
      "Correct answers:\n",
      " [[7 2 1 0 4 1 4 9 5 9]\n",
      " [0 6 9 0 1 5 9 7 3 4]\n",
      " [9 6 6 5 4 0 7 4 0 1]\n",
      " [3 1 3 4 7 2 7 1 2 1]\n",
      " [1 7 4 2 3 5 1 2 4 4]]\n"
     ]
    },
    {
     "data": {
      "image/png": "[encoded data removed]",
      "text/plain": [
       "<Figure size 432x288 with 50 Axes>"
      ]
     },
     "metadata": {
      "needs_background": "light"
     },
     "output_type": "display_data"
    }
   ],
   "source": [
    "# Testing the network:\n",
    "Y_pred = model(X_test) # Y_pred.shape=[50000,10]\n",
    "Y_pred = t.max(Y_pred,1)[1] # Y_pred.shape=[50000]\n",
    "test_acc=(Y_pred==Y_test).sum().item()/Y_test.shape[0]\n",
    "print('Accuracy on all testing samples:',test_acc)\n",
    "\n",
    "# Visualize results of the first 50 testing samples:\n",
    "Y_pred = model(X_test[0:50,]) # Y_pred.shape=[50000,10]\n",
    "Y_pred = t.max(Y_pred[0:50],1)[1] # Y_pred.shape=[50000]\n",
    "test_acc=(Y_pred==Y_test[0:50]).sum().item()/50\n",
    "print('Accuracy on the first 50 testing samples:',test_acc)\n",
    "print('Correct answers:\\n',y_test[0:50].reshape([5,10]))\n",
    "\n",
    "for i in range(50):\n",
    "    subplot(5,10,i+1)\n",
    "    imshow(x_test[i].reshape([28,28]),cmap='gray');\n",
    "    title(str(Y_pred[i].item()));\n",
    "    axis('off')"
   ]
  }
 ],
 "metadata": {
  "kernelspec": {
   "display_name": "Python 3",
   "language": "python",
   "name": "python3"
  },
  "language_info": {
   "codemirror_mode": {
    "name": "ipython",
    "version": 3
   },
   "file_extension": ".py",
   "mimetype": "text/x-python",
   "name": "python",
   "nbconvert_exporter": "python",
   "pygments_lexer": "ipython3",
   "version": "3.7.1"
  }
 },
 "nbformat": 4,
 "nbformat_minor": 2
}
