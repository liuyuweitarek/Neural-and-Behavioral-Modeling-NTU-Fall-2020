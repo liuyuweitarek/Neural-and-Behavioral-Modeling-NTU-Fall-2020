{
 "cells": [
  {
   "cell_type": "markdown",
   "metadata": {},
   "source": [
    "# Neural & Behavioral Modeling - Week 5 (Examples)\n",
    "by Tsung-Ren (Tren) Huang (tren.huang@gmail.com)"
   ]
  },
  {
   "cell_type": "code",
   "execution_count": 1,
   "metadata": {},
   "outputs": [],
   "source": [
    "%config IPCompleter.greedy=True \n",
    "%matplotlib inline\n",
    "from numpy import *\n",
    "from matplotlib.pyplot import *\n",
    "from IPython.display import *"
   ]
  },
  {
   "cell_type": "markdown",
   "metadata": {},
   "source": [
    "## 1 Cellular Automata Models\n",
    "Conway's Game of Life uses the following two rules:\n",
    "\n",
    "<img src=http://tianfangyetan.net/New1001/chapter4_files/image001.gif>"
   ]
  },
  {
   "cell_type": "markdown",
   "metadata": {},
   "source": [
    "### 1.1a Conway's Game of Life (Loop Version)"
   ]
  },
  {
   "cell_type": "code",
   "execution_count": 4,
   "metadata": {},
   "outputs": [
    {
     "data": {
      "image/png": "[encoded data removed]",
      "text/plain": [
       "<Figure size 432x288 with 1 Axes>"
      ]
     },
     "metadata": {
      "needs_background": "light"
     },
     "output_type": "display_data"
    }
   ],
   "source": [
    "# Model parameters:\n",
    "density=.25 # density of population in the world\n",
    "sz=50 # size of the grid world\n",
    "\n",
    "world=(random.random((sz,sz))<density).astype(int) # A grid world\n",
    "new_world=world.copy()\n",
    "\n",
    "for t in range(50): # Evolution\n",
    "    for x in range(sz): # can actually be vectorized to avoid these two loops\n",
    "        for y in range(sz):\n",
    "            xp=mod(x+1,sz) # compute x+1 w/ a cyclic boundary\n",
    "            xm=mod(x-1,sz) # compute x-1 w/ a cyclic boundary\n",
    "            yp=mod(y+1,sz) # compute y+1 w/ a cyclic boundary\n",
    "            ym=mod(y-1,sz) # compute y-1 w/ a cyclic boundary\n",
    "            \n",
    "            # Count how many of the eight neighbors are alive:\n",
    "            neighbors=world[x,ym]+world[x,yp]+world[xm,y]+world[xp,y]+ \\\n",
    "                      world[xm,ym]+world[xp,ym]+world[xm,yp]+world[xp,yp]\n",
    "                \n",
    "            # A live cell w/ 2 live neighbor or any w/ 3 live neighbors:\n",
    "            new_world[x,y]=int((world[x,y]==1 and neighbors==2) or (neighbors==3));\n",
    "            \n",
    "    world=new_world.copy() # update synchronously for all (x,y)\n",
    "    clf() # clear previous figure\n",
    "    spy(world); title(str(t)) # plot the world\n",
    "    display(gcf()); clear_output(wait=True) # to allow dynamic plots"
   ]
  },
  {
   "cell_type": "markdown",
   "metadata": {},
   "source": [
    "### 1.1b Conway's Game of Life (Vectorized Version)"
   ]
  },
  {
   "cell_type": "code",
   "execution_count": 3,
   "metadata": {},
   "outputs": [
    {
     "data": {
      "image/png": "[encoded data removed]",
      "text/plain": [
       "<Figure size 432x288 with 1 Axes>"
      ]
     },
     "metadata": {
      "needs_background": "light"
     },
     "output_type": "display_data"
    }
   ],
   "source": [
    "# Model parameters:\n",
    "density=.25 # density of population in the world\n",
    "sz=50 # size of the grid world\n",
    "\n",
    "#Initialization:\n",
    "X=(random.random((sz,sz))<density).astype(int) # A grid world\n",
    "\n",
    "for t in range(50): # Evolution\n",
    "\n",
    "    # Count how many of the eight neighbors are alive:\n",
    "    Y=roll(X,-1,0)+ roll(X,1,0)+roll(X,-1,1)+roll(X,1,1)+ \\\n",
    "      roll(roll(X,-1,0),-1,1)+roll(roll(X,-1,0),1,1)+ \\\n",
    "      roll(roll(X,1,0),-1,1)+roll(roll(X,1,0),1,1)\n",
    "    \n",
    "    # A live cell w/ 2 live neighbor or any w/ 3 live neighbors:\n",
    "    X=logical_or(logical_and(X==1,Y==2),Y==3).astype(int)\n",
    "    \n",
    "    clf() # clear previous figure\n",
    "    spy(X); title(str(t)) # plot the world\n",
    "    display(gcf()); clear_output(wait=True); # to allow dynamic plots"
   ]
  },
  {
   "cell_type": "markdown",
   "metadata": {},
   "source": [
    "### 1.2 Majority Voting Model\n",
    "This model is a simple cellular automaton that simulates voting distribution by having each patch take a \"vote\" of its eight surrounding neighbors, then perhaps change its own vote according to the outcome."
   ]
  },
  {
   "cell_type": "code",
   "execution_count": null,
   "metadata": {},
   "outputs": [],
   "source": [
    "# Model parameters:\n",
    "proportion=.5 # proportion of (political) party 0\n",
    "sz=50 # size of the grid world\n",
    "\n",
    "#Initialization:\n",
    "X=(random.random((sz,sz))<proportion).astype(int) # A grid world\n",
    "\n",
    "for t in range(50): # Evolution\n",
    "\n",
    "    # Count how many of the eight neighbors voting party 1:\n",
    "    Y=roll(X,-1,0)+ roll(X,1,0)+roll(X,-1,1)+roll(X,1,1)+ \\\n",
    "      roll(roll(X,-1,0),-1,1)+roll(roll(X,-1,0),1,1)+ \\\n",
    "      roll(roll(X,1,0),-1,1)+roll(roll(X,1,0),1,1)\n",
    "    \n",
    "    # Majority voting:\n",
    "    X[Y>4]=1\n",
    "    X[Y<4]=0\n",
    "    #X[Y==4]=1-X[Y==4] # behavior during ties\n",
    "    \n",
    "    clf() # clear previous figure\n",
    "    spy(X); title(str(t)) # plot the world\n",
    "    display(gcf()); clear_output(wait=True) # to allow dynamic plots"
   ]
  },
  {
   "cell_type": "markdown",
   "metadata": {},
   "source": [
    "## 2 Agent-Based Models\n",
    "Here are symbols for representing agents:\n",
    "\n",
    "☍๑•ิ.•ั๑ ๑۩۞۩๑ ♬✿ ☉♡ ♢ ♣ ♤ ♥ ♦ ♧ ♨ ♩ ✙✈ ✉ ✌ ✁ ✎ ✐ ❀ ✰ ❁ ❤ ❥ ❦❧ ➳ ➽ εїз℡❣·۰•●○●ゃōゃ♥ ♡๑۩ﺴ ☜ ☞ ☎ ☏♡ ⊙◎ ☺ ☻✖╄ஐﻬ ► ◄ ▧ ▨ ♨ ◐ ◑ ↔ ↕ ▪ ▫ ☼ ♦ ▀ ▄ █▌ ▐░ ▒ ▬♦ ◊ ◦ ☼ ♠♣ ▣ ▤ ▥ ▦ ▩ ◘ ◙ ◈ ♫ ♬ ♪ ♩ ♭ ♪ の ☆ → あ ぃ ￡ ❤ ❁ ❀ ✿ ✾ ❃ ✺ ❇ ❈ ❊ ❉ ✱ ✲ ✩ ✫ ✬ ✭ ✮ ✰ ☆ ★ ✪ ¤ ☼ ☀ ☽ ☾ ❤ ♡ ღ☻ ☺ ❂ ◕ ⊕ ☉ Θ o O ♋ ☯ ㊝ ⊙ ◎ ◑ ◐ ۰ • ● ▪ ▫ ｡ ﾟ ๑ ☜ ☞ ☂ ♨ ☎ ☏▶ ▷ ◀ ◁ ☀ ☁ ☂ ☃ ☄ ★ ☆ ☇ ☈ ☉ ☊ ☋ ☌ ☍ ☑ ☒☢ ☸ ☹ ☺ ☻ ☼ ☽ ☾ ♠ ♝ ♞♯♩♪♫♬♭♮ ☎ ☏ ☪ ♈ ♨ ºº ₪ ¤ 큐 « »™ ♂✿ ♥ の ↑ ↓ ← → ↖ ↗ ↙ ↘ ㊣ ◎ ○ ● ⊕ ⊙ ○　 △ ▲ ☆ ★ ◇ ◆ ■ □ ▽ ▼ § ￥〒 ￠ ￡ ※ ♀ ♂ © ® ⁂ ℡ ↂ░ ▣ ▤ ▥ ▦ ▧ ✐✌✍✡✓✔✕✖ ♂ ♀ ♥ ♡ ☜ ☞ ☎ ☏ ⊙ ◎ ☺ ☻ ► ◄ ▧ ▨ ♨ ◐ ◑ ↔ ↕ ♥ ♡ ▪ ▫ ☼ ♦ ▀ ▄ █ ▌ ▐ ░ ▒ ▬ ♦ ◊ ◘ ◙ ◦ ☼ ♠ ♣ ▣ ▤ ▥ ▦ ▩ ◘ ◙ ◈ ♫ ♬ ♪ ♩ ♭ ♪ ✄☪☣☢☠㊊㊋㊌㊍㊎㊏ ㊐㊑㊒㊓㊔㊕㊖㊗㊘㊜㊝㊞㊟㊠㊡㊢ ㊣㊤㊥㊦㊧㊨㊩㊪㊫㊬㊭㊮㊯㊰✗✘✚✪✣✤✥✦✧✩✫✬✭✮✯✰ ✱✲✳❃❂❁❀✿✾✽✼✻✺✹✸✷ ✶✵✴❄❅❆❇❈❉❊❋❖☀☂☁【】┱ ┲ ❣ ✪ ✣ ✤ ✥ ✦ ❉ ❥ ❦ ❧ ❃ ❂ ❁ ❀ ✄ ☪ ☣ ☢ ☠ ☭ ♈ ➸ ✓ ✔ ✕ ✖ .: ◢ ◣ ◥ ◤ ▽ ▧ ▨ ▣ ▤ ▥ ▦ ▩ ◘ ◙ ▓ ▒ ░ ™ ℡ 凸 の ๑۞๑ ๑۩ﺴ ﺴ۩๑ o(‧”’‧)o ❆ べò⊹⊱⋛⋋ ⋌⋚⊰⊹ ⓛⓞⓥⓔ ☀ ☼ ☜ ☞ ⊙® ◈ ♦ ◊ ◦ ◇ ◆ εїз❃❂❁❀✿✾✽✼✻✺✹✸✷ ✶✵✴❄❅❆❇❈❉ ❊❋❖❤❥❦❧↔ ↕ ▪ → ︷╅╊✿ (¯`•._.•¯) ❤`•.¸¸.•´´¯`•• .¸¸.•´¯`•.•●•۰• ••.•´¯`•.•• ••.•´¯`•.••—¤÷—(•·÷[ ]÷·•)— ①②③④⑤⑥⑦⑧⑨⑩⑪⑫⑬⑭⑮⑯⑰⑱⑲⑳ⒶⒷⒸⒹⒺⒻⒼⒽⒾⒿⓀⓁⓂⓃⓄⓅⓆⓇⓈⓉⓊⓋⓌⓍⓎⓏⓐⓑⓒⓓⓔⓕⓖⓗⓘⓙⓚⓛⓜⓝⓞⓟⓠⓡⓢⓣⓤⓥⓦⓧⓨⓩ"
   ]
  },
  {
   "cell_type": "markdown",
   "metadata": {},
   "source": [
    "### 2.1 Vagrant Model\n",
    "This is a minimal working example of agent-based models in which vagrants wander around."
   ]
  },
  {
   "cell_type": "code",
   "execution_count": 10,
   "metadata": {},
   "outputs": [
    {
     "data": {
      "image/png": "[encoded data removed]",
      "text/plain": [
       "<Figure size 432x288 with 1 Axes>"
      ]
     },
     "metadata": {
      "needs_background": "light"
     },
     "output_type": "display_data"
    }
   ],
   "source": [
    "import time\n",
    "\n",
    "# Model parameters:\n",
    "Npeople=10 # try 1\n",
    "sz=50 # grid size\n",
    "\n",
    "# Supporting functions:\n",
    "class Person:\n",
    "    def __init__(self,grid):\n",
    "        grid_size=len(grid)\n",
    "        self.energy=10 # initial energy\n",
    "        self.color=random.rand(3)/2 # skin color\n",
    "        self.xy=random.randint(0,grid_size,2) # locations\n",
    "        \n",
    "    def move(self,grid):\n",
    "        grid_size=len(grid)\n",
    "        self.xy+=random.randint(-1,2,2) # stay or move to its neighboring locations\n",
    "        self.xy=mod(self.xy,grid_size) # cyclic boundary\n",
    "        self.energy-=1 # energy decay\n",
    "        \n",
    "    def eat(self,grid):\n",
    "        grid_size=len(grid)\n",
    "        if(grid[self.xy[0],self.xy[1]]==1): # there is food\n",
    "            grid[self.xy[0],self.xy[1]]=0 # eat it!\n",
    "            self.energy+=10\n",
    "        \n",
    "def plot_world(grid,agents):\n",
    "    sz=len(grid)\n",
    "    clf() # clear previous figure\n",
    "    spy(grid,alpha=0.1)\n",
    "    for a in agents:\n",
    "        offset=(random.rand(2)-1)/2 # adding some positional offsets to avoid overlapping of agents\n",
    "        text(a.xy[1]+offset[1],a.xy[0]+offset[0],'♂',{'size':12,'color':a.color})\n",
    "        #text(a.xy[1]+offset[1],a.xy[0]+offset[0],str(a.energy),{'size':12,'color':a.color})\n",
    "    title('Nalive='+str(len(agents)))\n",
    "    axis('off')\n",
    "    display(gcf()); clear_output(wait=True) # to allow dynamic plots\n",
    "\n",
    "# Initialization:\n",
    "grid=ones((sz,sz)) # try eye(sz)\n",
    "people = [Person(grid) for i in range(Npeople)] # assign each person to a location\n",
    "\n",
    "# Simulation:\n",
    "Nalive=len(people)\n",
    "while(Nalive>0): # Simulation stops when everyone is dead\n",
    "    for person in people:\n",
    "        person.move(grid)\n",
    "        person.eat(grid)\n",
    "        if(person.energy>100):\n",
    "            people.append(Person(grid)) # reproduce\n",
    "            people[-1].xy=person.xy.copy() # easier to see the reproduction\n",
    "            person.energy-=50\n",
    "    Nalive=len(people)\n",
    "    people=[people[i] for i in range(Nalive) if people[i].energy>0] # some people died\n",
    "    plot_world(grid,people) # Plot new results\n",
    "    #time.sleep(1)"
   ]
  },
  {
   "cell_type": "markdown",
   "metadata": {},
   "source": [
    "### 2.2 Boid Model\n",
    "The flocking model uses the following three rules:\n",
    "\n",
    "1. separation (short distance): steer to avoid crowding local flockmates\n",
    "<img src=\"https://upload.wikimedia.org/wikipedia/commons/e/e1/Rule_separation.gif\"><br>\n",
    "\n",
    "2. alignment (medium distance): steer towards the average heading of local flockmates\n",
    "<img src=\"https://upload.wikimedia.org/wikipedia/commons/e/e1/Rule_alignment.gif\"><br>\n",
    "\n",
    "3. cohesion (long distance): steer to move toward the average position (center of mass) of local flockmates\n",
    "<img src=\"https://upload.wikimedia.org/wikipedia/commons/2/2b/Rule_cohesion.gif\"><br>"
   ]
  },
  {
   "cell_type": "code",
   "execution_count": 13,
   "metadata": {},
   "outputs": [
    {
     "data": {
      "image/png": "[encoded data removed]",
      "text/plain": [
       "<Figure size 432x288 with 1 Axes>"
      ]
     },
     "metadata": {
      "needs_background": "light"
     },
     "output_type": "display_data"
    }
   ],
   "source": [
    "# Model parameters:\n",
    "Nboids=50 \n",
    "world=[0,500,0,500] # world boundaries\n",
    "speed=5 \n",
    "repulsion_dis=10   # repulsion distance\n",
    "alignment_dis=80   # alignment distance\n",
    "attraction_dis=100 # attraction distance\n",
    "\n",
    "# Supporting functions:\n",
    "class Boid:\n",
    "    \n",
    "    def __init__(self,world):\n",
    "        world_size=max(world)\n",
    "        self.position=world_size*random.rand(2) \n",
    "        temp_dir=random.rand(2)\n",
    "        self.direction=temp_dir/linalg.norm(temp_dir)\n",
    "        \n",
    "    def move(self,world,boids,distance):\n",
    "        \n",
    "        # Repulsion to group position is the top priority:\n",
    "        repulsion_group=[boids[j] for j in range(Nboids) if distance[j]>0 and distance[j]<=repulsion_dis]\n",
    "        Nrepulsion=len(repulsion_group)\n",
    "        if(Nrepulsion>0):  \n",
    "            group_position=zeros(2)\n",
    "            for r in repulsion_group:\n",
    "                group_position+=r.position\n",
    "            group_position/=Nrepulsion\n",
    "            # set rather than revise the heading direction:\n",
    "            self.direction=self.position-group_position\n",
    "                        \n",
    "        else:\n",
    "            \n",
    "            # Alignment to group direction:\n",
    "            alignment_group=[boids[j] for j in range(Nboids) if distance[j]>repulsion_dis and distance[j]<=alignment_dis]\n",
    "            Nalignment=len(alignment_group)\n",
    "            if(Nalignment>0):  \n",
    "                group_direction=zeros(2)\n",
    "                for a in alignment_group:\n",
    "                    group_direction+=a.direction # addition of unit vectors\n",
    "                self.direction+=group_direction # revise the original direction\n",
    "                \n",
    "            # Attraction to group position:\n",
    "            attraction_group=[boids[j] for j in range(Nboids) if distance[j]>alignment_dis and distance[j]<=attraction_dis]\n",
    "            Nattraction=len(attraction_group)\n",
    "            if(Nattraction>0):  \n",
    "                group_position=zeros(2)\n",
    "                for a in attraction_group:\n",
    "                    group_position+=a.position\n",
    "                group_position/=Nattraction\n",
    "                catch_direction=(group_position-self.position)\n",
    "                self.direction+=catch_direction # revise the original direction\n",
    "            \n",
    "        # For all cases (including the case of no neighbors at all):\n",
    "        self.direction/=linalg.norm(self.direction) # make it a unit vector\n",
    "        self.position=around(self.position+self.direction*speed)\n",
    "        self.position=mod(self.position,max(world)) # cyclic boundary\n",
    "\n",
    "def plot_world(world,boids):\n",
    "    clf() # clear previous figure\n",
    "    for b in boids:\n",
    "        plot(b.position[0],b.position[1],'r>')\n",
    "    axis(world)\n",
    "    display(gcf()); clear_output(wait=True) # to allow dynamic plots\n",
    "    \n",
    "# Initialization:\n",
    "boids=[Boid(world) for i in range(Nboids)] # assign each boid to a position\n",
    "\n",
    "for t in range(100):\n",
    "    \n",
    "    # Calculate all pairwise distances before anyone moves:\n",
    "    distance=zeros([Nboids,Nboids])\n",
    "    for i in range(Nboids):\n",
    "        for j in range(Nboids):\n",
    "            distance[i,j]=linalg.norm(boids[i].position-boids[j].position)\n",
    "    \n",
    "    # Move according to the three rules:       \n",
    "    for i in range(Nboids):\n",
    "        boids[i].move(world,boids,distance[i,:])\n",
    "        \n",
    "    plot_world(world,boids)"
   ]
  }
 ],
 "metadata": {
  "kernelspec": {
   "display_name": "Python 3",
   "language": "python",
   "name": "python3"
  },
  "language_info": {
   "codemirror_mode": {
    "name": "ipython",
    "version": 3
   },
   "file_extension": ".py",
   "mimetype": "text/x-python",
   "name": "python",
   "nbconvert_exporter": "python",
   "pygments_lexer": "ipython3",
   "version": "3.7.6"
  }
 },
 "nbformat": 4,
 "nbformat_minor": 2
}
