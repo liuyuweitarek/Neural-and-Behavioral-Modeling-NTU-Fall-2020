{
 "cells": [
  {
   "cell_type": "markdown",
   "metadata": {},
   "source": [
    "# Neural & Behavioral Modeling - Week 5 (Exercises)\n",
    "by 劉昱維 (r08227111@g.ntu.edu.tw)"
   ]
  },
  {
   "cell_type": "code",
   "execution_count": 1,
   "metadata": {},
   "outputs": [],
   "source": [
    "%config IPCompleter.greedy=True \n",
    "%matplotlib inline\n",
    "from numpy import *\n",
    "from matplotlib.pyplot import *\n",
    "from IPython.display import *"
   ]
  },
  {
   "cell_type": "markdown",
   "metadata": {},
   "source": [
    "## 1 Replicate exisiting findings/models (10 points)\n",
    "Based on your personal interest, please choose and replicate ONE of the following studies:\n",
    "\n",
    "1. <a href=\"http://ccl.northwestern.edu/netlogo/models/FlockingVeeFormations\">Flocking Vee Formations</a> in NetLogo's [Sample Models::Biology] \n",
    "\n",
    "2. <a href=\"http://ccl.northwestern.edu/netlogo/models/WolfSheepPredation\">Wolf-Sheep Predation</a> in NetLogo's [Sample Models::Biology] \n",
    "\n",
    "3. <a href=\"https://kknews.cc/zh-tw/news/p56pbrp.html\">MIT Matching Game</a>\n",
    "\n",
    "4. Gray, K., Rand, D. G., Ert, E., Lewis, K., Hershman, S., & Norton, M. I. (2014). <a href=\"http://www.mpmlab.org/groups/\">The emergence of “us and them” in 80 lines of code: Modeling group genesis in homogeneous populations</a>. Psychological Science, 25(4), 982-990.\n",
    "\n",
    "5. Luhmann, C. C., & Rajaram, S. (2015). <a href=\"http://journals.sagepub.com/doi/abs/10.1177/0956797615605798\">Memory transmission in small groups and large networks: An agent-based model</a>. Psychological Science, 26(12), 1909-1917.\n",
    "\n",
    "6. Henriques, G. J., Simon, B., Ispolatov, Y., & Doebeli, M. (2019). <a href=\"https://www.pnas.org/content/116/28/14089\">Acculturation drives the evolution of intergroup conflict</a>. Proceedings of the National Academy of Sciences, 116(28), 14089-14097."
   ]
  },
  {
   "cell_type": "markdown",
   "metadata": {},
   "source": [
    "## Replicate No.1\n",
    "### 使用vpython 重製 Flocking Vee Formations\n",
    "參考來自\n",
    "Eric Nilsen\n",
    "September 2003\n",
    ":https://vpython.org/contents/contributed/boids.py<br>\n",
    "1. 其版本Py2已經過時無法使用，將其修復。<br>\n",
    "[Module modified] <br>\n",
    "-- python2 -> python3<br>\n",
    "-- visual -> vpython<br>\n",
    "[Function modified]<br>\n",
    "-- Add getLocate()<br>\n",
    "-- Fix rule1<br>\n",
    "-- Fix rule2<br>\n",
    "-- Fix rule3<br>\n",
    "-- Fix boids might fly out off box bug <br>\n"
   ]
  },
  {
   "cell_type": "code",
   "execution_count": null,
   "metadata": {},
   "outputs": [],
   "source": [
    "# Please install vpython first.\n",
    "!pip install vpython  "
   ]
  },
  {
   "cell_type": "code",
   "execution_count": 1,
   "metadata": {},
   "outputs": [
    {
     "data": {
      "text/html": [
       "<div id=\"glowscript\" class=\"glowscript\"></div>"
      ],
      "text/plain": [
       "<IPython.core.display.HTML object>"
      ]
     },
     "metadata": {},
     "output_type": "display_data"
    },
    {
     "data": {
      "application/javascript": [
       "if (typeof Jupyter !== \"undefined\") { window.__context = { glowscript_container: $(\"#glowscript\").removeAttr(\"id\")};}else{ element.textContent = ' ';}"
      ],
      "text/plain": [
       "<IPython.core.display.Javascript object>"
      ]
     },
     "metadata": {},
     "output_type": "display_data"
    },
    {
     "data": {
      "application/javascript": [
       "if (typeof Jupyter !== \"undefined\") {require.undef(\"nbextensions/vpython_libraries/glow.min\");}else{element.textContent = ' ';}"
      ],
      "text/plain": [
       "<IPython.core.display.Javascript object>"
      ]
     },
     "metadata": {},
     "output_type": "display_data"
    },
    {
     "data": {
      "application/javascript": [
       "if (typeof Jupyter !== \"undefined\") {require.undef(\"nbextensions/vpython_libraries/glowcomm\");}else{element.textContent = ' ';}"
      ],
      "text/plain": [
       "<IPython.core.display.Javascript object>"
      ]
     },
     "metadata": {},
     "output_type": "display_data"
    },
    {
     "data": {
      "application/javascript": [
       "if (typeof Jupyter !== \"undefined\") {require.undef(\"nbextensions/vpython_libraries/jquery-ui.custom.min\");}else{element.textContent = ' ';}"
      ],
      "text/plain": [
       "<IPython.core.display.Javascript object>"
      ]
     },
     "metadata": {},
     "output_type": "display_data"
    },
    {
     "data": {
      "application/javascript": [
       "if (typeof Jupyter !== \"undefined\") {require([\"nbextensions/vpython_libraries/glow.min\"], function(){console.log(\"GLOW LOADED\");});}else{element.textContent = ' ';}"
      ],
      "text/plain": [
       "<IPython.core.display.Javascript object>"
      ]
     },
     "metadata": {},
     "output_type": "display_data"
    },
    {
     "data": {
      "application/javascript": [
       "if (typeof Jupyter !== \"undefined\") {require([\"nbextensions/vpython_libraries/glowcomm\"], function(){console.log(\"GLOWCOMM LOADED\");});}else{element.textContent = ' ';}"
      ],
      "text/plain": [
       "<IPython.core.display.Javascript object>"
      ]
     },
     "metadata": {},
     "output_type": "display_data"
    },
    {
     "data": {
      "application/javascript": [
       "if (typeof Jupyter !== \"undefined\") {require([\"nbextensions/vpython_libraries/jquery-ui.custom.min\"], function(){console.log(\"JQUERY LOADED\");});}else{element.textContent = ' ';}"
      ],
      "text/plain": [
       "<IPython.core.display.Javascript object>"
      ]
     },
     "metadata": {},
     "output_type": "display_data"
    },
    {
     "ename": "KeyboardInterrupt",
     "evalue": "",
     "output_type": "error",
     "traceback": [
      "\u001b[1;31m---------------------------------------------------------------------------\u001b[0m",
      "\u001b[1;31mKeyboardInterrupt\u001b[0m                         Traceback (most recent call last)",
      "\u001b[1;32m<ipython-input-1-ebb16c479d06>\u001b[0m in \u001b[0;36m<module>\u001b[1;34m\u001b[0m\n\u001b[0;32m    170\u001b[0m \u001b[1;33m\u001b[0m\u001b[0m\n\u001b[0;32m    171\u001b[0m \u001b[1;32mif\u001b[0m \u001b[0m__name__\u001b[0m \u001b[1;33m==\u001b[0m \u001b[1;34m\"__main__\"\u001b[0m\u001b[1;33m:\u001b[0m\u001b[1;33m\u001b[0m\u001b[1;33m\u001b[0m\u001b[0m\n\u001b[1;32m--> 172\u001b[1;33m     \u001b[0mb\u001b[0m \u001b[1;33m=\u001b[0m \u001b[0mBoids\u001b[0m\u001b[1;33m(\u001b[0m\u001b[1;36m100\u001b[0m\u001b[1;33m,\u001b[0m\u001b[1;36m200\u001b[0m\u001b[1;33m)\u001b[0m\u001b[1;33m\u001b[0m\u001b[1;33m\u001b[0m\u001b[0m\n\u001b[0m",
      "\u001b[1;32m<ipython-input-1-ebb16c479d06>\u001b[0m in \u001b[0;36m__init__\u001b[1;34m(self, numboids, sidesize)\u001b[0m\n\u001b[0;32m     30\u001b[0m         \u001b[0mself\u001b[0m\u001b[1;33m.\u001b[0m\u001b[0mDT\u001b[0m \u001b[1;33m=\u001b[0m \u001b[1;36m0.02\u001b[0m                  \u001b[1;31m# delay time between snapshots\u001b[0m\u001b[1;33m\u001b[0m\u001b[1;33m\u001b[0m\u001b[0m\n\u001b[0;32m     31\u001b[0m \u001b[1;33m\u001b[0m\u001b[0m\n\u001b[1;32m---> 32\u001b[1;33m         \u001b[0mself\u001b[0m\u001b[1;33m.\u001b[0m\u001b[0mboids\u001b[0m\u001b[1;33m(\u001b[0m\u001b[1;33m)\u001b[0m                    \u001b[1;31m# init\u001b[0m\u001b[1;33m\u001b[0m\u001b[1;33m\u001b[0m\u001b[0m\n\u001b[0m\u001b[0;32m     33\u001b[0m \u001b[1;33m\u001b[0m\u001b[0m\n\u001b[0;32m     34\u001b[0m     \u001b[1;32mdef\u001b[0m \u001b[0mboids\u001b[0m\u001b[1;33m(\u001b[0m\u001b[0mself\u001b[0m\u001b[1;33m)\u001b[0m\u001b[1;33m:\u001b[0m\u001b[1;33m\u001b[0m\u001b[1;33m\u001b[0m\u001b[0m\n",
      "\u001b[1;32m<ipython-input-1-ebb16c479d06>\u001b[0m in \u001b[0;36mboids\u001b[1;34m(self)\u001b[0m\n\u001b[0;32m     36\u001b[0m         \u001b[1;32mwhile\u001b[0m \u001b[1;33m(\u001b[0m\u001b[1;36m1\u001b[0m\u001b[1;33m==\u001b[0m\u001b[1;36m1\u001b[0m\u001b[1;33m)\u001b[0m\u001b[1;33m:\u001b[0m\u001b[1;33m\u001b[0m\u001b[1;33m\u001b[0m\u001b[0m\n\u001b[0;32m     37\u001b[0m             \u001b[0mrate\u001b[0m\u001b[1;33m(\u001b[0m\u001b[1;36m100\u001b[0m\u001b[1;33m)\u001b[0m                   \u001b[1;31m# controls the animation speed, bigger = faster\u001b[0m\u001b[1;33m\u001b[0m\u001b[1;33m\u001b[0m\u001b[0m\n\u001b[1;32m---> 38\u001b[1;33m             \u001b[0mself\u001b[0m\u001b[1;33m.\u001b[0m\u001b[0mmoveAllBoidsToNewPositions\u001b[0m\u001b[1;33m(\u001b[0m\u001b[1;33m)\u001b[0m\u001b[1;33m\u001b[0m\u001b[1;33m\u001b[0m\u001b[0m\n\u001b[0m\u001b[0;32m     39\u001b[0m \u001b[1;33m\u001b[0m\u001b[0m\n\u001b[0;32m     40\u001b[0m     \u001b[1;32mdef\u001b[0m \u001b[0mgetLocate\u001b[0m\u001b[1;33m(\u001b[0m\u001b[0mself\u001b[0m\u001b[1;33m,\u001b[0m\u001b[0mboid\u001b[0m\u001b[1;33m)\u001b[0m\u001b[1;33m:\u001b[0m\u001b[1;33m\u001b[0m\u001b[1;33m\u001b[0m\u001b[0m\n",
      "\u001b[1;32m<ipython-input-1-ebb16c479d06>\u001b[0m in \u001b[0;36mmoveAllBoidsToNewPositions\u001b[1;34m(self)\u001b[0m\n\u001b[0;32m     97\u001b[0m \u001b[1;33m\u001b[0m\u001b[0m\n\u001b[0;32m     98\u001b[0m             \u001b[0mv1\u001b[0m \u001b[1;33m=\u001b[0m \u001b[0mself\u001b[0m\u001b[1;33m.\u001b[0m\u001b[0mrule1\u001b[0m\u001b[1;33m(\u001b[0m\u001b[0mb\u001b[0m\u001b[1;33m)\u001b[0m              \u001b[1;31m#get the vector for rule 1\u001b[0m\u001b[1;33m\u001b[0m\u001b[1;33m\u001b[0m\u001b[0m\n\u001b[1;32m---> 99\u001b[1;33m             \u001b[0mv2\u001b[0m \u001b[1;33m=\u001b[0m \u001b[0mself\u001b[0m\u001b[1;33m.\u001b[0m\u001b[0mrule2\u001b[0m\u001b[1;33m(\u001b[0m\u001b[0mb\u001b[0m\u001b[1;33m)\u001b[0m              \u001b[1;31m#get the vector for rule 2\u001b[0m\u001b[1;33m\u001b[0m\u001b[1;33m\u001b[0m\u001b[0m\n\u001b[0m\u001b[0;32m    100\u001b[0m             \u001b[0mv3\u001b[0m \u001b[1;33m=\u001b[0m \u001b[0mself\u001b[0m\u001b[1;33m.\u001b[0m\u001b[0mrule3\u001b[0m\u001b[1;33m(\u001b[0m\u001b[0mb\u001b[0m\u001b[1;33m)\u001b[0m              \u001b[1;31m#get the vector for rule 3\u001b[0m\u001b[1;33m\u001b[0m\u001b[1;33m\u001b[0m\u001b[0m\n\u001b[0;32m    101\u001b[0m \u001b[1;33m\u001b[0m\u001b[0m\n",
      "\u001b[1;32m<ipython-input-1-ebb16c479d06>\u001b[0m in \u001b[0;36mrule2\u001b[1;34m(self, aboid)\u001b[0m\n\u001b[0;32m    137\u001b[0m             \u001b[1;32mif\u001b[0m \u001b[0mb\u001b[0m \u001b[1;33m!=\u001b[0m \u001b[0maboid\u001b[0m\u001b[1;33m:\u001b[0m\u001b[1;33m\u001b[0m\u001b[1;33m\u001b[0m\u001b[0m\n\u001b[0;32m    138\u001b[0m                 \u001b[0mbx\u001b[0m\u001b[1;33m,\u001b[0m\u001b[0mby\u001b[0m\u001b[1;33m,\u001b[0m\u001b[0mbz\u001b[0m \u001b[1;33m=\u001b[0m \u001b[0mself\u001b[0m\u001b[1;33m.\u001b[0m\u001b[0mgetLocate\u001b[0m\u001b[1;33m(\u001b[0m\u001b[0mself\u001b[0m\u001b[1;33m.\u001b[0m\u001b[0mboidflock\u001b[0m\u001b[1;33m[\u001b[0m\u001b[0mb\u001b[0m\u001b[1;33m]\u001b[0m\u001b[1;33m)\u001b[0m\u001b[1;33m\u001b[0m\u001b[1;33m\u001b[0m\u001b[0m\n\u001b[1;32m--> 139\u001b[1;33m                 \u001b[0maboidx\u001b[0m\u001b[1;33m,\u001b[0m \u001b[0maboidy\u001b[0m\u001b[1;33m,\u001b[0m \u001b[0maboidz\u001b[0m \u001b[1;33m=\u001b[0m \u001b[0mself\u001b[0m\u001b[1;33m.\u001b[0m\u001b[0mgetLocate\u001b[0m\u001b[1;33m(\u001b[0m\u001b[0mself\u001b[0m\u001b[1;33m.\u001b[0m\u001b[0mboidflock\u001b[0m\u001b[1;33m[\u001b[0m\u001b[0maboid\u001b[0m\u001b[1;33m]\u001b[0m\u001b[1;33m)\u001b[0m\u001b[1;33m\u001b[0m\u001b[1;33m\u001b[0m\u001b[0m\n\u001b[0m\u001b[0;32m    140\u001b[0m                 \u001b[1;32mif\u001b[0m \u001b[0mabs\u001b[0m\u001b[1;33m(\u001b[0m\u001b[0mbx\u001b[0m \u001b[1;33m-\u001b[0m \u001b[0maboidx\u001b[0m\u001b[1;33m)\u001b[0m \u001b[1;33m<\u001b[0m \u001b[0mself\u001b[0m\u001b[1;33m.\u001b[0m\u001b[0mNEARBY\u001b[0m\u001b[1;33m:\u001b[0m\u001b[1;33m\u001b[0m\u001b[1;33m\u001b[0m\u001b[0m\n\u001b[0;32m    141\u001b[0m                     \u001b[1;32mif\u001b[0m \u001b[0mbx\u001b[0m \u001b[1;33m>\u001b[0m \u001b[0maboidx\u001b[0m\u001b[1;33m:\u001b[0m\u001b[1;33m\u001b[0m\u001b[1;33m\u001b[0m\u001b[0m\n",
      "\u001b[1;32m<ipython-input-1-ebb16c479d06>\u001b[0m in \u001b[0;36mgetLocate\u001b[1;34m(self, boid)\u001b[0m\n\u001b[0;32m     39\u001b[0m \u001b[1;33m\u001b[0m\u001b[0m\n\u001b[0;32m     40\u001b[0m     \u001b[1;32mdef\u001b[0m \u001b[0mgetLocate\u001b[0m\u001b[1;33m(\u001b[0m\u001b[0mself\u001b[0m\u001b[1;33m,\u001b[0m\u001b[0mboid\u001b[0m\u001b[1;33m)\u001b[0m\u001b[1;33m:\u001b[0m\u001b[1;33m\u001b[0m\u001b[1;33m\u001b[0m\u001b[0m\n\u001b[1;32m---> 41\u001b[1;33m         \u001b[1;32mreturn\u001b[0m \u001b[0mboid\u001b[0m\u001b[1;33m.\u001b[0m\u001b[0m_pos\u001b[0m\u001b[1;33m.\u001b[0m\u001b[0mx\u001b[0m\u001b[1;33m,\u001b[0m \u001b[0mboid\u001b[0m\u001b[1;33m.\u001b[0m\u001b[0m_pos\u001b[0m\u001b[1;33m.\u001b[0m\u001b[0my\u001b[0m\u001b[1;33m,\u001b[0m \u001b[0mboid\u001b[0m\u001b[1;33m.\u001b[0m\u001b[0m_pos\u001b[0m\u001b[1;33m.\u001b[0m\u001b[0mz\u001b[0m\u001b[1;33m\u001b[0m\u001b[1;33m\u001b[0m\u001b[0m\n\u001b[0m\u001b[0;32m     42\u001b[0m \u001b[1;33m\u001b[0m\u001b[0m\n\u001b[0;32m     43\u001b[0m     \u001b[1;32mdef\u001b[0m \u001b[0minitializePositions\u001b[0m\u001b[1;33m(\u001b[0m\u001b[0mself\u001b[0m\u001b[1;33m)\u001b[0m\u001b[1;33m:\u001b[0m\u001b[1;33m\u001b[0m\u001b[1;33m\u001b[0m\u001b[0m\n",
      "\u001b[1;31mKeyboardInterrupt\u001b[0m: "
     ]
    }
   ],
   "source": [
    "import vpython\n",
    "from vpython import *\n",
    "from random import randrange\n",
    "\n",
    "class Boids:\n",
    "    def __init__(self, numboids = 100, sidesize = 100.0):     \n",
    "        #class constants \n",
    "        display(title = \"Boids v1.0\")   # 設置標題 \n",
    "\n",
    "        self.SIDE = sidesize            # 定義飛行空間 100*100*100\n",
    "\n",
    "        #the next six lines define the boundaries of the torus\n",
    "        \n",
    "        \n",
    "        self.MINX = self.SIDE * -1.0    # 左\n",
    "        self.MINY = self.SIDE * -1.0    # 下\n",
    "        self.MINZ = self.SIDE * -1.0    # 後\n",
    "        self.MAXX = self.SIDE           # 右\n",
    "        self.MAXY = self.SIDE           # 上\n",
    "        self.MAXZ = self.SIDE           # 前\n",
    "        \n",
    "        self.RADIUS = 3                 # 鳥的大小(用球代替)\n",
    "        self.NEARBY = self.RADIUS * 5   # 鳥彼此之間的容許距離\n",
    "        self.FACTOR = .99               # 鳥對容許距離內，覺察中心的比例\n",
    "        self.NEGFACTOR = self.FACTOR * -1.0 # 同上，但因為是3D handle前後case，再設一個負的\n",
    "        \n",
    "        self.NUMBOIDS = numboids        # 鳥數\n",
    "\n",
    "        self.boidflock = []             \n",
    "        self.DT = 0.02                  # delay time between snapshots\n",
    "\n",
    "        self.boids()                    # init\n",
    "\n",
    "    def boids(self):\n",
    "        self.initializePositions()      # 創建鳥\n",
    "        while (1==1):                   \n",
    "            rate(100)                   # controls the animation speed, bigger = faster\n",
    "            self.moveAllBoidsToNewPositions()   \n",
    "    \n",
    "    def getLocate(self,boid):\n",
    "        return boid._pos.x, boid._pos.y, boid._pos.z\n",
    "    \n",
    "    def initializePositions(self):\n",
    "        #wire frame of space\n",
    "        backBottom = curve(pos=[(self.MINX, self.MINY, self.MINZ), (self.MAXX, self.MINY, self.MINZ)], color=color.white)\n",
    "        backTop = curve(pos=[(self.MINX, self.MAXY, self.MINZ), (self.MAXX, self.MAXY, self.MINZ)], color=color.white)\n",
    "        frontBottom = curve(pos=[(self.MINX, self.MINY, self.MAXZ), (self.MAXX, self.MINY, self.MAXZ)], color=color.white)\n",
    "        frontTop = curve(pos=[(self.MINX, self.MAXY, self.MAXZ), (self.MAXX, self.MAXY, self.MAXZ)], color=color.white)\n",
    "        leftBottom = curve(pos=[(self.MINX, self.MINY, self.MINZ), (self.MINX, self.MINY, self.MAXZ)], color=color.white)\n",
    "        leftTop = curve(pos=[(self.MINX, self.MAXY, self.MINZ), (self.MINX, self.MAXY, self.MAXZ)], color=color.white)\n",
    "        rightBottom = curve(pos=[(self.MAXX, self.MINY, self.MINZ), (self.MAXX, self.MINY, self.MAXZ)], color=color.white)\n",
    "        rightTop = curve(pos=[(self.MAXX, self.MAXY, self.MINZ), (self.MAXX, self.MAXY, self.MAXZ)], color=color.white)\n",
    "        backLeft = curve(pos=[(self.MINX, self.MINY, self.MINZ), (self.MINX, self.MAXY, self.MINZ)], color=color.white)\n",
    "        backRight = curve(pos=[(self.MAXX, self.MINY, self.MINZ), (self.MAXX, self.MAXY, self.MINZ)], color=color.white)\n",
    "        frontLeft = curve(pos=[(self.MINX, self.MINY, self.MAXZ), (self.MINX, self.MAXY, self.MAXZ)], color=color.white)\n",
    "        frontRight = curve(pos=[(self.MAXX, self.MINY, self.MAXZ), (self.MAXX, self.MAXY, self.MAXZ)], color=color.white)\n",
    "\n",
    "        #splatter a flock in the space randomly\n",
    "                                          #initialize the color switch\n",
    "        for b in range(self.NUMBOIDS):          #for each boid, ...\n",
    "            x = randrange(self.MINX, self.MAXX) #random left-right\n",
    "            y = randrange(self.MINY, self.MAXY) #random up-down\n",
    "            z = randrange(self.MINZ, self.MAXZ) #random front-back\n",
    "\n",
    "            \n",
    "            COLOR = color.yellow\n",
    "            #splat a boid, add to flock list\n",
    "            self.boidflock.append(sphere(pos=vector(x,y,z), radius=self.RADIUS, color=COLOR))\n",
    "\n",
    "    def moveAllBoidsToNewPositions(self):\n",
    "        for b in range(self.NUMBOIDS):\n",
    "            #manage boids hitting the torus 'boundaries'\n",
    "            bx,by,bz = self.getLocate(self.boidflock[b])\n",
    "            if bx == self.MINX or bx < self.MINX:\n",
    "                self.boidflock[b]._pos.x = self.MINX + 1\n",
    "                \n",
    "            if bx > self.MAXX or bx == self.MAXX:\n",
    "                self.boidflock[b]._pos.x = self.MAXX -1\n",
    "                \n",
    "            if by < self.MINY:\n",
    "                self.boidflock[b]._pos.y = self.MINY +1\n",
    "                \n",
    "            if by > self.MAXY:\n",
    "                self.boidflock[b]._pos.y = self.MAXY -1 \n",
    "                \n",
    "            if bz < self.MINZ:\n",
    "                self.boidflock[b]._pos.z = self.MINZ + 1\n",
    "                \n",
    "            if bz > self.MAXZ:\n",
    "                self.boidflock[b]._pos.z = self.MAXZ - 1\n",
    "            \n",
    "\n",
    "            v1 = vector(0.0,0.0,0.0)        #initialize vector for rule 1\n",
    "            v2 = vector(0.0,0.0,0.0)        #initialize vector for rule 2\n",
    "            v3 = vector(0.0,0.0,0.0)        #initialize vector for rule 3\n",
    "\n",
    " \n",
    "            v1 = self.rule1(b)              #get the vector for rule 1\n",
    "            v2 = self.rule2(b)              #get the vector for rule 2\n",
    "            v3 = self.rule3(b)              #get the vector for rule 3\n",
    "\n",
    "            boidvelocity = vector(0.0,0.0,0.0)          #initialize the boid velocity\n",
    "            boidvelocity = boidvelocity + v1 + v2 + v3  #accumulate the rules vector results\n",
    "            self.boidflock[b].pos = self.boidflock[b].pos + (boidvelocity*self.DT) #move the boid\n",
    "\n",
    "                \n",
    "\n",
    "    def rule1(self, aboid):    #Rule 1:  boids fly to perceived flock center\n",
    "        pfc = vector(0.0,0.0,0.0)                   #pfc: perceived flock center\n",
    "        for b in range(self.NUMBOIDS):              #for all the boids\n",
    "            if b != aboid:                          #except the boid at hand\n",
    "                 pfc = pfc + self.boidflock[b]._pos  #calculate the total pfc\n",
    "\n",
    "        pfc = pfc/(self.NUMBOIDS - 1.0)             #average the pfc\n",
    "##        self.greenie.pos = pfc                      #put greenie at the pfc, see what's going on\n",
    "\n",
    "        #nudge the boid in the correct direction toward the pfc \n",
    "        if pfc.x > self.boidflock[aboid]._pos.x:\n",
    "            pfc.x = (pfc.x - self.boidflock[aboid].pos.x)*self.FACTOR\n",
    "        if pfc.x < self.boidflock[aboid]._pos.x:\n",
    "            pfc.x = (self.boidflock[aboid]._pos.x - pfc.x)*self.NEGFACTOR\n",
    "        if pfc.y > self.boidflock[aboid]._pos.y:\n",
    "            pfc.y = (pfc.y - self.boidflock[aboid]._pos.y)*self.FACTOR\n",
    "        if pfc.y < self.boidflock[aboid]._pos.y:\n",
    "            pfc.y = (self.boidflock[aboid]._pos.y - pfc.y)*self.NEGFACTOR\n",
    "        if pfc.z > self.boidflock[aboid]._pos.z:\n",
    "            pfc.z = (pfc.z - self.boidflock[aboid]._pos.z)*self.FACTOR\n",
    "        if pfc.z < self.boidflock[aboid]._pos.z:\n",
    "            pfc.z = (self.boidflock[aboid]._pos.z - pfc.z)*self.NEGFACTOR\n",
    "\n",
    "        return pfc \n",
    "\n",
    "    def rule2(self, aboid):    #Rule 2: boids avoid other boids\n",
    "        v = vector(0.0,0.0,0.0) #initialize the avoidance vector\n",
    "\n",
    "        for b in range(self.NUMBOIDS):\n",
    "            if b != aboid:\n",
    "                bx,by,bz = self.getLocate(self.boidflock[b])\n",
    "                aboidx, aboidy, aboidz = self.getLocate(self.boidflock[aboid])\n",
    "                if abs(bx - aboidx) < self.NEARBY:\n",
    "                    if bx > aboidx:\n",
    "                        v.x = self.NEARBY * 12.0    #works better when I multiply by 12, don't know why\n",
    "                    if bx < aboidx:\n",
    "                        v.x = -self.NEARBY * 12.0\n",
    "                if abs(by - aboidy) < self.NEARBY:\n",
    "                    if by > aboidy:\n",
    "                        v.y = self.NEARBY * 12.0\n",
    "                    if by < aboidy:\n",
    "                        v.y = -self.NEARBY * 12.0\n",
    "                if abs(bz - aboidz) < self.NEARBY:\n",
    "                    if bz > aboidz:\n",
    "                        v.z = self.NEARBY * 12.0\n",
    "                    if bz < aboidz:\n",
    "                        v.z = -self.NEARBY * 12.0\n",
    "\n",
    "        return v\n",
    "        \n",
    "    def rule3(self, aboid):    #Rule 3: boids try to match speed of flock\n",
    "        pfv = vector(0.0,0.0,0.0)   #pfv: perceived flock velocity\n",
    "            \n",
    "        for b in range(self.NUMBOIDS):\n",
    "            if b != aboid:\n",
    "                 pfv = pfv + self.boidflock[b].pos\n",
    "\n",
    "        pfv = pfv/(self.NUMBOIDS - 1.0)\n",
    "        pfv = pfv/(aboid + 1)    #some of the boids are more sluggish than others\n",
    "        \n",
    "        return pfv\n",
    "\n",
    "\n",
    "if __name__ == \"__main__\":\n",
    "    b = Boids(100,200)     \n"
   ]
  },
  {
   "cell_type": "code",
   "execution_count": null,
   "metadata": {},
   "outputs": [],
   "source": []
  }
 ],
 "metadata": {
  "kernelspec": {
   "display_name": "Python 3",
   "language": "python",
   "name": "python3"
  },
  "language_info": {
   "codemirror_mode": {
    "name": "ipython",
    "version": 3
   },
   "file_extension": ".py",
   "mimetype": "text/x-python",
   "name": "python",
   "nbconvert_exporter": "python",
   "pygments_lexer": "ipython3",
   "version": "3.7.1"
  }
 },
 "nbformat": 4,
 "nbformat_minor": 2
}
