{
 "cells": [
  {
   "cell_type": "markdown",
   "metadata": {},
   "source": [
    "# Neural & Behavioral Modeling - Week 13 (Examples)\n",
    "by Tren Huang (tren.huang@gmail.com)"
   ]
  },
  {
   "cell_type": "code",
   "execution_count": 1,
   "metadata": {},
   "outputs": [
    {
     "name": "stdout",
     "output_type": "stream",
     "text": [
      "env: KMP_DUPLICATE_LIB_OK=TRUE\n"
     ]
    }
   ],
   "source": [
    "%env KMP_DUPLICATE_LIB_OK=TRUE"
   ]
  },
  {
   "cell_type": "code",
   "execution_count": 2,
   "metadata": {},
   "outputs": [],
   "source": [
    "%config IPCompleter.greedy=True \n",
    "# %matplotlib inline\n",
    "from matplotlib.pyplot import *\n",
    "from IPython.display import *\n",
    "import numpy as np\n",
    "import torch as t\n",
    "from torch import nn\n",
    "from torch import optim"
   ]
  },
  {
   "cell_type": "code",
   "execution_count": 3,
   "metadata": {},
   "outputs": [
    {
     "name": "stdout",
     "output_type": "stream",
     "text": [
      "PyTorch version: 1.7.0+cu101\n",
      "Device  0 : GeForce GTX 1050 Ti\n",
      "Current: Device  0\n"
     ]
    }
   ],
   "source": [
    "# Check GPU status:\n",
    "print('PyTorch version:',t.__version__)\n",
    "use_cuda=t.cuda.is_available()\n",
    "if(use_cuda):\n",
    "    for i in range(t.cuda.device_count()):\n",
    "        print('Device ',i,':',t.cuda.get_device_name(i))\n",
    "    print('Current: Device ',t.cuda.current_device())\n",
    "    t.backends.cudnn.benchmark = True \n",
    "    device = t.device(\"cuda\")\n",
    "else:\n",
    "    device = t.device(\"cpu\")\n",
    "    print('No GPU')"
   ]
  },
  {
   "cell_type": "code",
   "execution_count": 3,
   "metadata": {},
   "outputs": [],
   "source": [
    "# Supporting functions:\n",
    "\n",
    "from datetime import datetime\n",
    "\n",
    "def get_acc(output, label):\n",
    "    total = output.shape[0]\n",
    "    _, pred_label = output.max(1)\n",
    "    num_correct = (pred_label == label).sum().item()\n",
    "    return num_correct / total\n",
    "\n",
    "\n",
    "def train(device, net, train_data, valid_data, num_epochs, optimizer, criterion):\n",
    "    if t.cuda.is_available():\n",
    "        net = net.cuda()\n",
    "    prev_time = datetime.now()\n",
    "    for epoch in range(num_epochs):\n",
    "        train_loss = 0\n",
    "        train_acc = 0\n",
    "        net = net.train()\n",
    "        #for im, label in train_data:\n",
    "        for im, label in train_data:\n",
    "            im=im.view(-1,im.shape[2],im.shape[3])\n",
    "            im = im.to(device)  # (bs, h, w)\n",
    "            label = label.to(device)\n",
    "            # forward\n",
    "            output = net(im)\n",
    "            loss = criterion(output, label)\n",
    "            # backward\n",
    "            optimizer.zero_grad()\n",
    "            loss.backward()\n",
    "            optimizer.step()\n",
    "\n",
    "            train_loss += loss.data.item()\n",
    "            train_acc += get_acc(output, label)\n",
    "\n",
    "        cur_time = datetime.now()\n",
    "        h, remainder = divmod((cur_time - prev_time).seconds, 3600)\n",
    "        m, s = divmod(remainder, 60)\n",
    "        time_str = \"Time %02d:%02d:%02d\" % (h, m, s)\n",
    "        if valid_data is not None:\n",
    "            valid_loss = 0\n",
    "            valid_acc = 0\n",
    "            net = net.eval()\n",
    "            for im, label in valid_data:\n",
    "                with t.no_grad():\n",
    "                    im=im.view(-1,im.shape[2],im.shape[3])\n",
    "                    im = im.to(device)\n",
    "                    label = label.to(device)\n",
    "                output = net(im)\n",
    "                loss = criterion(output, label)\n",
    "                valid_loss += loss.data.item()\n",
    "                valid_acc += get_acc(output, label)\n",
    "            epoch_str = (\n",
    "                \"Epoch %d. Train Loss: %f, Train Acc: %f, Valid Loss: %f, Valid Acc: %f, \"\n",
    "                % (epoch, train_loss / len(train_data),\n",
    "                   train_acc / len(train_data), valid_loss / len(valid_data),\n",
    "                   valid_acc / len(valid_data)))\n",
    "        else:\n",
    "            epoch_str = (\"Epoch %d. Train Loss: %f, Train Acc: %f, \" %\n",
    "                         (epoch, train_loss / len(train_data),\n",
    "                          train_acc / len(train_data)))\n",
    "        prev_time = cur_time\n",
    "        print(epoch_str + time_str)"
   ]
  },
  {
   "cell_type": "markdown",
   "metadata": {},
   "source": [
    "## 1 Recurrent Neural Networks"
   ]
  },
  {
   "cell_type": "markdown",
   "metadata": {},
   "source": [
    "### 1.1 Simple Recurrent Network (SRN)\n",
    "<img src=\"https://www.easy-tensorflow.com/images/NN/01.png\" width=75%>"
   ]
  },
  {
   "cell_type": "code",
   "execution_count": 4,
   "metadata": {},
   "outputs": [
    {
     "name": "stdout",
     "output_type": "stream",
     "text": [
      "torch.Size([200, 100])\n",
      "torch.Size([200, 200])\n"
     ]
    }
   ],
   "source": [
    "srn=nn.RNN(input_size=100, hidden_size=200)\n",
    "print(srn.weight_ih_l0.shape)\n",
    "print(srn.weight_hh_l0.shape)"
   ]
  },
  {
   "cell_type": "code",
   "execution_count": 5,
   "metadata": {},
   "outputs": [
    {
     "name": "stdout",
     "output_type": "stream",
     "text": [
      "torch.Size([1, 5, 200])\n",
      "torch.Size([6, 5, 200])\n"
     ]
    }
   ],
   "source": [
    "x=t.randn(6, 5, 100) # (sequence length of inputs/outputs, batch size (# of sequences), feature dimensions of each element in a sequence)\n",
    "h_0 = t.randn(1, 5, 200) # initial values of the hidden units\n",
    "\n",
    "out, h_t = srn(x, h_0) # pass the input to the RNN\n",
    "print(h_t.shape)\n",
    "print(out.shape) # A squence of 6 elements"
   ]
  },
  {
   "cell_type": "markdown",
   "metadata": {},
   "source": [
    "### 1.2 Long Short-Term Memory (LSTM)\n",
    "<img src=\"https://discuss.pytorch.org/uploads/default/original/2X/e/e7496a33d835f085d800ee17c0ade05895a89551.png\" width=50%>"
   ]
  },
  {
   "cell_type": "code",
   "execution_count": 6,
   "metadata": {},
   "outputs": [
    {
     "name": "stdout",
     "output_type": "stream",
     "text": [
      "torch.Size([800, 100]) torch.Size([800, 200])\n",
      "torch.Size([800, 200]) torch.Size([800, 200])\n"
     ]
    }
   ],
   "source": [
    "lstm=nn.LSTM(input_size=100, hidden_size=200, num_layers=2) \n",
    "print(lstm.weight_ih_l0.shape, lstm.weight_ih_l1.shape) # 800 = 200 * 4 free parameters\n",
    "print(lstm.weight_hh_l0.shape, lstm.weight_hh_l1.shape) # 800 = 200 * 4 free parameters"
   ]
  },
  {
   "cell_type": "code",
   "execution_count": 7,
   "metadata": {},
   "outputs": [
    {
     "name": "stdout",
     "output_type": "stream",
     "text": [
      "torch.Size([6, 5, 200])\n",
      "torch.Size([2, 5, 200]) torch.Size([2, 5, 200])\n"
     ]
    }
   ],
   "source": [
    "x=t.randn(6, 5, 100) # (seq, batch, feature)\n",
    "out, (h, c)=lstm(x)\n",
    "print(out.shape)\n",
    "print(h.shape,c.shape)"
   ]
  },
  {
   "cell_type": "markdown",
   "metadata": {},
   "source": [
    "### 1.3 Gated Recurrent Unit (GRU)\n",
    "<img src=\"https://miro.medium.com/max/2009/1*8nFrwolzTYtUWSaziiJGkg.png\" width=50%>"
   ]
  },
  {
   "cell_type": "code",
   "execution_count": 8,
   "metadata": {},
   "outputs": [
    {
     "name": "stdout",
     "output_type": "stream",
     "text": [
      "torch.Size([600, 100])\n",
      "torch.Size([600, 200])\n"
     ]
    }
   ],
   "source": [
    "gru=nn.GRU(input_size=100, hidden_size=200) \n",
    "print(gru.weight_ih_l0.shape) # 600 = 200 * 3 free parameters\n",
    "print(gru.weight_hh_l0.shape) # 600 = 200 * 3 free parameters"
   ]
  },
  {
   "cell_type": "code",
   "execution_count": 9,
   "metadata": {},
   "outputs": [
    {
     "name": "stdout",
     "output_type": "stream",
     "text": [
      "torch.Size([1, 5, 200])\n",
      "torch.Size([6, 5, 200])\n"
     ]
    }
   ],
   "source": [
    "x=t.randn(6, 5, 100) # (sequence, batch, feature)\n",
    "h_0 = t.randn(1, 5, 200) # initial values of the hidden units\n",
    "\n",
    "out, h_t = gru(x, h_0) # pass the input to the RNN\n",
    "print(h_t.shape)\n",
    "print(out.shape) # A squence of 6 elements"
   ]
  },
  {
   "cell_type": "markdown",
   "metadata": {},
   "source": [
    "## 2. RNN v.s. CNN"
   ]
  },
  {
   "cell_type": "markdown",
   "metadata": {},
   "source": [
    "### 2.1 RNN on images"
   ]
  },
  {
   "cell_type": "markdown",
   "metadata": {},
   "source": [
    "#### 2.1.0 The MINST dataset"
   ]
  },
  {
   "cell_type": "code",
   "execution_count": 10,
   "metadata": {},
   "outputs": [],
   "source": [
    "from torchvision import datasets, transforms\n",
    "\n",
    "transform = transforms.Compose([transforms.ToTensor(),\n",
    "                                transforms.Normalize(mean=[0.5],std=[0.5])])\n",
    "\n",
    "train_set = datasets.MNIST(root = \"./data\",\n",
    "                               transform = transform,\n",
    "                               train = True,\n",
    "                               download = True)\n",
    "\n",
    "train_data = t.utils.data.DataLoader(train_set, batch_size=64, shuffle=True)\n",
    "\n",
    "\n",
    "test_set = datasets.MNIST(root = \"./data\",\n",
    "                              transform = transform,\n",
    "                              train = False)\n",
    "\n",
    "test_data = t.utils.data.DataLoader(test_set, batch_size=64, shuffle=True)"
   ]
  },
  {
   "cell_type": "markdown",
   "metadata": {},
   "source": [
    "#### 2.1.1 The RNN model"
   ]
  },
  {
   "cell_type": "code",
   "execution_count": 11,
   "metadata": {},
   "outputs": [],
   "source": [
    "class RNN(nn.Module):\n",
    "    def __init__(self):\n",
    "        super(RNN, self).__init__()\n",
    "        self.rnn = nn.RNN(input_size = 28,\n",
    "                                hidden_size = 128,\n",
    "                                num_layers = 1,\n",
    "                                batch_first = True)\n",
    "        \n",
    "        self.classifier = nn.Linear(128,10)\n",
    "        \n",
    "    def forward(self, input):\n",
    "        output,_ = self.rnn(input, None)\n",
    "        output = self.classifier(output[:,-1,:])\n",
    "        return output"
   ]
  },
  {
   "cell_type": "code",
   "execution_count": 98,
   "metadata": {},
   "outputs": [
    {
     "name": "stdout",
     "output_type": "stream",
     "text": [
      "Epoch 0. Train Loss: 0.870776, Train Acc: 0.702392, Valid Loss: 0.444024, Valid Acc: 0.866043, Time 00:00:08\n",
      "Epoch 1. Train Loss: 0.332477, Train Acc: 0.903535, Valid Loss: 0.269307, Valid Acc: 0.921975, Time 00:00:09\n",
      "Epoch 2. Train Loss: 0.254030, Train Acc: 0.927955, Valid Loss: 0.223551, Valid Acc: 0.939291, Time 00:00:08\n"
     ]
    }
   ],
   "source": [
    "srn = RNN()\n",
    "optimizer = optim.Adam(srn.parameters())\n",
    "criterion = nn.CrossEntropyLoss()\n",
    "train(device, srn, train_data, test_data, 3, optimizer, criterion)"
   ]
  },
  {
   "cell_type": "markdown",
   "metadata": {},
   "source": [
    "### 2.2 RNN on time series"
   ]
  },
  {
   "cell_type": "markdown",
   "metadata": {},
   "source": [
    "#### 2.2.0 The data"
   ]
  },
  {
   "cell_type": "code",
   "execution_count": 4,
   "metadata": {},
   "outputs": [
    {
     "data": {
      "image/png": "[encoded data removed]",
      "text/plain": [
       "<Figure size 432x288 with 1 Axes>"
      ]
     },
     "metadata": {
      "needs_background": "light"
     },
     "output_type": "display_data"
    }
   ],
   "source": [
    "import pandas as pd\n",
    "ts = pd.read_csv('data.csv', usecols=[1]).dropna().values.astype('float32')\n",
    "plot(ts); "
   ]
  },
  {
   "cell_type": "code",
   "execution_count": 5,
   "metadata": {},
   "outputs": [
    {
     "name": "stdout",
     "output_type": "stream",
     "text": [
      "144\n"
     ]
    },
    {
     "data": {
      "image/png": "[encoded data removed]",
      "text/plain": [
       "<Figure size 432x288 with 1 Axes>"
      ]
     },
     "metadata": {
      "needs_background": "light"
     },
     "output_type": "display_data"
    }
   ],
   "source": [
    "# Normalize:\n",
    "max_value = np.max(ts)\n",
    "min_value = np.min(ts)\n",
    "scalar = max_value - min_value\n",
    "ts = list(map(lambda x: x / scalar, ts))\n",
    "print(len(ts))\n",
    "plot(ts); "
   ]
  },
  {
   "cell_type": "code",
   "execution_count": 16,
   "metadata": {},
   "outputs": [
    {
     "name": "stdout",
     "output_type": "stream",
     "text": [
      "[[0.21621622]\n",
      " [0.22779922]] [0.25482625]\n"
     ]
    }
   ],
   "source": [
    "# Prepare windowed data for our RNN model(s):\n",
    "def create_dataset(dataset, look_back=2):\n",
    "    dataX, dataY = [], []\n",
    "    for i in range(len(dataset) - look_back):\n",
    "        a = dataset[i:(i + look_back)]\n",
    "        dataX.append(a)\n",
    "        dataY.append(dataset[i + look_back])\n",
    "    return np.array(dataX), np.array(dataY)\n",
    "dataset = ts\n",
    "data_X, data_Y = create_dataset(dataset)\n",
    "\n",
    "print(data_X[0],data_Y[0]) # (Xt-2, Xt-1) -> Xt"
   ]
  },
  {
   "cell_type": "code",
   "execution_count": 17,
   "metadata": {},
   "outputs": [
    {
     "name": "stdout",
     "output_type": "stream",
     "text": [
      "(99, 2, 1) (99, 1)\n"
     ]
    }
   ],
   "source": [
    "# Train-Test split:\n",
    "train_size = int(len(data_X) * 0.7) # 70% for training\n",
    "test_size = len(data_X) - train_size\n",
    "train_X = data_X[:train_size]\n",
    "train_Y = data_Y[:train_size]\n",
    "test_X = data_X[train_size:]\n",
    "test_Y = data_Y[train_size:]\n",
    "\n",
    "print(train_X.shape,train_Y.shape)"
   ]
  },
  {
   "cell_type": "code",
   "execution_count": 18,
   "metadata": {},
   "outputs": [
    {
     "name": "stdout",
     "output_type": "stream",
     "text": [
      "torch.Size([99, 1, 2]) torch.Size([99, 1, 1])\n"
     ]
    }
   ],
   "source": [
    "# Reshape the data into (seq, batch, featue)\n",
    "train_X = train_X.reshape(-1, 1, 2)\n",
    "train_Y = train_Y.reshape(-1, 1, 1)\n",
    "test_X = test_X.reshape(-1, 1, 2)\n",
    "\n",
    "train_x = t.from_numpy(train_X)\n",
    "train_y = t.from_numpy(train_Y)\n",
    "test_x = t.from_numpy(test_X)\n",
    "\n",
    "print(train_x.shape,train_y.shape)"
   ]
  },
  {
   "cell_type": "markdown",
   "metadata": {},
   "source": [
    "#### 2.2.1 The LSTM model"
   ]
  },
  {
   "cell_type": "code",
   "execution_count": 19,
   "metadata": {},
   "outputs": [],
   "source": [
    "class lstm_reg(nn.Module):\n",
    "    def __init__(self, input_size, hidden_size, output_size=1, num_layers=2):\n",
    "        super(lstm_reg, self).__init__()\n",
    "        \n",
    "        self.rnn = nn.LSTM(input_size, hidden_size, num_layers) # rnn\n",
    "        self.reg = nn.Linear(hidden_size, output_size) # regression\n",
    "        \n",
    "    def forward(self, x):\n",
    "        x, _ = self.rnn(x) # (seq, batch, hidden)\n",
    "        s, b, h = x.shape\n",
    "        x = x.view(s*b, h) # flatten\n",
    "        x = self.reg(x)\n",
    "        x = x.view(s, b, -1)\n",
    "        return x"
   ]
  },
  {
   "cell_type": "code",
   "execution_count": 20,
   "metadata": {},
   "outputs": [],
   "source": [
    "net = lstm_reg(input_size=2, hidden_size=10)\n",
    "criterion = nn.MSELoss()\n",
    "optimizer = t.optim.Adam(net.parameters(),lr=1e-2)"
   ]
  },
  {
   "cell_type": "code",
   "execution_count": 24,
   "metadata": {},
   "outputs": [
    {
     "name": "stdout",
     "output_type": "stream",
     "text": [
      "0.0035213492810726166\n",
      "0.001575483474880457\n",
      "0.000587979971896857\n",
      "0.0003806956810876727\n",
      "0.00024854650837369263\n",
      "0.00018113924306817353\n",
      "0.00015908760542515665\n",
      "0.0001459198974771425\n",
      "0.00013717488036490977\n",
      "0.00018231144349556416\n"
     ]
    }
   ],
   "source": [
    "# Training:\n",
    "for e in range(1000):\n",
    "    # Forward:\n",
    "    out = net(train_x)\n",
    "    loss = criterion(out, train_y)\n",
    "    # Backward:\n",
    "    optimizer.zero_grad()\n",
    "    loss.backward()\n",
    "    optimizer.step()\n",
    "    if (e + 1) % 100 == 0: # print loss every 100 epochs\n",
    "        print('Epoch: {}, Loss: {:.5f}'.format(e + 1, loss.item()))\n",
    "    "
   ]
  },
  {
   "cell_type": "code",
   "execution_count": 6,
   "metadata": {},
   "outputs": [
    {
     "ename": "NameError",
     "evalue": "name 'net' is not defined",
     "output_type": "error",
     "traceback": [
      "\u001b[1;31m---------------------------------------------------------------------------\u001b[0m",
      "\u001b[1;31mNameError\u001b[0m                                 Traceback (most recent call last)",
      "\u001b[1;32m<ipython-input-6-648a98daf08f>\u001b[0m in \u001b[0;36m<module>\u001b[1;34m\u001b[0m\n\u001b[0;32m      1\u001b[0m \u001b[1;31m# Testing on the whole series (70% trained + 30% untrained):\u001b[0m\u001b[1;33m\u001b[0m\u001b[1;33m\u001b[0m\u001b[1;33m\u001b[0m\u001b[0m\n\u001b[1;32m----> 2\u001b[1;33m \u001b[0mnet\u001b[0m \u001b[1;33m=\u001b[0m \u001b[0mnet\u001b[0m\u001b[1;33m.\u001b[0m\u001b[0meval\u001b[0m\u001b[1;33m(\u001b[0m\u001b[1;33m)\u001b[0m\u001b[1;33m\u001b[0m\u001b[1;33m\u001b[0m\u001b[0m\n\u001b[0m\u001b[0;32m      3\u001b[0m \u001b[0mdata_X2\u001b[0m \u001b[1;33m=\u001b[0m \u001b[0mdata_X\u001b[0m\u001b[1;33m.\u001b[0m\u001b[0mreshape\u001b[0m\u001b[1;33m(\u001b[0m\u001b[1;33m-\u001b[0m\u001b[1;36m1\u001b[0m\u001b[1;33m,\u001b[0m \u001b[1;36m1\u001b[0m\u001b[1;33m,\u001b[0m \u001b[1;36m2\u001b[0m\u001b[1;33m)\u001b[0m\u001b[1;33m\u001b[0m\u001b[1;33m\u001b[0m\u001b[0m\n\u001b[0;32m      4\u001b[0m \u001b[0mdata_X3\u001b[0m \u001b[1;33m=\u001b[0m \u001b[0mt\u001b[0m\u001b[1;33m.\u001b[0m\u001b[0mfrom_numpy\u001b[0m\u001b[1;33m(\u001b[0m\u001b[0mdata_X2\u001b[0m\u001b[1;33m)\u001b[0m\u001b[1;33m\u001b[0m\u001b[1;33m\u001b[0m\u001b[0m\n\u001b[0;32m      5\u001b[0m \u001b[0mpred_test1\u001b[0m \u001b[1;33m=\u001b[0m \u001b[0mnet\u001b[0m\u001b[1;33m(\u001b[0m\u001b[0mdata_X3\u001b[0m\u001b[1;33m)\u001b[0m\u001b[1;33m\u001b[0m\u001b[1;33m\u001b[0m\u001b[0m\n",
      "\u001b[1;31mNameError\u001b[0m: name 'net' is not defined"
     ]
    }
   ],
   "source": [
    "# Testing on the whole series (70% trained + 30% untrained):\n",
    "net = net.eval() \n",
    "data_X2 = data_X.reshape(-1, 1, 2)\n",
    "data_X3 = t.from_numpy(data_X2)\n",
    "pred_test1 = net(data_X3) \n",
    "pred_test2 = pred_test1.view(-1).data.numpy() # reshaping to a simple time series\n",
    "print(pred_test1.shape, pred_test2.shape, len(dataset))\n",
    "\n",
    "# Visualization:\n",
    "plot(pred_test2, 'r', label='prediction')\n",
    "plot(dataset[2:], 'b', label='real');"
   ]
  },
  {
   "cell_type": "markdown",
   "metadata": {},
   "source": [
    "### 2.3 CNN on time series\n"
   ]
  },
  {
   "cell_type": "markdown",
   "metadata": {},
   "source": [
    "#### 2.3.0 The data\n"
   ]
  },
  {
   "cell_type": "code",
   "execution_count": 368,
   "metadata": {},
   "outputs": [
    {
     "name": "stdout",
     "output_type": "stream",
     "text": [
      "(142, 2, 1) (142, 1)\n"
     ]
    }
   ],
   "source": [
    "print(data_X.shape, data_Y.shape) # (seq, feature, batch)"
   ]
  },
  {
   "cell_type": "code",
   "execution_count": 369,
   "metadata": {},
   "outputs": [
    {
     "name": "stdout",
     "output_type": "stream",
     "text": [
      "torch.Size([99, 1, 2]) torch.Size([99, 1])\n"
     ]
    }
   ],
   "source": [
    "# Train-Test split:\n",
    "data_X4 = np.swapaxes(data_X,1,2) # should be (batch, channel, input)\n",
    "L=data_X4.shape[0]\n",
    "train_size = int(L * 0.7) # 70% for training\n",
    "test_size = L - train_size\n",
    "train_X = data_X4[:train_size]\n",
    "train_Y = data_Y[:train_size]\n",
    "test_X = data_X4[train_size:]\n",
    "test_Y = data_Y[train_size:]\n",
    "\n",
    "train_x = t.from_numpy(train_X)\n",
    "train_y = t.from_numpy(train_Y)\n",
    "test_x = t.from_numpy(test_X)\n",
    "\n",
    "print(train_x.shape,train_y.shape) # (batch,input,feature)"
   ]
  },
  {
   "cell_type": "markdown",
   "metadata": {},
   "source": [
    "#### 2.3.1 The model\n",
    "<img src=\"https://i.stack.imgur.com/QVASQ.png\" width=75%>"
   ]
  },
  {
   "cell_type": "code",
   "execution_count": 370,
   "metadata": {},
   "outputs": [],
   "source": [
    "class cnn_reg(nn.Module):\n",
    "    def __init__(self, in_channels, hidden_size, output_size, kernel_size):\n",
    "        super(cnn_reg, self).__init__()\n",
    "        \n",
    "        self.conv = nn.Conv1d(in_channels=in_channels, out_channels=hidden_size, kernel_size=kernel_size) # in_channels=features\n",
    "\n",
    "        self.reg = nn.Linear(hidden_size, output_size) # regression\n",
    "        \n",
    "    def forward(self, x):\n",
    "        x = self.conv(x) # (batch, channel, input)\n",
    "        x=x.view(x.size()[0], -1) # flatten\n",
    "        x = self.reg(x)\n",
    "        return x"
   ]
  },
  {
   "cell_type": "code",
   "execution_count": 377,
   "metadata": {},
   "outputs": [],
   "source": [
    "net = cnn_reg(in_channels=1, hidden_size=10, output_size=1, kernel_size=2)\n",
    "criterion = nn.MSELoss()\n",
    "optimizer = t.optim.Adam(net.parameters(),lr=1e-2)"
   ]
  },
  {
   "cell_type": "code",
   "execution_count": 378,
   "metadata": {},
   "outputs": [
    {
     "name": "stderr",
     "output_type": "stream",
     "text": [
      "/raid/opt/hpc/anaconda/python3/lib/python3.6/site-packages/ipykernel_launcher.py:11: UserWarning: invalid index of a 0-dim tensor. This will be an error in PyTorch 0.5. Use tensor.item() to convert a 0-dim tensor to a Python number\n",
      "  # This is added back by InteractiveShellApp.init_path()\n"
     ]
    },
    {
     "name": "stdout",
     "output_type": "stream",
     "text": [
      "Epoch: 100, Loss: 0.00590\n",
      "Epoch: 200, Loss: 0.00346\n",
      "Epoch: 300, Loss: 0.00298\n",
      "Epoch: 400, Loss: 0.00259\n",
      "Epoch: 500, Loss: 0.00231\n",
      "Epoch: 600, Loss: 0.00211\n",
      "Epoch: 700, Loss: 0.00200\n",
      "Epoch: 800, Loss: 0.00194\n",
      "Epoch: 900, Loss: 0.00191\n",
      "Epoch: 1000, Loss: 0.00190\n"
     ]
    }
   ],
   "source": [
    "# Training:\n",
    "for e in range(1000):\n",
    "    # Forward:\n",
    "    out = net(train_x)\n",
    "    loss = criterion(out, train_y)\n",
    "    # Backward:\n",
    "    optimizer.zero_grad()\n",
    "    loss.backward()\n",
    "    optimizer.step()\n",
    "    if (e + 1) % 100 == 0: # print loss every 100 epochs\n",
    "        print('Epoch: {}, Loss: {:.5f}'.format(e + 1, loss.data[0]))"
   ]
  },
  {
   "cell_type": "code",
   "execution_count": 379,
   "metadata": {},
   "outputs": [
    {
     "name": "stdout",
     "output_type": "stream",
     "text": [
      "torch.Size([142, 1]) (142,) 144\n"
     ]
    },
    {
     "data": {
      "image/png": "[encoded data removed]",
      "text/plain": [
       "<Figure size 432x288 with 1 Axes>"
      ]
     },
     "metadata": {
      "needs_background": "light"
     },
     "output_type": "display_data"
    }
   ],
   "source": [
    "# Testing on the whole series (70% trained + 30% untrained):\n",
    "net = net.eval() \n",
    "pred_test1 = net(t.from_numpy(data_X4))\n",
    "pred_test2 = pred_test1.view(-1).data.numpy() # reshaping to a simple time series\n",
    "print(pred_test1.shape, pred_test2.shape, len(dataset))\n",
    "\n",
    "# Visualization:\n",
    "plot(pred_test2, 'r', label='prediction')\n",
    "plot(dataset[2:], 'b', label='real');"
   ]
  },
  {
   "cell_type": "markdown",
   "metadata": {},
   "source": [
    "## 3 Character RNN as a Language Model"
   ]
  },
  {
   "cell_type": "markdown",
   "metadata": {},
   "source": [
    "### 3.0 Supporting Functions"
   ]
  },
  {
   "cell_type": "code",
   "execution_count": null,
   "metadata": {},
   "outputs": [],
   "source": [
    "import time, math\n",
    "\n",
    "def time_since(since):\n",
    "    s = time.time() - since\n",
    "    m = math.floor(s / 60)\n",
    "    s -= m * 60\n",
    "    return '%dm %ds' % (m, s)\n",
    "\n",
    "def train(inp, target):\n",
    "    hidden = decoder.init_hidden()\n",
    "    decoder.zero_grad()\n",
    "    loss = 0\n",
    "\n",
    "    for c in range(chunk_len):\n",
    "        output, hidden = decoder(inp[c], hidden)\n",
    "        loss += criterion(output, target[c])\n",
    "\n",
    "    loss.backward()\n",
    "    decoder_optimizer.step()\n",
    "\n",
    "    return loss.item() / chunk_len\n",
    "\n",
    "def evaluate(prime_str='A', predict_len=100, temperature=0.8):\n",
    "    hidden = decoder.init_hidden()\n",
    "    prime_input = char_tensor(prime_str)\n",
    "    predicted = prime_str\n",
    "\n",
    "    # Use priming string to \"build up\" hidden state\n",
    "    for p in range(len(prime_str) - 1):\n",
    "        _, hidden = decoder(prime_input[p], hidden)\n",
    "    inp = prime_input[-1]\n",
    "    \n",
    "    for p in range(predict_len):\n",
    "        output, hidden = decoder(inp, hidden)\n",
    "        \n",
    "        # Sample from the network as a multinomial distribution\n",
    "        output_dist = output.data.view(-1).div(temperature).exp()\n",
    "        top_i = t.multinomial(output_dist, 1)[0]\n",
    "        \n",
    "        \n",
    "        # Add predicted character to string and use as next input\n",
    "        predicted_char = all_characters[top_i]\n",
    "        predicted += predicted_char\n",
    "        inp = char_tensor(predicted_char)\n",
    "\n",
    "    return predicted"
   ]
  },
  {
   "cell_type": "markdown",
   "metadata": {},
   "source": [
    "### 3.1 The data"
   ]
  },
  {
   "cell_type": "code",
   "execution_count": null,
   "metadata": {},
   "outputs": [],
   "source": [
    "import unidecode\n",
    "import string\n",
    "import random\n",
    "import re\n",
    "\n",
    "all_characters = string.printable\n",
    "n_characters = len(all_characters)\n",
    "\n",
    "file = unidecode.unidecode(open('alice_in_wonderland.txt').read())\n",
    "file_len = len(file)\n",
    "print('file_len =', file_len)"
   ]
  },
  {
   "cell_type": "code",
   "execution_count": null,
   "metadata": {},
   "outputs": [],
   "source": [
    "chunk_len = 200\n",
    "\n",
    "def random_chunk():\n",
    "    start_index = random.randint(0, file_len - chunk_len)\n",
    "    end_index = start_index + chunk_len + 1\n",
    "    return file[start_index:end_index]\n",
    "\n",
    "print(random_chunk())"
   ]
  },
  {
   "cell_type": "code",
   "execution_count": null,
   "metadata": {},
   "outputs": [],
   "source": [
    "# Turn string into list of longs\n",
    "def char_tensor(string):\n",
    "    tensor = t.zeros(len(string)).long().unsqueeze(1)\n",
    "    for c in range(len(string)):\n",
    "        tensor[c] = all_characters.index(string[c])\n",
    "    return tensor\n",
    "\n",
    "print(char_tensor('abcDEF'))"
   ]
  },
  {
   "cell_type": "code",
   "execution_count": null,
   "metadata": {},
   "outputs": [],
   "source": [
    "# Prepare training data using number coding:\n",
    "def random_training_set():    \n",
    "    chunk = random_chunk()\n",
    "    inp = char_tensor(chunk[:-1])\n",
    "    target = char_tensor(chunk[1:])\n",
    "    return inp, target\n",
    "\n",
    "print(random_training_set())\n",
    "#print(*random_training_set())"
   ]
  },
  {
   "cell_type": "markdown",
   "metadata": {},
   "source": [
    "### 3.2 The model"
   ]
  },
  {
   "cell_type": "code",
   "execution_count": null,
   "metadata": {},
   "outputs": [],
   "source": [
    "class RNN(nn.Module):\n",
    "    def __init__(self, input_size, hidden_size, output_size, n_layers=1):\n",
    "        super(RNN, self).__init__()\n",
    "        self.input_size = input_size\n",
    "        self.hidden_size = hidden_size\n",
    "        self.output_size = output_size\n",
    "        self.n_layers = n_layers\n",
    "        \n",
    "        self.encoder = nn.Embedding(input_size, hidden_size)\n",
    "        self.gru = nn.GRU(hidden_size, hidden_size, n_layers)\n",
    "        self.decoder = nn.Linear(hidden_size, output_size)\n",
    "    \n",
    "    def forward(self, input, hidden):\n",
    "        input = self.encoder(input.view(1, -1))\n",
    "        output, hidden = self.gru(input.view(1, 1, -1), hidden)\n",
    "        output = self.decoder(output.view(1, -1))\n",
    "        return output, hidden\n",
    "\n",
    "    def init_hidden(self):\n",
    "        return t.zeros(self.n_layers, 1, self.hidden_size)"
   ]
  },
  {
   "cell_type": "code",
   "execution_count": null,
   "metadata": {},
   "outputs": [
    {
     "name": "stdout",
     "output_type": "stream",
     "text": [
      "[23m 48s (1000 5%) 1.7217]\n",
      "Aly just little repeactrate been of down were is dow of you she loik tmate, and to said tees would the\n",
      "    I down eyes, 'I' me aclious not in make, and but wer tow you was t5able in would withould it dore its could, 'Comely, I deardned I prom why soll way Arches the Mouse.\n",
      "\n",
      "'Cat\n",
      "had don't if you deat inded the was cour did the Mouse, 'Reame was, Alice repirto the March I hand\n",
      "then were said the the rethen heard, and her har welones wore litterable the he door had not intating out on a little she h \n",
      "\n",
      "[49m 54s (2000 10%) 1.1834]\n",
      "All interner shole which the poway sueblige the prigas, with the pair little can in, with any\n",
      "that she fither of in an it uppont the sele an thent, and thing\n",
      "his her with a getting haves.\n",
      "\n",
      "'I neeze, who hold looking anied the other way with a person of for the twink an the shough time smationd--'\n",
      "\n",
      "'So she were the pore anyrone intance!'\n",
      "\n",
      "'Choly who scairly, and had be no lay to be nouse had thought of the she work\n",
      "she! the cried the othented you waitener exiciat had nothon of the Queen of quice bo \n",
      "\n",
      "[76m 57s (3000 15%) 1.9186]\n",
      "Alling in buch could with the should at howed heam with round or the felen wascied, in the other in in acpence something the down in a little bothout done scoke behind of the Queen make the table of me on a maces insed, so the little do be\n",
      "in a\n",
      "                   not the Found her, and what the Hattroce she happen so hards how what should but evem say it, that much been began in in mouter of state-poor down house or, and Alice.\n",
      "\n",
      "'Well wish in this the other was someden,' said ben've by just ruph s \n",
      "\n",
      "[104m 23s (4000 20%) 1.5624]\n",
      "Alice had got inusthing, as there's now, 'I'm to higs the King to goime see!'\n",
      "\n",
      "'I've\n",
      "and, if is to say up a momed. 'How find to his you small it, I wanted or there was on then,' said Alice some not the sead to sorturself,' said Alice said Alice close\n",
      "no it, how to Alice excoring in came that in the King, and the King, not on there execution over to that it hiad distrial, to Alice with at it, and how the King: 'Im Avertory, and there's not.' She slates not a right to set then now.\n",
      "\n",
      "Alice has at one \n",
      "\n",
      "[132m 12s (5000 25%) 1.5809]\n",
      "Alice, and\n",
      "aniting she know,\n",
      "                                                    *                           the Mose.\n",
      "\n",
      "'I Can and you on the gare she was only just she thoublay,' said the Kpiep handifilden and who perpiose it for the caresn't not writing prom no, and IS a voor the saw the\n",
      "felt the Cat in as well, the cour, the Loin,' the Hatter you up the.'\n",
      "\n",
      "'I if they and the with the Dormouse they had necers!'\n",
      "\n",
      "'I'll high!'\n",
      "\n",
      "\n",
      "'So Mack you're was\n",
      "it before, 'any up in a long such\n",
      "an it, 'but cur \n",
      "\n",
      "[160m 9s (6000 30%) 1.8004]\n",
      "Alice was surd, there down anything\n",
      "doy the put down you, where was if might someed and first as you go day, well expate, and much could\n",
      "childndered a\n",
      "do next of very might?'\n",
      "\n",
      "The won't you know, why, you did you things you, with the Moutle,' said Alice siddower the way\n",
      "said her provanty not dale to\n",
      "with might she life her a pase of seemed takes to still, who sleaded felt she was said the riducers, and she looking any was to she wish the right shistaid rool of might can to find ould severainions s \n",
      "\n",
      "[188m 9s (7000 35%) 1.3253]\n",
      "Alice faturion minion't about it won't tinking to he did it. But it?'\n",
      "\n",
      "'The pleaded that me say-'\n",
      "\n",
      "'I was a\n",
      "Mick,' there to that such to be singinute\n",
      "\n",
      "'Yuth would neal done for that say up to menone in you stainly minuted another pays out a fining thanked, 'and thought Alice, 'On a get which a cis about think think you got so fay any over,' the Caters her am any guebling to head to hay orduck. 'They was the\n",
      "Rabbid,' said Alice at the\n",
      "Queen any said the White there was quite tory to first there wer \n",
      "\n",
      "[216m 18s (8000 40%) 1.3827]\n",
      "Alice, and surned or had lew that concofters, 'and and did little began the with any remember think:--Dour the mor,\n",
      "'there's prook was she did delengs.'\n",
      "\n",
      "'The Gryphon, 'and a sats of the growent at her\n",
      "head the work that such ting, and he dony postrapitation any exece--and go that be her explame to see much sing had no me on the work, and well and taming oh,\n",
      "'Don is a dever mish know with the like teen you'h man't be an very it and it was grunts as I'll be\n",
      "this the works,' the King very done the s \n",
      "\n",
      "[244m 31s (9000 45%) 1.2915]\n",
      "Alice, she wenty its said other it, quite anging to the took it makity firgess, it a little not, and she tate it was and ouglail, so down she state offemething to the only in the Land say she cento off a plew of make or at like to Alice at sowl, and the Bo the trumber the\n",
      "flam is and tairs, to say it with the world the lobody to pleaded, the Mock Turtle saided to standil (on of the taing on this the shots opence encect\n",
      "other stoops her, perhaps or hastien a nouse her\n",
      "nige it once to the gothing to \n",
      "\n",
      "[272m 45s (10000 50%) 1.6423]\n",
      "Alice heard as she heard in at\n",
      "this intentenly it, and the double, and she was certain was not her hands because\n",
      "Alice becation offere up it off you are an great it sistersternert-the supters, in enoughold with if the Dormouse, any read in the Dir somester, and he were beeptormails, indext asking where was a good rach shouted its be was nousing round the ormange the got been the began a little there, by the beginning of\n",
      "the Queen done to let open.\n",
      "\n",
      "The dagher as its shouted herself of the felt a r \n",
      "\n",
      "[301m 3s (11000 55%) 1.7481]\n",
      "Alice of at the WUSt Gutenberg-tm and down of comying within 90 dain of ratchers, and she were of the you Project Gutenberg Lack it just at the tack--up trotle a growl out at the Prapurrise it, rather of the door concute and of the topt behe were wander.\n",
      "\n",
      "The sat to a roses finging the use apports of the react about as say of one as beal.\n",
      "\n",
      "\n",
      "Leee the groves, any of the hatch what it was am on a locrortant the termose to eBothed please with the jury--and the Queen.\n",
      "\n",
      "'Hrive I'm you know, I clasters c \n",
      "\n",
      "[329m 29s (12000 60%) 1.3865]\n",
      "Alice serpt\n",
      "the pat copyright clound anxiously, and came in sit of the courn it wither or seemed of the -at quietly kitestert out to she crowl.\n",
      "\n",
      "'The Mock Turtle bright they want size to be I hates contoubning.'\n",
      "\n",
      "'I'm on the pabits!' the Gryphing intair presed her fints, 'Dimuse--and she pore is of a call of somestion of the right\n",
      "you dail don't are clilding,' said the Cat'll of I slow you tand with the sare wouldn't had the sooglowing this as the same she said tone, whited, replied was down, the  \n",
      "\n",
      "[357m 51s (13000 65%) 1.2684]\n",
      "Alice was, and she had got up at the pary a lit read page, and won't a voice.\n",
      "\n",
      "'Cer daying and she spoke!'\n",
      "\n",
      "'Should writible!' said Alice, who\n",
      "she had giving having after the other used and sixt he said, some donates bething under the remember herself it: were looked thoughorts with your.\n",
      "\n",
      "'There wonded get as I I having!' Alice was head hurried your spoke, and his she pool, the Queen had got in the pleadfortners ask.\n",
      "\n",
      "'Cit dear! I'll know the poddiagerly with the comfor this ask wish his get a su \n",
      "\n",
      "[385m 50s (14000 70%) 1.6077]\n",
      "Alice was neame, caty going said to go did shook it to sell of next to supping in the partening begin to came the mortly.\n",
      "\n",
      "Ceundering all to herself but ALICE, TOn, the fute of any very to do excepil stille there well\n",
      "                                                                  no pergult gettost of the timing as you jury and\n",
      "the incle we Mant to couldday; in the got on a be under the archile! Alice for you pep, all I'd left full of it some, and exclaimmess about a little she was nearly the f \n",
      "\n"
     ]
    }
   ],
   "source": [
    "n_epochs = 20000\n",
    "print_every = 1000\n",
    "hidden_size = 100\n",
    "n_layers = 1\n",
    "lr = 0.005\n",
    "\n",
    "decoder = RNN(n_characters, hidden_size, n_characters, n_layers)\n",
    "decoder_optimizer = t.optim.Adam(decoder.parameters(), lr=lr)\n",
    "criterion = nn.CrossEntropyLoss()\n",
    "\n",
    "start = time.time()\n",
    "all_losses = [0]\n",
    "loss_avg = 0\n",
    "\n",
    "for epoch in range(1, n_epochs + 1):\n",
    "    loss = train(*random_training_set())\n",
    "    loss_avg += loss\n",
    "\n",
    "    if epoch % print_every == 0:\n",
    "        print('[%s (%d %d%%) %.4f]' % (time_since(start), epoch, epoch / n_epochs * 100, loss))\n",
    "        print(evaluate('Al', 500), '\\n')"
   ]
  }
 ],
 "metadata": {
  "kernelspec": {
   "display_name": "Python 3",
   "language": "python",
   "name": "python3"
  },
  "language_info": {
   "codemirror_mode": {
    "name": "ipython",
    "version": 3
   },
   "file_extension": ".py",
   "mimetype": "text/x-python",
   "name": "python",
   "nbconvert_exporter": "python",
   "pygments_lexer": "ipython3",
   "version": "3.7.1"
  },
  "toc": {
   "base_numbering": 1,
   "nav_menu": {},
   "number_sections": true,
   "sideBar": true,
   "skip_h1_title": false,
   "title_cell": "Table of Contents",
   "title_sidebar": "Contents",
   "toc_cell": false,
   "toc_position": {},
   "toc_section_display": true,
   "toc_window_display": false
  }
 },
 "nbformat": 4,
 "nbformat_minor": 2
}
